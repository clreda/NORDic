{
 "cells": [
  {
   "cell_type": "markdown",
   "id": "1dbd5fb6",
   "metadata": {},
   "source": [
    "# NORDic DR: Adaptive sampling with bandit algorithms\n",
    "\n",
    "The drug signatures and patients/control phenotypes were computed in notebook ``Drug_Simulation.ipynb``.\n",
    "\n",
    "## Library Import"
   ]
  },
  {
   "cell_type": "code",
   "execution_count": 1,
   "id": "efd83bde",
   "metadata": {},
   "outputs": [
    {
     "name": "stdout",
     "output_type": "stream",
     "text": [
      "NORDic==2.4.2\r\n"
     ]
    }
   ],
   "source": [
    "import NORDic\n",
    "! pip freeze | grep \"NORDic\""
   ]
  },
  {
   "cell_type": "code",
   "execution_count": 2,
   "id": "3d121bfe",
   "metadata": {},
   "outputs": [],
   "source": [
    "import pandas as pd\n",
    "import os\n",
    "import random\n",
    "import numpy as np\n",
    "from multiprocessing import cpu_count\n",
    "\n",
    "from scipy.spatial.distance import cdist\n",
    "from sklearn.decomposition import PCA\n",
    "from sklearn.preprocessing import StandardScaler"
   ]
  },
  {
   "cell_type": "code",
   "execution_count": 3,
   "id": "3a014752",
   "metadata": {},
   "outputs": [],
   "source": [
    "from NORDic.UTILS.utils_state import binarize_experiments\n",
    "from NORDic.NORDic_DR.functions import adaptive_testing"
   ]
  },
  {
   "cell_type": "markdown",
   "id": "ade6f313",
   "metadata": {},
   "source": [
    "## Initialization (states, drug signatures, scoring function)"
   ]
  },
  {
   "cell_type": "code",
   "execution_count": 5,
   "id": "bcb17b16",
   "metadata": {},
   "outputs": [],
   "source": [
    "file_folder=\"Breast_Cancer/\"\n",
    "seed_number=0\n",
    "solution_fname=file_folder+\"solution_connected.bnet\"\n",
    "file_folder_DS=file_folder+\"DS/\""
   ]
  },
  {
   "cell_type": "code",
   "execution_count": 6,
   "id": "004cb1a9",
   "metadata": {},
   "outputs": [],
   "source": [
    "signature_fname=file_folder_DS+\"signatures_drugs_binarized.csv\"\n",
    "path_to_initial_states=file_folder+\"initial_states.csv\"\n",
    "## grid search computed in Drug_Simulation notebook (optional)\n",
    "path_to_scores=file_folder_DS+\"scores.csv\"\n",
    "\n",
    "assert os.path.exists(signature_fname) ## signatures\n",
    "assert os.path.exists(path_to_initial_states) ## phenotypes"
   ]
  },
  {
   "cell_type": "code",
   "execution_count": 7,
   "id": "4abadec4",
   "metadata": {},
   "outputs": [],
   "source": [
    "## drug signatures\n",
    "signatures = pd.read_csv(signature_fname, index_col=0)\n",
    "signatures = signatures.T.dropna(how=\"all\").T\n",
    "\n",
    "## ground truth from GDSC database\n",
    "zIC50 = pd.read_csv(file_folder_DS+\"Cellline_downloadWed Apr 19 15 48 11 2023.csv\", \n",
    "                  index_col=1)[[\"Z Score\"]]\n",
    "zIC50 = -zIC50.loc[~zIC50.index.duplicated()]\n",
    "zIC50.columns = [\"Ground Truth\"]\n",
    "\n",
    "## patient phenotypes\n",
    "metadata = pd.read_csv(file_folder+\"metadata_GSE42568.tsv\", index_col=0, sep=\" \\t\", engine=\"python\", header=None)\n",
    "df = pd.read_csv(path_to_initial_states, index_col=0)\n",
    "metadata_patients = metadata.loc[[i for i in metadata.index if (\"cancer\" in metadata.loc[i][1])]]\n",
    "metadata_controls = metadata.loc[[i for i in metadata.index if (\"cancer\" not in metadata.loc[i][1])]]\n",
    "patients = df[[i for i in metadata_patients.index if (i in df.columns)]]\n",
    "controls = df[[i for i in metadata_controls.index if (i in df.columns)]]\n",
    "phenotypes = pd.concat((patients, controls), axis=1)\n",
    "phenotypes.loc[\"annotation\"] = [2]*patients.shape[1]+[1]*controls.shape[1]\n",
    "samples = list(phenotypes.loc[\"annotation\"])\n",
    "## Same approach as in Drug_Simulation.ipynb\n",
    "dfsdata = phenotypes.loc[[idx for idx in phenotypes.index if (idx!=\"annotation\")]]\n",
    "bin_mat = binarize_experiments(dfsdata, thres=0.5, method=\"binary\")\n",
    "bin_mat = bin_mat.dropna()\n",
    "states = bin_mat.astype(int)\n",
    "outliers_ctrls = [105,106,107]\n",
    "samples = [samples[i] for i in range(len(samples)) if (i not in outliers_ctrls)]\n",
    "states = states[[states.columns[i] for i in range(len(samples)) if (i not in outliers_ctrls)]]"
   ]
  },
  {
   "cell_type": "code",
   "execution_count": 8,
   "id": "f243c2f3",
   "metadata": {},
   "outputs": [
    {
     "name": "stdout",
     "output_type": "stream",
     "text": [
      "104 patients, 104 drugs = 6032 simulations in a grid search\n"
     ]
    },
    {
     "data": {
      "text/html": [
       "<div>\n",
       "<style scoped>\n",
       "    .dataframe tbody tr th:only-of-type {\n",
       "        vertical-align: middle;\n",
       "    }\n",
       "\n",
       "    .dataframe tbody tr th {\n",
       "        vertical-align: top;\n",
       "    }\n",
       "\n",
       "    .dataframe thead th {\n",
       "        text-align: right;\n",
       "    }\n",
       "</style>\n",
       "<table border=\"1\" class=\"dataframe\">\n",
       "  <thead>\n",
       "    <tr style=\"text-align: right;\">\n",
       "      <th></th>\n",
       "      <th>Score</th>\n",
       "    </tr>\n",
       "  </thead>\n",
       "  <tbody>\n",
       "    <tr>\n",
       "      <th>Doramapimod</th>\n",
       "      <td>0.530612</td>\n",
       "    </tr>\n",
       "    <tr>\n",
       "      <th>Temsirolimus</th>\n",
       "      <td>0.526310</td>\n",
       "    </tr>\n",
       "    <tr>\n",
       "      <th>Camptothecin</th>\n",
       "      <td>0.516994</td>\n",
       "    </tr>\n",
       "    <tr>\n",
       "      <th>Cediranib</th>\n",
       "      <td>0.516183</td>\n",
       "    </tr>\n",
       "    <tr>\n",
       "      <th>Lapatinib</th>\n",
       "      <td>0.515306</td>\n",
       "    </tr>\n",
       "  </tbody>\n",
       "</table>\n",
       "</div>"
      ],
      "text/plain": [
       "                 Score\n",
       "Doramapimod   0.530612\n",
       "Temsirolimus  0.526310\n",
       "Camptothecin  0.516994\n",
       "Cediranib     0.516183\n",
       "Lapatinib     0.515306"
      ]
     },
     "execution_count": 8,
     "metadata": {},
     "output_type": "execute_result"
    }
   ],
   "source": [
    "assert os.path.exists(path_to_scores)\n",
    "scores = pd.read_csv(path_to_scores, index_col=0) \n",
    "\n",
    "## use score matrix stored in memory to decrease runtime (for demonstration purposes)\n",
    "rewards_fname = file_folder_DS+\"rewards.csv\"\n",
    "if (not os.path.exists(rewards_fname)):\n",
    "    scores.to_csv(rewards_fname)\n",
    "\n",
    "args = (scores.shape[0], scores.shape[0], scores.shape[1]*scores.shape[0])\n",
    "print(\"%d patients, %d drugs = %d simulations in a grid search\" % args)\n",
    "\n",
    "scores_mean = pd.DataFrame(scores.mean(axis=0), columns=[\"Score\"]) ## average drug score across all patients\n",
    "scores_mean.sort_values(by=\"Score\", ascending=False).head()"
   ]
  },
  {
   "cell_type": "code",
   "execution_count": 9,
   "id": "31a9fb7c",
   "metadata": {},
   "outputs": [],
   "source": [
    "## Scoring function for drugs\n",
    "def score(attrs):\n",
    "    idxs = [g for g in list(attrs.index) if (g in list(states.index))]\n",
    "    dists = cdist(attrs.loc[idxs].values.T, states.loc[idxs].values.T, metric='cityblock')\n",
    "    scores_attrs = []\n",
    "    for ia in range(attrs.shape[1]):\n",
    "        min_dist = np.min(dists[ia,:])/float(len(idxs))\n",
    "        argmin_dist = [samples[y] for x, y in list(np.argwhere(dists[ia,:] == min_dist))]\n",
    "        nctrl, npat = [sum([x for x in argmin_dist if (x==v)]) for v in [1,2]]\n",
    "        scores_attrs.append(min_dist*(-1)**int(npat>nctrl))\n",
    "    return np.array(scores_attrs)"
   ]
  },
  {
   "cell_type": "markdown",
   "id": "1630e713",
   "metadata": {},
   "source": [
    "## Initialization of drug features (as PCA components) and call to the bandit algorithm"
   ]
  },
  {
   "cell_type": "code",
   "execution_count": 33,
   "id": "64ee9f7e",
   "metadata": {
    "scrolled": true
   },
   "outputs": [
    {
     "name": "stdout",
     "output_type": "stream",
     "text": [
      "Explained variance 65.7\n",
      "<NORDic DR> Avg. #samples = 5340, avg. runtime 29.527869988918305 sec (over 500 iterations)\n"
     ]
    }
   ],
   "source": [
    "random.seed(seed_number)\n",
    "np.random.seed(seed_number)\n",
    "\n",
    "n_components=6\n",
    "pca, scaler = PCA(n_components=n_components), StandardScaler()\n",
    "X = targets1.values.T\n",
    "X = scaler.fit_transform(X)\n",
    "pca.fit(X)\n",
    "print(\"Explained variance %.1f\" % np.cumsum(pca.explained_variance_)[-1])\n",
    "X_pca = pca.transform(X)\n",
    "features1 = pd.DataFrame(X_pca.T, index=[\"PC%d\" % (i+1) for i in range(n_components)], columns=targets1.columns)\n",
    "\n",
    "BANDIT_args = {\n",
    "    'bandit': 'LinGapE', \n",
    "    #type of algorithm, (greedy) LinGapE is faster but more prone to errors \n",
    "    #(assumes that the model is linear)\n",
    "    'seed': seed_number,\n",
    "    'delta': 0.1, #error rate\n",
    "    'nsimu': 500, #number of repeats\n",
    "    'm': 1, #number of recommendations to make\n",
    "    'c': 0., #nonnegative parameter to tune for MisLid (if the model is linear, set to 0\n",
    "    ## To speed up the algorithm, decrease c\n",
    "    ## To ensure correctness of the recommendation, increase c\n",
    "    'sigma': 1,\n",
    "    'beta': \"heuristic\",\n",
    "    'epsilon': 0.1,\n",
    "    'tracking_type': \"D\",\n",
    "    'gain_type': \"empirical\",\n",
    "    'learner': \"AdaHedge\"\n",
    "}\n",
    "\n",
    "njobs=max(1,cpu_count()-2)\n",
    "SIMU_params = {\n",
    "    'nb_sims': 100,\n",
    "    'rates': \"fully_asynchronous\",\n",
    "    'thread_count': njobs,\n",
    "    'depth': \"constant_unitary\",\n",
    "}\n",
    "\n",
    "## target vectors for the simulation\n",
    "targets=signatures\n",
    "idxs = [g for g in targets.index if (g in patients.index)]\n",
    "patients1, targets1 = patients.loc[idxs], targets.loc[idxs]\n",
    "targets1[targets1 == 0] = -1\n",
    "targets1 = targets1.fillna(0)\n",
    "\n",
    "## if no prior grid search has been performed, one might set reward_fname=None\n",
    "recommendation = adaptive_testing(solution_fname, features1, targets1, score, patients1, \n",
    "       SIMU_params, BANDIT_args, reward_fname=rewards_fname, quiet=False).T"
   ]
  },
  {
   "cell_type": "code",
   "execution_count": 29,
   "id": "1932a2df",
   "metadata": {},
   "outputs": [
    {
     "data": {
      "text/html": [
       "<div>\n",
       "<style scoped>\n",
       "    .dataframe tbody tr th:only-of-type {\n",
       "        vertical-align: middle;\n",
       "    }\n",
       "\n",
       "    .dataframe tbody tr th {\n",
       "        vertical-align: top;\n",
       "    }\n",
       "\n",
       "    .dataframe thead th {\n",
       "        text-align: right;\n",
       "    }\n",
       "</style>\n",
       "<table border=\"1\" class=\"dataframe\">\n",
       "  <thead>\n",
       "    <tr style=\"text-align: right;\">\n",
       "      <th></th>\n",
       "      <th>Frequency</th>\n",
       "      <th>Score</th>\n",
       "      <th>Ground Truth</th>\n",
       "    </tr>\n",
       "  </thead>\n",
       "  <tbody>\n",
       "    <tr>\n",
       "      <th>Temsirolimus</th>\n",
       "      <td>1.0</td>\n",
       "      <td>0.526310</td>\n",
       "      <td>0.657906</td>\n",
       "    </tr>\n",
       "    <tr>\n",
       "      <th>Afatinib</th>\n",
       "      <td>0.0</td>\n",
       "      <td>0.331633</td>\n",
       "      <td>-1.106644</td>\n",
       "    </tr>\n",
       "    <tr>\n",
       "      <th>Sorafenib</th>\n",
       "      <td>0.0</td>\n",
       "      <td>0.464089</td>\n",
       "      <td>0.590431</td>\n",
       "    </tr>\n",
       "    <tr>\n",
       "      <th>Mirin</th>\n",
       "      <td>0.0</td>\n",
       "      <td>0.387755</td>\n",
       "      <td>-0.349519</td>\n",
       "    </tr>\n",
       "    <tr>\n",
       "      <th>Mitoxantrone</th>\n",
       "      <td>0.0</td>\n",
       "      <td>0.418367</td>\n",
       "      <td>-1.162713</td>\n",
       "    </tr>\n",
       "  </tbody>\n",
       "</table>\n",
       "</div>"
      ],
      "text/plain": [
       "              Frequency     Score  Ground Truth\n",
       "Temsirolimus        1.0  0.526310      0.657906\n",
       "Afatinib            0.0  0.331633     -1.106644\n",
       "Sorafenib           0.0  0.464089      0.590431\n",
       "Mirin               0.0  0.387755     -0.349519\n",
       "Mitoxantrone        0.0  0.418367     -1.162713"
      ]
     },
     "execution_count": 29,
     "metadata": {},
     "output_type": "execute_result"
    }
   ],
   "source": [
    "## average recommendation across all 500 iterations\n",
    "rec = recommendation.join(scores_mean)\n",
    "rec.join(zIC50).sort_values(by=\"Frequency\", ascending=False).head()"
   ]
  }
 ],
 "metadata": {
  "kernelspec": {
   "display_name": "Python 3 (ipykernel)",
   "language": "python",
   "name": "python3"
  },
  "language_info": {
   "codemirror_mode": {
    "name": "ipython",
    "version": 3
   },
   "file_extension": ".py",
   "mimetype": "text/x-python",
   "name": "python",
   "nbconvert_exporter": "python",
   "pygments_lexer": "ipython3",
   "version": "3.8.5"
  }
 },
 "nbformat": 4,
 "nbformat_minor": 5
}
