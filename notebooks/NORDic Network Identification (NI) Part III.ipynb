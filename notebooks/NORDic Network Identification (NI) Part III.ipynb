{
 "cells": [
  {
   "cell_type": "markdown",
   "id": "dfd2d89d",
   "metadata": {},
   "source": [
    "# Congenital Central Hypoventilation syndrome (\"Ondine syndrome\") from an existing set of genes"
   ]
  },
  {
   "cell_type": "markdown",
   "id": "eeb2a370",
   "metadata": {},
   "source": [
    "This notebook assumes that you have read **NORDic Network Identification (NI) Part I**. "
   ]
  },
  {
   "cell_type": "markdown",
   "id": "2f6c5eec",
   "metadata": {},
   "source": [
    "## Installation"
   ]
  },
  {
   "cell_type": "code",
   "execution_count": 6,
   "id": "ae95c922",
   "metadata": {},
   "outputs": [
    {
     "name": "stdout",
     "output_type": "stream",
     "text": [
      "NORDic==2.2.4\r\n"
     ]
    }
   ],
   "source": [
    "import NORDic\n",
    "! pip freeze | grep \"NORDic\""
   ]
  },
  {
   "cell_type": "markdown",
   "id": "30d7de01",
   "metadata": {},
   "source": [
    "## Parameters for NORDic (from Part I)"
   ]
  },
  {
   "cell_type": "code",
   "execution_count": 7,
   "id": "f55bf8bf",
   "metadata": {},
   "outputs": [],
   "source": [
    "file_folder=\"MODELS/Ondine_existing_genes/\" ## the folder name is changed"
   ]
  },
  {
   "cell_type": "markdown",
   "id": "473ee0ce",
   "metadata": {},
   "source": [
    "Refer to Part I for further details."
   ]
  },
  {
   "cell_type": "code",
   "execution_count": 8,
   "id": "bc55c70b",
   "metadata": {},
   "outputs": [],
   "source": [
    "## Registration to databases\n",
    "DisGeNET_credentials = \"../tests/credentials_DISGENET.txt\"\n",
    "STRING_credentials = \"../tests/credentials_STRING.txt\"\n",
    "LINCS_credentials = \"../tests/credentials_LINCS.txt\"\n",
    "\n",
    "## Parameters\n",
    "seed_number=123456\n",
    "from multiprocessing import cpu_count\n",
    "njobs=max(1,cpu_count()-2)\n",
    "taxon_id=9606 # human species\n",
    "disease_cids=[\"C1275808\"] \n",
    "cell_lines=[\"NPC\", \"SHSY5Y\"]\n",
    "\n",
    "## Information about the disease\n",
    "DISGENET_args = {\n",
    "        \"credentials\": DisGeNET_credentials, \"disease_cids\": disease_cids,\n",
    "}\n",
    "\n",
    "## Selection of parameters relative to the prior knowledge network \n",
    "STRING_args = {\n",
    "        \"credentials\": STRING_credentials, \"score\": 0,\n",
    "}\n",
    "EDGE_args = {\n",
    "        \"tau\": 0, \"filter\": True, \"connected\": True, \n",
    "}\n",
    "\n",
    "## Selection of parameters relative to experimental constraints\n",
    "LINCS_args = {\n",
    "        \"path_to_lincs\": \"../lincs/\", \"credentials\": LINCS_credentials,\n",
    "        \"cell_lines\": cell_lines, \"thres_iscale\": None,\n",
    "}\n",
    "SIG_args = {\n",
    "        \"bin_thres\": 0.5,\n",
    "}\n",
    "\n",
    "## Selection of parameters relative to the inference of networks\n",
    "BONESIS_args = {\n",
    "        \"limit\": 1, \"exact\": True, \"max_maxclause\": 3,\n",
    "}\n",
    "\n",
    "## Advanced\n",
    "DESIRABILITY = {\"DS\": 3, \"CL\": 3, \"Centr\": 3, \"GT\": 1}"
   ]
  },
  {
   "cell_type": "markdown",
   "id": "d2dfd761",
   "metadata": {},
   "source": [
    "## Using a predetermined set of genes in NORDic"
   ]
  },
  {
   "cell_type": "markdown",
   "id": "07f48ccf",
   "metadata": {},
   "source": [
    "The network inferred in **NORDic Network Identification (NI) Part I** might not be very interesting, due to the small number of genes. **NORDic** allows feeding an existing network to the network identification pipeline, which means that the set of genes and/or a putative prior knowledge network are provided to the pipeline."
   ]
  },
  {
   "cell_type": "markdown",
   "id": "5eee9eee",
   "metadata": {},
   "source": [
    "### A. Structure of a predetermined set of genes to **NORDic**"
   ]
  },
  {
   "cell_type": "markdown",
   "id": "24e03791",
   "metadata": {},
   "source": [
    "Any gene set in input to **NORDic** is a .TXT file where each row corresponds to a single gene."
   ]
  },
  {
   "cell_type": "markdown",
   "id": "fd2c0a3d",
   "metadata": {},
   "source": [
    "In this example, we retrieve a set of interactions from the STRING database which involve at least one gene from the network inferred in **Part I**."
   ]
  },
  {
   "cell_type": "code",
   "execution_count": 9,
   "id": "418abcae",
   "metadata": {},
   "outputs": [
    {
     "data": {
      "text/plain": [
       "['ASCL1', 'BDNF', 'EDN3', 'GDNF', 'PHOX2B']"
      ]
     },
     "execution_count": 9,
     "metadata": {},
     "output_type": "execute_result"
    }
   ],
   "source": [
    "from NORDic.UTILS.STRING_utils import get_interactions_from_STRING\n",
    "\n",
    "with open(\"MODELS/Ondine/solution.bnet\", \"r\") as f:\n",
    "    gene_list = [s.split(\" <- \")[0] for s in f.read().split(\"\\n\")]\n",
    "gene_list"
   ]
  },
  {
   "cell_type": "code",
   "execution_count": 10,
   "id": "59880fad",
   "metadata": {},
   "outputs": [
    {
     "name": "stdout",
     "output_type": "stream",
     "text": [
      "<STRING> Retrieving the file from STRING... Saved at MODELS/Ondine_existing_genes/protein_action_v11.0.tsv\n",
      "<STRING> Getting the STRING name mapping for genes\n",
      "<STRING> Getting the STRING name mapping for genes\n",
      "... Protein identifier matching\n",
      "... Signed\n",
      "... Directed\n",
      "... Aggregate info\n",
      "... Solve conflicts on direction\n",
      "... Solve conflicts on sign\n",
      "... Aggregate info again\n",
      "... Remove multiple undirected edges\n"
     ]
    },
    {
     "data": {
      "text/html": [
       "<div>\n",
       "<style scoped>\n",
       "    .dataframe tbody tr th:only-of-type {\n",
       "        vertical-align: middle;\n",
       "    }\n",
       "\n",
       "    .dataframe tbody tr th {\n",
       "        vertical-align: top;\n",
       "    }\n",
       "\n",
       "    .dataframe thead th {\n",
       "        text-align: right;\n",
       "    }\n",
       "</style>\n",
       "<table border=\"1\" class=\"dataframe\">\n",
       "  <thead>\n",
       "    <tr style=\"text-align: right;\">\n",
       "      <th></th>\n",
       "      <th>preferredName_A</th>\n",
       "      <th>preferredName_B</th>\n",
       "      <th>sign</th>\n",
       "      <th>directed</th>\n",
       "      <th>score</th>\n",
       "    </tr>\n",
       "  </thead>\n",
       "  <tbody>\n",
       "    <tr>\n",
       "      <th>0</th>\n",
       "      <td>PHOX2B</td>\n",
       "      <td>ASCL1</td>\n",
       "      <td>1</td>\n",
       "      <td>1</td>\n",
       "      <td>0.429</td>\n",
       "    </tr>\n",
       "    <tr>\n",
       "      <th>1</th>\n",
       "      <td>GDNF</td>\n",
       "      <td>BDNF</td>\n",
       "      <td>1</td>\n",
       "      <td>1</td>\n",
       "      <td>0.426</td>\n",
       "    </tr>\n",
       "  </tbody>\n",
       "</table>\n",
       "</div>"
      ],
      "text/plain": [
       "  preferredName_A preferredName_B  sign  directed  score\n",
       "0          PHOX2B           ASCL1     1         1  0.429\n",
       "1            GDNF            BDNF     1         1  0.426"
      ]
     },
     "execution_count": 10,
     "metadata": {},
     "output_type": "execute_result"
    }
   ],
   "source": [
    "from subprocess import call as sbcall\n",
    "sbcall(\"mkdir -p \"+file_folder, shell=True)\n",
    "\n",
    "## Get physical interactions from the STRING database involving the list of genes in input\n",
    "PPI = get_interactions_from_STRING(gene_list, taxon_id, strict=True, version=\"11.0\",\n",
    "                                   min_score=0, app_name=\"NORDic_packagePartII\",file_folder=file_folder)\n",
    "PPI"
   ]
  },
  {
   "cell_type": "code",
   "execution_count": 11,
   "id": "d1a9e1fc",
   "metadata": {},
   "outputs": [
    {
     "data": {
      "text/plain": [
       "'4 genes'"
      ]
     },
     "execution_count": 11,
     "metadata": {},
     "output_type": "execute_result"
    }
   ],
   "source": [
    "## Get all genes in this PPI\n",
    "genes = list(set(list(PPI[\"preferredName_A\"])+list(PPI[\"preferredName_B\"])))\n",
    "## Save that list in a .TXT file\n",
    "with open(file_folder+\"genes.txt\", \"w\") as f:\n",
    "    f.write(\"\\n\".join(genes))\n",
    "\"%d genes\" % len(genes)"
   ]
  },
  {
   "cell_type": "markdown",
   "id": "dce40e5c",
   "metadata": {},
   "source": [
    "### B. Parameter finetuning"
   ]
  },
  {
   "cell_type": "code",
   "execution_count": 12,
   "id": "137a6b1d",
   "metadata": {},
   "outputs": [],
   "source": [
    "STRING_args.update({\"score\": 0.9})\n",
    "EDGE_args.update({\"tau\": 0.3, \"filter\": True, \"connected\": True})\n",
    "SIG_args.update({\"bin_thres\": 0.15})\n",
    "LINCS_args.update({\"thres_iscale\": 0})\n",
    "BONESIS_args.update({\"limit\": 200, \"exact\": False, \"max_maxclause\": 3})\n",
    "\n",
    "## We use the set of genes defined above\n",
    "path_to_genes = file_folder+\"genes.txt\""
   ]
  },
  {
   "cell_type": "markdown",
   "id": "51a6efd7",
   "metadata": {},
   "source": [
    "### C. Network identification using a predetermined set of genes"
   ]
  },
  {
   "cell_type": "code",
   "execution_count": null,
   "id": "b318a33f",
   "metadata": {
    "scrolled": true
   },
   "outputs": [
    {
     "name": "stdout",
     "output_type": "stream",
     "text": [
      "--- DATA IMPORT ---\n",
      "1. Import gene set from MODELS/Ondine_existing_genes/genes.txt... ... 3 genes imported.\n",
      "2. Import network from STRING... ... 13649 edges in model (including 0 directed edges) with a total of 341 non-isolated genes\n",
      "3. Import experiments from LINCS L1000... \n",
      "\t2 cell lines are considered (['NPC', 'SHSY5Y'])\n",
      "\t341 genes available (convertable to EntrezIDs)\n",
      "\t\t339/341 genes retrieved in LINCS L1000\n",
      "... 284 genes in 119 profiles (17 experiments)\n",
      "\n",
      "--- CONSTRAINT BUILDING ---\n",
      "1. Filtering out edges by minimum set of edges with highest score which preserve connectivity... ... 10017 unique edges involving genes both in experiments (272 genes in total)\n",
      "... score_STRING 0.900000\t220 genes (non isolated in PPI)\t3220 edges in PPI\n",
      "2. Build topological constraints from filtered edges using gene expression data...  ...... 232 negative, 226 positive undirected interactions (458 edges in total), 220 non isolated genes in experiments\n",
      "3. Build dynamical constraints by binarization of experimental profiles...  ...          CREB1_KD_NPC  FOS_KD_NPC  GNA11_KD_NPC  DECR1_KD_NPC  CLSTN1_KD_NPC  \\\n",
      "ADRA1D             NaN         NaN           NaN           NaN            NaN   \n",
      "HIST1H1A           NaN         NaN           NaN           NaN            0.0   \n",
      "GRB10              NaN         NaN           NaN           NaN            NaN   \n",
      "GAST               NaN         NaN           NaN           NaN            NaN   \n",
      "DUSP1              NaN         NaN           NaN           NaN            NaN   \n",
      "...                ...         ...           ...           ...            ...   \n",
      "GNG5               NaN         NaN           NaN           NaN            1.0   \n",
      "RAP1B              NaN         NaN           NaN           NaN            NaN   \n",
      "PTGER1             0.0         NaN           NaN           NaN            NaN   \n",
      "TRH                NaN         NaN           NaN           NaN            NaN   \n",
      "HDAC9              NaN         NaN           1.0           NaN            NaN   \n",
      "\n",
      "          DOK4_KD_NPC  BHLHE40_KD_NPC  NRAS_KD_NPC  GNB5_KD_NPC  \\\n",
      "ADRA1D            NaN             0.0          NaN          NaN   \n",
      "HIST1H1A          NaN             NaN          NaN          NaN   \n",
      "GRB10             NaN             NaN          NaN          NaN   \n",
      "GAST              NaN             NaN          NaN          NaN   \n",
      "DUSP1             NaN             NaN          NaN          NaN   \n",
      "...               ...             ...          ...          ...   \n",
      "GNG5              NaN             NaN          NaN          NaN   \n",
      "RAP1B             NaN             NaN          NaN          NaN   \n",
      "PTGER1            NaN             NaN          NaN          NaN   \n",
      "TRH               NaN             NaN          NaN          NaN   \n",
      "HDAC9             NaN             NaN          NaN          NaN   \n",
      "\n",
      "          CTNND1_KD_NPC  STMN1_KD_NPC  MAP2K5_KD_NPC  initial_NPC  \\\n",
      "ADRA1D              0.0           NaN            NaN          NaN   \n",
      "HIST1H1A            NaN           NaN            NaN          NaN   \n",
      "GRB10               NaN           0.0            0.0          NaN   \n",
      "GAST                0.0           NaN            NaN          NaN   \n",
      "DUSP1               NaN           NaN            NaN          NaN   \n",
      "...                 ...           ...            ...          ...   \n",
      "GNG5                NaN           NaN            NaN          1.0   \n",
      "RAP1B               1.0           NaN            NaN          NaN   \n",
      "PTGER1              NaN           NaN            NaN          NaN   \n",
      "TRH                 NaN           NaN            NaN          NaN   \n",
      "HDAC9               NaN           NaN            NaN          NaN   \n",
      "\n",
      "          CTNNB1_KD_SHSY5Y  HDAC9_KD_SHSY5Y  TP53_KD_SHSY5Y  TCF7L1_KD_SHSY5Y  \\\n",
      "ADRA1D                 NaN              NaN             NaN               NaN   \n",
      "HIST1H1A               NaN              NaN             NaN               NaN   \n",
      "GRB10                  NaN              NaN             NaN               NaN   \n",
      "GAST                   NaN              NaN             NaN               NaN   \n",
      "DUSP1                  NaN              NaN             1.0               NaN   \n",
      "...                    ...              ...             ...               ...   \n",
      "GNG5                   NaN              NaN             NaN               NaN   \n",
      "RAP1B                  NaN              NaN             NaN               NaN   \n",
      "PTGER1                 NaN              NaN             NaN               NaN   \n",
      "TRH                    NaN              NaN             NaN               NaN   \n",
      "HDAC9                  NaN              NaN             NaN               NaN   \n",
      "\n",
      "          MEF2C_KD_SHSY5Y  initial_SHSY5Y  \n",
      "ADRA1D                NaN             NaN  \n",
      "HIST1H1A              NaN             NaN  \n",
      "GRB10                 NaN             NaN  \n",
      "GAST                  NaN             NaN  \n",
      "DUSP1                 NaN             NaN  \n",
      "...                   ...             ...  \n",
      "GNG5                  NaN             NaN  \n",
      "RAP1B                 NaN             NaN  \n",
      "PTGER1                0.0             NaN  \n",
      "TRH                   NaN             1.0  \n",
      "HDAC9                 NaN             NaN  \n",
      "\n",
      "[134 rows x 19 columns]\n",
      "... 17 experiments on 2 cell lines and 134/220 genes (Frobenius norm signature matrix: 17.378, 201 possibly constant genes: 91.4%, 86 genes with undetermined status\n",
      "\n",
      "--- INFER BOOLEAN NETWORK ---\n",
      "1. Generate solutions from topological & dynamical constraints...  ...<UTILS_GRN> Maximum possible #activators=10\n",
      "<BONESIS> 458 interactions (maximum # of clauses = 3)\n",
      "\n",
      "<UTILS_GRN> 10 experiments\n",
      "            RAF1 FOS MMP1 IL1B EPCAM RBPJ MMP7 CREB1 DYNLT1 NRAS SHC3 GFRA4  \\\n",
      "Exp1_init      1   0    0    0     0    1    0     0                          \n",
      "Exp3_init      1   0    0    0     0    1    0                                \n",
      "Exp4_init      1   0    0    0     0    1    0                                \n",
      "Exp5_init      1   0    0    0     0    1    0                                \n",
      "Exp6_init      1   0    0    0     0    1    0                                \n",
      "Exp7_init      1   0    0    0     0    1    0                                \n",
      "Exp9_init      1   0    0    0     0    1    0                 0              \n",
      "Exp5_final         0               0                                          \n",
      "Exp6_final         0    0          0    1    0                                \n",
      "Exp2_final              0          0    1                                     \n",
      "Exp9_final              0    0     0                           0              \n",
      "Exp10_final             0          0    1                      0              \n",
      "Exp1_final                   0     0               0      1    1    0     0   \n",
      "Exp2_init                    0     0                                          \n",
      "Exp4_final                   0          1                                 0   \n",
      "Exp8_init                    0     0                                          \n",
      "Exp10_init                   0     0                                          \n",
      "Exp3_final                         0                           1              \n",
      "Exp8_final                         0    1                                     \n",
      "Exp7_final                                                                    \n",
      "\n",
      "            NTF3 CRK GNB2 GNG12 TACR2 HMOX1 APP GNGT1 PRKCA XCL1 GNA15 PTPN2  \\\n",
      "Exp1_init                                                                      \n",
      "Exp3_init                                                                      \n",
      "Exp4_init                                                                      \n",
      "Exp5_init                                                                      \n",
      "Exp6_init                                                                      \n",
      "Exp7_init                                                                      \n",
      "Exp9_init                                                                      \n",
      "Exp5_final                                0   1                                \n",
      "Exp6_final                                                                     \n",
      "Exp2_final                                0                                    \n",
      "Exp9_final                                    1     0     1          0     1   \n",
      "Exp10_final        1                          1                                \n",
      "Exp1_final     0   1    1     1     0                                          \n",
      "Exp2_init                                 1   0     0     1    0     0     1   \n",
      "Exp4_final              1                     1                                \n",
      "Exp8_init                                 1   0     0     1    0     0     1   \n",
      "Exp10_init                                1   0     0     1    0     0     1   \n",
      "Exp3_final         1                                                           \n",
      "Exp8_final                                0   1                                \n",
      "Exp7_final                                    1                                \n",
      "\n",
      "            NOTCH1 GRB7 GCG IL37 PIK3CA SIGMAR1 SPHK1 CTNNB1 MMP9 GNRHR TRH  \\\n",
      "Exp1_init                                                                     \n",
      "Exp3_init                                                                     \n",
      "Exp4_init                                                                     \n",
      "Exp5_init                                                                     \n",
      "Exp6_init                                                                     \n",
      "Exp7_init                                                                     \n",
      "Exp9_init                                                                     \n",
      "Exp5_final            1               1                                       \n",
      "Exp6_final                                                                    \n",
      "Exp2_final                                                 0                  \n",
      "Exp9_final                0           0                                       \n",
      "Exp10_final                                                                   \n",
      "Exp1_final                                                                    \n",
      "Exp2_init        0    0   0    0      0       1     1      0    0     0   1   \n",
      "Exp4_final                     0                                              \n",
      "Exp8_init        0    0   0    0      0       1     1           0     0   1   \n",
      "Exp10_init       0    0   0    0      0       1     1           0     0   1   \n",
      "Exp3_final                            1                                       \n",
      "Exp8_final                                                                    \n",
      "Exp7_final            1                                                       \n",
      "\n",
      "            CTNND1 CREBBP CDH1 EGF PTGER1 GNG10 RELN LEP DOK4 ADRA1D GAST  \\\n",
      "Exp1_init                                                                   \n",
      "Exp3_init        0                                                          \n",
      "Exp4_init                                                   0               \n",
      "Exp5_init                                                                   \n",
      "Exp6_init                                                                   \n",
      "Exp7_init                                                                   \n",
      "Exp9_init                                                                   \n",
      "Exp5_final                       0                                          \n",
      "Exp6_final                       0                                          \n",
      "Exp2_final       1      1    0   0      0                                   \n",
      "Exp9_final                              0                                   \n",
      "Exp10_final                  0                                              \n",
      "Exp1_final                                                                  \n",
      "Exp2_init                                                                   \n",
      "Exp4_final                                         1        0      0    0   \n",
      "Exp8_init                                                                   \n",
      "Exp10_init                                                                  \n",
      "Exp3_final       0                            1    0   1                    \n",
      "Exp8_final                       0                                          \n",
      "Exp7_final       1                                                          \n",
      "\n",
      "            GNAQ P2RY2 CCND1 CDH5 IRS2 PLG ADRB2 GRM5 GNRH2 BCL2A1 RAP1B EGR3  \\\n",
      "Exp1_init                                                                       \n",
      "Exp3_init                                                                       \n",
      "Exp4_init                                                                       \n",
      "Exp5_init                                                                       \n",
      "Exp6_init                                                                       \n",
      "Exp7_init                                                                       \n",
      "Exp9_init                                                                       \n",
      "Exp5_final                                                                  0   \n",
      "Exp6_final                                                                      \n",
      "Exp2_final                                                                      \n",
      "Exp9_final                                     1                                \n",
      "Exp10_final                                                                     \n",
      "Exp1_final                                                                      \n",
      "Exp2_init                                                                       \n",
      "Exp4_final     0     0     0    0    1   0     0    0     0      0     1        \n",
      "Exp8_init                                                                       \n",
      "Exp10_init                                                                      \n",
      "Exp3_final                                                                      \n",
      "Exp8_final                                                                      \n",
      "Exp7_final                 0                   0                            0   \n",
      "\n",
      "            GNA11 GNB5 MAPK7 EDN1 DOK1 CXCL12 SHC1 OXT GFRA3 BMP4 MEF2C EGR1  \\\n",
      "Exp1_init                                                                      \n",
      "Exp3_init                                                                      \n",
      "Exp4_init                                                                      \n",
      "Exp5_init                                                                      \n",
      "Exp6_init       0                                                              \n",
      "Exp7_init            0                                                         \n",
      "Exp9_init                                                                      \n",
      "Exp5_final                                                                     \n",
      "Exp6_final      0                                                              \n",
      "Exp2_final                                                                     \n",
      "Exp9_final                                                                     \n",
      "Exp10_final                                                                    \n",
      "Exp1_final                                                                     \n",
      "Exp2_init                                                                      \n",
      "Exp4_final                                                                     \n",
      "Exp8_init                                                             0        \n",
      "Exp10_init                                                                     \n",
      "Exp3_final                                                                     \n",
      "Exp8_final                                  0                         0    0   \n",
      "Exp7_final      0    0     1    1    0      0    1   0     0    1              \n",
      "\n",
      "            EPO FGF2 MEF2A CTNNA1 CDH2 SST PTPN11 MCHR1 MYB NR5A1 EIF4EBP1  \\\n",
      "Exp1_init                                                                    \n",
      "Exp3_init                                                                    \n",
      "Exp4_init                                                                    \n",
      "Exp5_init                                                                    \n",
      "Exp6_init                                                                    \n",
      "Exp7_init                                                                    \n",
      "Exp9_init                                                                    \n",
      "Exp5_final                                                                   \n",
      "Exp6_final                                                                   \n",
      "Exp2_final                                                                   \n",
      "Exp9_final    0    1     1      1    1   0      1     0   0     0        1   \n",
      "Exp10_final                                     1         0                  \n",
      "Exp1_final                                                                   \n",
      "Exp2_init                                                                    \n",
      "Exp4_final                                                                   \n",
      "Exp8_init                                                                    \n",
      "Exp10_init                                                                   \n",
      "Exp3_final                                                                   \n",
      "Exp8_final                                                                   \n",
      "Exp7_final                                                                   \n",
      "\n",
      "            NOS3 SORT1 NTRK1 TP53 HTR2B KDR HBZ  \n",
      "Exp1_init                                        \n",
      "Exp3_init                                        \n",
      "Exp4_init                                        \n",
      "Exp5_init                                        \n",
      "Exp6_init                                        \n",
      "Exp7_init                                        \n",
      "Exp9_init                                        \n",
      "Exp5_final                                       \n",
      "Exp6_final                                       \n",
      "Exp2_final                                       \n",
      "Exp9_final     0     0     0                     \n",
      "Exp10_final                     0     0   0   0  \n",
      "Exp1_final                                       \n",
      "Exp2_init                                        \n",
      "Exp4_final                                       \n",
      "Exp8_init                                        \n",
      "Exp10_init                      0                \n",
      "Exp3_final                                       \n",
      "Exp8_final                                       \n",
      "Exp7_final                                       \n"
     ]
    },
    {
     "name": "stderr",
     "output_type": "stream",
     "text": [
      "\r",
      "  0%|                                                                                                    | 0/1 [00:00<?, ?it/s]"
     ]
    },
    {
     "name": "stdout",
     "output_type": "stream",
     "text": [
      "Grounding...done in 0.4s\n",
      "Found 18 solutions in 6.6s (first in 0.7s; rate 0.4s)"
     ]
    }
   ],
   "source": [
    "from NORDic.NORDic_NI.functions import network_identification\n",
    "\n",
    "larger_genes = network_identification(file_folder, taxon_id, \n",
    "            path_to_genes=path_to_genes, disgenet_args=DISGENET_args, \n",
    "            string_args=STRING_args, lincs_args=LINCS_args, edge_args=EDGE_args,\n",
    "            sig_args=SIG_args, bonesis_args=BONESIS_args, weights=DESIRABILITY,\n",
    "            seed=seed_number, network_fname=None, njobs=njobs)"
   ]
  },
  {
   "cell_type": "code",
   "execution_count": null,
   "id": "fa96d10f",
   "metadata": {},
   "outputs": [],
   "source": [
    "from IPython.display import Image\n",
    "Image(filename=file_folder+'inferred_max_criterion_solution.png') "
   ]
  },
  {
   "cell_type": "markdown",
   "id": "a7b997c4",
   "metadata": {},
   "source": [
    "### D. Conclusion"
   ]
  },
  {
   "cell_type": "markdown",
   "id": "061e679d",
   "metadata": {},
   "source": [
    "Note that **NORDic** can receive as inputs both a predetermined gene set (a value of *path_to_genes* not equal to None) and a pre-existing network (a value of *network_fname* not equal to None)."
   ]
  }
 ],
 "metadata": {
  "kernelspec": {
   "display_name": "Python 3 (ipykernel)",
   "language": "python",
   "name": "python3"
  },
  "language_info": {
   "codemirror_mode": {
    "name": "ipython",
    "version": 3
   },
   "file_extension": ".py",
   "mimetype": "text/x-python",
   "name": "python",
   "nbconvert_exporter": "python",
   "pygments_lexer": "ipython3",
   "version": "3.8.5"
  }
 },
 "nbformat": 4,
 "nbformat_minor": 5
}
