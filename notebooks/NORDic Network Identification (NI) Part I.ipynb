{
 "cells": [
  {
   "cell_type": "markdown",
   "id": "6c585eec",
   "metadata": {},
   "source": [
    "# Congenital Central Hypoventilation syndrome (\"Ondine syndrome\") from scratch"
   ]
  },
  {
   "cell_type": "markdown",
   "id": "08971fcc",
   "metadata": {},
   "source": [
    "This vignette displays some examples of what can be achieved using **NORDic** in order to identify gene regulatory networks."
   ]
  },
  {
   "cell_type": "markdown",
   "id": "e2f8986f",
   "metadata": {},
   "source": [
    "## Installation"
   ]
  },
  {
   "cell_type": "code",
   "execution_count": 1,
   "id": "9f33464d",
   "metadata": {},
   "outputs": [
    {
     "name": "stdout",
     "output_type": "stream",
     "text": [
      "-e git+https://github.com/clreda/nordic.git@859bd0341858399c88ca776d508024c9ed4c66c5#egg=NORDic\n"
     ]
    }
   ],
   "source": [
    "import NORDic\n",
    "! pip freeze | grep \"NORDic\""
   ]
  },
  {
   "cell_type": "markdown",
   "id": "6301d7b0",
   "metadata": {},
   "source": [
    "## A. Registration to databases used by NORDic NI"
   ]
  },
  {
   "cell_type": "markdown",
   "id": "3614bd81",
   "metadata": {},
   "source": [
    "In the absence of data normally used for network inference (a prior knowledge network, a set of experiments, a set of genes of interest, ...), **NORDic** retrieves data from public databases. The registration to these databases is free (often only requires an academic e-mail address), time-unlimited, but mandatory."
   ]
  },
  {
   "cell_type": "markdown",
   "id": "78ee1d99",
   "metadata": {},
   "source": [
    "### A.1. Registration to [DisGeNET](https://www.disgenet.org/signup/)"
   ]
  },
  {
   "cell_type": "markdown",
   "id": "2d033591",
   "metadata": {},
   "source": [
    "Click on the link above to sign up to DisGeNET. Once you are registered, open an empty .TXT file, and write down\n",
    "- on the first line: the e-mail address used for registration\n",
    "- on the second line: the chosen password\n",
    "- on the third line: the API key (go to you profile and select the \"API key\" tab)\n",
    "\n",
    "Save the file, and replace the relative path to that file in the cell below"
   ]
  },
  {
   "cell_type": "code",
   "execution_count": 2,
   "id": "7ef9c599",
   "metadata": {},
   "outputs": [],
   "source": [
    "DisGeNET_credentials = \"../tests/credentials_DISGENET.txt\""
   ]
  },
  {
   "cell_type": "markdown",
   "id": "d58c643d",
   "metadata": {},
   "source": [
    "### A.2 Registration to STRING"
   ]
  },
  {
   "cell_type": "markdown",
   "id": "c9c09586",
   "metadata": {},
   "source": [
    "The STRING database requires an identification of the person sending requests to the database. Write down on the first line of an empty .TXT file your e-mail address, and replace the relative path to that file in the cell below:"
   ]
  },
  {
   "cell_type": "code",
   "execution_count": 3,
   "id": "6d011531",
   "metadata": {},
   "outputs": [],
   "source": [
    "STRING_credentials = \"../tests/credentials_STRING.txt\""
   ]
  },
  {
   "cell_type": "markdown",
   "id": "426e73ca",
   "metadata": {},
   "source": [
    "### A.3 Registration to [LINCS L1000/CLUE.io](https://clue.io/lincs)"
   ]
  },
  {
   "cell_type": "markdown",
   "id": "f2900570",
   "metadata": {},
   "source": [
    "Click on the link above to sign up to CLUE.io. Once you are registered, open an empty .TXT file, and write down\n",
    "- on the first line: the e-mail address used for registration\n",
    "- on the second line: the chosen password\n",
    "- on the third line: the user key you were assigned\n",
    "Save the file, and replace the relative path to that file in the cell below"
   ]
  },
  {
   "cell_type": "code",
   "execution_count": 4,
   "id": "48a51e2c",
   "metadata": {},
   "outputs": [],
   "source": [
    "LINCS_credentials = \"../tests/credentials_LINCS.txt\""
   ]
  },
  {
   "cell_type": "markdown",
   "id": "5311fea2",
   "metadata": {},
   "source": [
    "## B. Selection of parameters"
   ]
  },
  {
   "cell_type": "markdown",
   "id": "4e704534",
   "metadata": {},
   "source": [
    "The goal of **NORDic** is to allow to infer a network in the most transparent and reproducible fashion possible. As such, it relies on a (rather large) set of parameters which control the pipeline and the processing of biological data. For the actual definition of the parameters and an overview of the pipeline, please have a look at the following [reference](https://clreda.github.io/assets/reda2022prioritization_accepted.pdf):"
   ]
  },
  {
   "cell_type": "markdown",
   "id": "5ce66726",
   "metadata": {},
   "source": [
    "\n",
    "> Réda, C., & Delahaye-Duriez, A. (2022). Prioritization of Candidate Genes Through Boolean Networks. In *International Conference on Computational Methods in Systems Biology* (pp. 89-121). Springer, Cham.\n"
   ]
  },
  {
   "cell_type": "markdown",
   "id": "8e5a620e",
   "metadata": {},
   "source": [
    "First, define the seed number (for an increased reproducibility), along with the number of threads to allocate to the network inference process"
   ]
  },
  {
   "cell_type": "code",
   "execution_count": 5,
   "id": "4e820199",
   "metadata": {},
   "outputs": [],
   "source": [
    "seed_number=123456\n",
    "from multiprocessing import cpu_count\n",
    "njobs=max(1,cpu_count()-2) ## all available threads but 2"
   ]
  },
  {
   "cell_type": "markdown",
   "id": "c76a2ea0",
   "metadata": {},
   "source": [
    "Second, define the folder to create (relative to the folder in which the present notebook is located), in which to store intermediary files and the network itself"
   ]
  },
  {
   "cell_type": "code",
   "execution_count": 6,
   "id": "c9781222",
   "metadata": {},
   "outputs": [],
   "source": [
    "file_folder=\"MODELS/Ondine/\""
   ]
  },
  {
   "cell_type": "markdown",
   "id": "cb80dde2",
   "metadata": {},
   "source": [
    "The title of this section says that we are going to infer a network *from scratch*. Meaning, the only information provided to **NORDic** is *only* the name of the disease itself (that is, its Concept ID on [NCBI MedGen](https://www.ncbi.nlm.nih.gov/medgen/)), and the species (the taxonomy ID on [NCBI Taxonomy](https://www.ncbi.nlm.nih.gov/Taxonomy/TaxIdentifier/tax_identifier.cgi). If we were interested in several subtypes of diseases, one could write down a list of Concept IDs."
   ]
  },
  {
   "cell_type": "code",
   "execution_count": 7,
   "id": "276befcb",
   "metadata": {},
   "outputs": [],
   "source": [
    "taxon_id=9606 # human species\n",
    "disease_cids=[\"C1275808\"] ## Concept ID of Ondine syndrome"
   ]
  },
  {
   "cell_type": "markdown",
   "id": "5226c9cc",
   "metadata": {},
   "source": [
    "Optionally, in order to guide the inference of the regulatory mechanisms at play, one can define the cell types of interest (which should be present in the database [LINCS L1000](https://lincsproject.org/)). Otherwise, all cell lines in LINCS L1000 are considered."
   ]
  },
  {
   "cell_type": "code",
   "execution_count": 8,
   "id": "dafe7523",
   "metadata": {},
   "outputs": [],
   "source": [
    "cell_lines=[\"NPC\", \"SHSY5Y\"] # brain cell lines in LINCS L1000"
   ]
  },
  {
   "cell_type": "markdown",
   "id": "332e39c3",
   "metadata": {},
   "source": [
    "### B.1 Information about the disease"
   ]
  },
  {
   "cell_type": "markdown",
   "id": "72f5f1f6",
   "metadata": {},
   "source": [
    "In the absence of a set of genes of interest to focus on, **NORDic** retrieves a set of disease-associated genes from the DisGeNET database"
   ]
  },
  {
   "cell_type": "code",
   "execution_count": 9,
   "id": "bd010501",
   "metadata": {},
   "outputs": [],
   "source": [
    "DISGENET_args = {\n",
    "        \"credentials\": DisGeNET_credentials,\n",
    "        \"disease_cids\": disease_cids,\n",
    "}"
   ]
  },
  {
   "cell_type": "markdown",
   "id": "6aff6947",
   "metadata": {},
   "source": [
    "### B.2 Selection of parameters relative to the prior knowledge network "
   ]
  },
  {
   "cell_type": "markdown",
   "id": "58f686e2",
   "metadata": {},
   "source": [
    "A prior knowledge network is built using protein-protein interaction networks (PPI) from the STRING database. One can set a threshold on the \"combined score\" provided by STRING on every edge of the PPI"
   ]
  },
  {
   "cell_type": "code",
   "execution_count": 10,
   "id": "98db93b5",
   "metadata": {},
   "outputs": [],
   "source": [
    "STRING_args = {\n",
    "        \"credentials\": STRING_credentials,\n",
    "        \"score\": 0, # threshold on the minimum score of STRING edges\n",
    "}"
   ]
  },
  {
   "cell_type": "markdown",
   "id": "9b97a2e3",
   "metadata": {},
   "source": [
    "During inference, the edges retrieved from the STRING database might be filtered out (*filter=True*) based on the associated gene expression pairwise correlation (correlation>*tau*), preserving the connectivity of the network (i.e., having a single weakly connected component, that is, no isolated bits) (*connected=True*)."
   ]
  },
  {
   "cell_type": "code",
   "execution_count": 11,
   "id": "479a10bc",
   "metadata": {},
   "outputs": [],
   "source": [
    "EDGE_args = {\n",
    "        \"tau\": 0, # filter edges according to the genepairwise expression correlation\n",
    "        \"filter\": True, # whether to apply the filter\n",
    "        \"connected\": True, # whether to preserve the connectivity of the network\n",
    "}"
   ]
  },
  {
   "cell_type": "markdown",
   "id": "bfda6fda",
   "metadata": {},
   "source": [
    "Since version 2.2.0, one can preserve nodes which are not measured by LINCS L1000 or which do not match an EntrezGene ID (which allows considering miRNA nodes, for instance). In order to do so, set the following parameter to True (to preserve the initial behavior, which is the default one, set it to False):"
   ]
  },
  {
   "cell_type": "code",
   "execution_count": 12,
   "id": "41830889",
   "metadata": {},
   "outputs": [],
   "source": [
    "accept_nonRNA=True"
   ]
  },
  {
   "cell_type": "markdown",
   "id": "08875fa3",
   "metadata": {},
   "source": [
    "Since version 2.2.3, **NORDic** may infer the sign of the edges in an *existing* prior knowledge network using the gene expression data retrieved from **LINCS L1000**, instead of using the sign of the edge-related scores in the network stored at \"network_fname\", by setting option *preserve_network_sign* to **False**. The default behavior is *preserve_network_sign=* **True**, and is consistent with the behavior of past versions of **NORDic**."
   ]
  },
  {
   "cell_type": "code",
   "execution_count": 13,
   "id": "14615d8b",
   "metadata": {},
   "outputs": [],
   "source": [
    "preserve_network_sign=False"
   ]
  },
  {
   "cell_type": "markdown",
   "id": "dba260fa",
   "metadata": {},
   "source": [
    "### B.3 Selection of parameters relative to experimental constraints"
   ]
  },
  {
   "cell_type": "markdown",
   "id": "bb0dd59c",
   "metadata": {},
   "source": [
    "In the absence of a set of experimental profiles, **NORDic** retrieves a set of experimental profiles from the database LINCS L1000. Note that it downloads files from LINCS L1000 (which might be large, around 73GB in total). One might also set a nonnegative threshold on the quality of experiments retrieved from LINCS L1000 (*thres_iscale*), which was introduced by\n",
    "\n",
    "> Cheng, Lijun, and Lang Li. \"Systematic quality control analysis of LINCS data.\" CPT: pharmacometrics & systems pharmacology 5.11 (2016): 588-598.\n",
    "\n",
    "The threshold recommended by that paper is 0. However, if you would like not to filter any experiment out, set this value to None."
   ]
  },
  {
   "cell_type": "code",
   "execution_count": 14,
   "id": "8c3ab1b8",
   "metadata": {},
   "outputs": [],
   "source": [
    "LINCS_args = {\n",
    "        \"path_to_lincs\": \"lincs/\", # where to store locally LINCS L1000 files\n",
    "        \"credentials\": LINCS_credentials,\n",
    "        \"cell_lines\": cell_lines,\n",
    "        \"thres_iscale\": None, # threshold to filter out experiments from LINCS L1000\n",
    "}"
   ]
  },
  {
   "cell_type": "markdown",
   "id": "d68037eb",
   "metadata": {},
   "source": [
    "Since **NORDic** infers a Boolean network, the experimental profiles retrieved from LINCS L1000 need to be binarized; i.e., all expression values are either 0 (inactive), 1 (active), or NaN (undetermined status: neither fully inactive nor active). The control upon this binarization is made through parameter *bin_thres*, which is comprised between 0 (all genes have an undetermined status, that is, no constraint from the experiments will be enforced) and 0.5 (all genes have a binary status, which correspond to strong experimental constraints)."
   ]
  },
  {
   "cell_type": "code",
   "execution_count": 15,
   "id": "4974bebc",
   "metadata": {},
   "outputs": [],
   "source": [
    "SIG_args = {\n",
    "        \"bin_thres\": 0.5, # threshold to binarize gene expression values\n",
    "}"
   ]
  },
  {
   "cell_type": "markdown",
   "id": "635d4108",
   "metadata": {},
   "source": [
    "Since version 2.2.0, NORDic can try and infer a network -without returning an error- even when no experimental data is available. In that case, there are no experimental constraints, and it boils down to choosing appropriate parameters in Section B.2 to filter out (or not) edges. In order to do so, set the following parameter to False (to preserve the initial behavior, which is the default one, set it to True):"
   ]
  },
  {
   "cell_type": "code",
   "execution_count": 16,
   "id": "2a009b35",
   "metadata": {},
   "outputs": [],
   "source": [
    "force_experiments=False"
   ]
  },
  {
   "cell_type": "markdown",
   "id": "c0e0e128",
   "metadata": {},
   "source": [
    "### B.4 Selection of parameters relative to the inference of networks"
   ]
  },
  {
   "cell_type": "markdown",
   "id": "25d1476c",
   "metadata": {},
   "source": [
    "Once **NORDic** has built the prior knowledge network, and the Boolean experimental constraints, it uses BoneSIS to infer valid solution networks. Please refer to the following paper:\n",
    "\n",
    "> Chevalier, Stéphanie, et al. \"Synthesis of boolean networks from biological dynamical constraints using answer-set programming.\" 2019 IEEE 31st International Conference on Tools with Artificial Intelligence (ICTAI). IEEE, 2019."
   ]
  },
  {
   "cell_type": "code",
   "execution_count": 17,
   "id": "ba743a63",
   "metadata": {},
   "outputs": [],
   "source": [
    "BONESIS_args = {\n",
    "        \"limit\": 1, # maximum number of solution networks to infer\n",
    "        \"exact\": True, # should any solution use ALL edges from the prior knowledge network?\n",
    "        \"max_maxclause\": 3, # quantifies the complexity of the regulatory functions\n",
    "}"
   ]
  },
  {
   "cell_type": "markdown",
   "id": "342ff60c",
   "metadata": {},
   "source": [
    "### B.5 Advanced parameters"
   ]
  },
  {
   "cell_type": "markdown",
   "id": "b667f758",
   "metadata": {},
   "source": [
    "Those parameters can be ignored, as the default values usually do the trick. Please refer to the paper for more information."
   ]
  },
  {
   "cell_type": "code",
   "execution_count": 18,
   "id": "c730283f",
   "metadata": {},
   "outputs": [],
   "source": [
    "DESIRABILITY = {\"DS\": 3, \"CL\": 3, \"Centr\": 3, \"GT\": 1} # how to select an optimal model"
   ]
  },
  {
   "cell_type": "markdown",
   "id": "84299794",
   "metadata": {},
   "source": [
    "### B.6 Summary"
   ]
  },
  {
   "cell_type": "markdown",
   "id": "e5f95c6d",
   "metadata": {},
   "source": [
    "All in all, let us sum up the parameter values:"
   ]
  },
  {
   "cell_type": "code",
   "execution_count": 19,
   "id": "1fd1a733",
   "metadata": {},
   "outputs": [],
   "source": [
    "## Registration to databases\n",
    "DisGeNET_credentials = \"../tests/credentials_DISGENET.txt\"\n",
    "STRING_credentials = \"../tests/credentials_STRING.txt\"\n",
    "LINCS_credentials = \"../tests/credentials_LINCS.txt\"\n",
    "\n",
    "## Parameters\n",
    "seed_number=123456\n",
    "from multiprocessing import cpu_count\n",
    "njobs=1 ## considering only one\n",
    "file_folder=\"MODELS/Ondine/\"\n",
    "taxon_id=9606 # human species\n",
    "disease_cids=[\"C1275808\"] ## Concept ID of Ondine syndrome\n",
    "cell_lines=[\"NPC\", \"SHSY5Y\"] # brain cell lines in LINCS L1000\n",
    "\n",
    "## Information about the disease\n",
    "DISGENET_args = {\n",
    "        \"credentials\": DisGeNET_credentials, \"disease_cids\": disease_cids,\n",
    "}\n",
    "\n",
    "## Selection of parameters relative to the prior knowledge network \n",
    "STRING_args = {\n",
    "        \"credentials\": STRING_credentials, \"score\": 0,\n",
    "}\n",
    "EDGE_args = {\n",
    "        \"tau\": 0, \"filter\": True, \"connected\": True, \n",
    "}\n",
    "\n",
    "accept_nonRNA=True\n",
    "preserve_network_sign=True\n",
    "\n",
    "## Selection of parameters relative to experimental constraints\n",
    "LINCS_args = {\n",
    "        \"path_to_lincs\": \"lincs/\", \"credentials\": LINCS_credentials,\n",
    "        \"cell_lines\": cell_lines, \"thres_iscale\": None,\n",
    "}\n",
    "SIG_args = {\n",
    "        \"bin_thres\": 0.5,\n",
    "}\n",
    "\n",
    "force_experiments=False\n",
    "\n",
    "## Selection of parameters relative to the inference of networks\n",
    "BONESIS_args = {\n",
    "        \"limit\": 1, \"exact\": True, \"max_maxclause\": 3,\n",
    "}\n",
    "\n",
    "## Advanced\n",
    "DESIRABILITY = {\"DS\": 3, \"CL\": 3, \"Centr\": 3, \"GT\": 1}"
   ]
  },
  {
   "cell_type": "markdown",
   "id": "f3c75576",
   "metadata": {},
   "source": [
    "Don't be afraid! There is a rule of thumb to decide which parameter values to choose:\n",
    "- First choose score=0 in the STRING arguments, thres_iscale=None in the LINCS arguments, tau=0 to select all possible edges in the edge-wise arguments, and bin_thres=0.5 to restrict as much as possible experiment-wise in the signature-wise arguments, max_maxclause=3 to consider more simple regulatory functions, and exact=False in the BoneSiS arguments\n",
    "- If there is an explosion in RAM use (happens for a good personal computer when the number of edges fed to the Boolean network is >3,000), reduce the number of edges by playing with parameters score and tau\n",
    "- If no model is found, decrease the value of parameter bin_thres in [0,0.5], or increase max_maxclause (leave it smaller than 10, otherwise the RAM goes KABOOM)\n",
    "- If there are too many models, add more constraints by increasing the value of score, tau, or bin_thres, or setting exact=True (meaning that any solution should use ALL edges fed to the solver)\n",
    "\n",
    "Moreover, as a general rule: if you prefer having a denser network at the end of the inference, decrease the value of bin_thres. On the contrary, if you prefer putting more credence on experimental contraints, bin_thres should be increased."
   ]
  },
  {
   "cell_type": "markdown",
   "id": "070c5ee4",
   "metadata": {},
   "source": [
    "## C. Network inference"
   ]
  },
  {
   "cell_type": "markdown",
   "id": "4eac53e9",
   "metadata": {},
   "source": [
    "A single function takes these parameters, and returns a single solution network. Note that this step can be quite time-consuming depending on the number of genes and the size of the prior knowledge network (sometimes in (dozens of) hours...)."
   ]
  },
  {
   "cell_type": "code",
   "execution_count": 20,
   "id": "61103c94",
   "metadata": {
    "scrolled": true
   },
   "outputs": [
    {
     "data": {
      "text/html": [
       "<script type=\"text/javascript\" id=\"colomoto-setup-5507598\" class=\"to-be-removed\">\n",
       "        if (typeof Jupyter != 'undefined') {\n",
       "            \n",
       "function detect_import(cell, module) {\n",
       "    var code = cell.get_text();\n",
       "    code = code.replace(/\\\\\\n/g, \"\");\n",
       "    var lines = code.split(\"\\n\");\n",
       "    var r_simple = new RegExp(\"^(\"+module+\")$\");\n",
       "    var r_alias = new RegExp(\"^\"+module+\"\\\\s+as\\\\s+(\\\\w+)$\");\n",
       "    for (var i = 0; i < lines.length; ++i) {\n",
       "        if (/^import\\s/.test(lines[i])) {\n",
       "            code = lines[i].substr(7);\n",
       "            var parts = code.split(\",\")\n",
       "            for (var j = 0; j < parts.length; ++j) {\n",
       "                code = parts[j].trim();\n",
       "                var m = code.match(r_simple);\n",
       "                if (!m) {\n",
       "                    m = code.match(r_alias);\n",
       "                }\n",
       "                if (m) {\n",
       "                    return m[1];\n",
       "                }\n",
       "            }\n",
       "        }\n",
       "    }\n",
       "    return module;\n",
       "}\n",
       "\n",
       "function colomoto_replace_call(cell, orig, dest, args, comment=false) {\n",
       "    var call_regexp = new RegExp(\"\\\\.\"+orig.replace(\".\",\"\\\\.\")+\"\\\\(\");\n",
       "    var call_replacer = new RegExp(\"\\\\.\"+orig.replace(\".\",\"\\\\.\")\n",
       "                    + \"\\\\(\\\\s*([^\\\\)]*)?\\\\)\");\n",
       "    var code = cell.get_text();\n",
       "    var lines = code.split(\"\\n\");\n",
       "    if (args) {\n",
       "        var strargs = \", \"+args.join(\", \");\n",
       "    } else {\n",
       "        var strargs = \"\";\n",
       "    }\n",
       "    for (var i = 0; i < lines.length; ++i) {\n",
       "        if (call_regexp.test(lines[i])) {\n",
       "            var code = \"\"\n",
       "            if (comment) {\n",
       "                code += \"#\"+lines[i]+\"\\n\";\n",
       "            }\n",
       "            code += lines[i].replace(call_replacer, \".\"+dest+\"($1\"+strargs+\")\")\n",
       "            lines[i] = code;\n",
       "        }\n",
       "    }\n",
       "    cell.set_text(code)\n",
       "}\n",
       "\n",
       "function colomoto_upload(Jupyter, ssid, input, py_callback_name, orig, dest) {\n",
       "\n",
       "    function callback(out_data) {\n",
       "        var cell_element = $(\"#\"+ssid).parents('.cell');\n",
       "        var cell_idx = Jupyter.notebook.get_cell_elements().index(cell_element);\n",
       "        var cell = Jupyter.notebook.get_cell(cell_idx);\n",
       "\n",
       "        var filename = out_data.content.text;\n",
       "\n",
       "        var code = cell.get_text();\n",
       "        code = code.replace(new RegExp(\"\\\\b\" + orig.replace('.', '\\\\.')\n",
       "                    + \"\\\\(\\\\s*((\\\\w+)=[^\\\\)]*)?\\\\)\"),\n",
       "                dest+\"(\\\"\"+filename+\"\\\",$1)\");\n",
       "        code = code.replace('\",)', '\")')\n",
       "        cell.set_text(code);\n",
       "\n",
       "        Jupyter.notebook.select(cell_idx);\n",
       "        Jupyter.notebook.execute_cell_and_select_below();\n",
       "    }\n",
       "\n",
       "    if (! (window.File && window.FileReader && window.FileList && window.Blob)) {\n",
       "        alert(\"Interactive file upload is not supported by your browser.\");\n",
       "        return;\n",
       "    }\n",
       "\n",
       "    input.disabled = true;\n",
       "    input.style.cursor = \"wait\";\n",
       "    input.parentElement.style.cursor = \"wait\";\n",
       "\n",
       "    var f = input.files[0];\n",
       "    var reader = new FileReader();\n",
       "    reader.onload = (function(f) {\n",
       "        return function (e) {\n",
       "            var obj = {\n",
       "                content: e.target.result,\n",
       "                name: f.name\n",
       "            };\n",
       "\n",
       "            //var pycb = py_callback_name+\"(\"+JSON.stringify(obj)+\")\"\n",
       "            // hack/workaround:\n",
       "            // it seems that Jupyter does not like very long lines\n",
       "            // so we split the data in chunks\n",
       "            var chunk_length = 100;\n",
       "            var pycb = \"__colomoto_upload_name = \" + JSON.stringify(obj.name) + \"\\n\";\n",
       "            pycb += \"__colomoto_upload_content = \\\\\\n\";\n",
       "            for (var i = 0; i < obj.content.length; i += chunk_length) {\n",
       "                pycb += \"\\\"\" + obj.content.substr(i, chunk_length)+\"\\\"\\\\\\n\"\n",
       "            }\n",
       "            pycb += \"\\n\"\n",
       "            pycb += py_callback_name+\"({'name':__colomoto_upload_name, 'content': __colomoto_upload_content})\\n\";\n",
       "            pycb += \"del __colomoto_upload_name, __colomoto_upload_content\"\n",
       "\n",
       "            IPython.notebook.kernel.execute(pycb, {iopub: {output: callback}});\n",
       "        };\n",
       "    })(f);\n",
       "    reader.readAsDataURL(f);\n",
       "}\n",
       "\n",
       "function resolve_function(tool_api, funcname) {\n",
       "    if (tool_api.hasOwnProperty(funcname)) {\n",
       "        return tool_api[funcname];\n",
       "    } else {\n",
       "        return window[funcname];\n",
       "    }\n",
       "}\n",
       "\n",
       "function colomoto_extension(Jupyter, ssid, name, menu, toolbar, tool_api) {\n",
       "\n",
       "    function insert_snippet_code(snippet) {\n",
       "        var cell = Jupyter.notebook.get_selected_cell();\n",
       "        Jupyter.notebook.edit_mode();\n",
       "        cell.code_mirror.replaceSelection(snippet, 'around');\n",
       "        //cell.focus_editor();\n",
       "    }\n",
       "\n",
       "    /**\n",
       "        from https://github.com/moble/jupyter_boilerplate/blob/master/main.js\n",
       "    */\n",
       "    function callback_insert_snippet (evt) {\n",
       "        // this (or event.currentTarget, see below) always refers to the DOM\n",
       "        // element the listener was attached to - see\n",
       "        // http://stackoverflow.com/questions/12077859\n",
       "        insert_snippet_code($(evt.currentTarget).data('snippet-code'));\n",
       "    }\n",
       "    function build_menu_element (menu_item_spec, direction) {\n",
       "        // Create the menu item html element\n",
       "        var element = $('<li/>');\n",
       "\n",
       "        if (typeof menu_item_spec == 'string') {\n",
       "            if (menu_item_spec != '---') {\n",
       "                return element.html(menu_item_spec)\n",
       "                        .addClass('ui-state-disabled')\n",
       "                        .attr({\"style\": \"padding:2px .4em\"})\n",
       "                       ;\n",
       "            }\n",
       "            return element.addClass('divider');\n",
       "        }\n",
       "\n",
       "        var a = $('<a/>')\n",
       "            .attr('href', '#')\n",
       "            .html(menu_item_spec.name)\n",
       "            .appendTo(element);\n",
       "        if (menu_item_spec.hasOwnProperty('snippet')) {\n",
       "            var snippet = menu_item_spec.snippet;\n",
       "            if (typeof snippet == 'string' || snippet instanceof String) {\n",
       "                snippet = [snippet];\n",
       "            }\n",
       "            a.attr({\n",
       "                'title' : \"\", // Do not remove this, even though it's empty!\n",
       "                'data-snippet-code' : snippet.join('\\n'),\n",
       "            })\n",
       "            .on('click', callback_insert_snippet)\n",
       "            .addClass('snippet');\n",
       "        }\n",
       "        else if (menu_item_spec.hasOwnProperty('internal-link')) {\n",
       "            a.attr('href', menu_item_spec['internal-link']);\n",
       "        }\n",
       "        else if (menu_item_spec.hasOwnProperty('external-link')) {\n",
       "            a.empty();\n",
       "            a.attr('href', menu_item_spec['external-link']);\n",
       "            a.attr({\n",
       "                'target' : '_blank',\n",
       "                'title' : 'Opens in a new window',\n",
       "            });\n",
       "            $('<i class=\"fa fa-external-link menu-icon pull-right\"/>').appendTo(a);\n",
       "            $('<span/>').html(menu_item_spec.name).appendTo(a);\n",
       "        }\n",
       "\n",
       "        if (menu_item_spec.hasOwnProperty('sub-menu')) {\n",
       "            element\n",
       "                .addClass('dropdown-submenu')\n",
       "                .toggleClass('dropdown-submenu-left', direction === 'left');\n",
       "            var sub_element = $('<ul class=\"dropdown-menu\"/>')\n",
       "                .toggleClass('dropdown-menu-compact', menu_item_spec.overlay === true) // For space-saving menus\n",
       "                .appendTo(element);\n",
       "\n",
       "            var new_direction = (menu_item_spec['sub-menu-direction'] === 'left') ? 'left' : 'right';\n",
       "            for (var j=0; j<menu_item_spec['sub-menu'].length; ++j) {\n",
       "                var sub_menu_item_spec = build_menu_element(menu_item_spec['sub-menu'][j], new_direction);\n",
       "                if(sub_menu_item_spec !== null) {\n",
       "                    sub_menu_item_spec.appendTo(sub_element);\n",
       "                }\n",
       "            }\n",
       "        }\n",
       "\n",
       "        return element;\n",
       "    }\n",
       "\n",
       "    function menu_setup (menu_item_specs, sibling, insert_before_sibling) {\n",
       "        for (var i=0; i<menu_item_specs.length; ++i) {\n",
       "            var menu_item_spec;\n",
       "            if (insert_before_sibling) {\n",
       "                menu_item_spec = menu_item_specs[i];\n",
       "            } else {\n",
       "                menu_item_spec = menu_item_specs[menu_item_specs.length-1-i];\n",
       "            }\n",
       "            var direction = (menu_item_spec['menu-direction'] == 'left') ? 'left' : 'right';\n",
       "            var menu_element = build_menu_element(menu_item_spec, direction);\n",
       "            // We need special properties if this item is in the navbar\n",
       "            if ($(sibling).parent().is('ul.nav.navbar-nav')) {\n",
       "                menu_element\n",
       "                    .addClass('dropdown')\n",
       "                    .removeClass('dropdown-submenu dropdown-submenu-left');\n",
       "                menu_element.children('a')\n",
       "                    .addClass('dropdown-toggle')\n",
       "                    .attr({\n",
       "                        'id': name+'_menu',\n",
       "                        'data-toggle' : 'dropdown',\n",
       "                        'aria-expanded' : 'false'\n",
       "                    });\n",
       "            }\n",
       "\n",
       "            // Insert the menu element into DOM\n",
       "            menu_element[insert_before_sibling ? 'insertBefore': 'insertAfter'](sibling);\n",
       "        }\n",
       "    }\n",
       "    /** end from */\n",
       "\n",
       "\n",
       "    function self_cleanup() {\n",
       "        var cell_element = $(\"script[class='to-be-removed']\").parents('.cell');\n",
       "        var cell_idx = Jupyter.notebook.get_cell_elements().index(cell_element);\n",
       "        var cell = Jupyter.notebook.get_cell(cell_idx);\n",
       "        var to_remove = -1;\n",
       "        for (var i = 0; i < cell.output_area.outputs.length; ++i) {\n",
       "            var oa = cell.output_area.outputs[i];\n",
       "            if (oa.output_type == \"display_data\"\n",
       "                && typeof oa.data[\"text/html\"] != 'undefined'\n",
       "                && oa.data[\"text/html\"].indexOf(' class=\"to-be-removed\"') >= 0) {\n",
       "                to_remove = i;\n",
       "                break;\n",
       "            }\n",
       "        }\n",
       "        if (to_remove == -1) {\n",
       "            console.log(\"cannot find toberemoved\");\n",
       "        } else {\n",
       "            cell.output_area.outputs.splice(to_remove, 1);\n",
       "        }\n",
       "    }\n",
       "\n",
       "    function toolbar_setup(actions) {\n",
       "        var buttons = [];\n",
       "        for (var i = 0; i < actions.length; ++i) {\n",
       "            var setup = actions[i].setup;\n",
       "            if (typeof setup.handler == 'string') {\n",
       "                setup.handler = resolve_function(tool_api, setup.handler);\n",
       "            }\n",
       "            buttons.push(Jupyter.actions.register(actions[i].setup,\n",
       "                actions[i].name, name));\n",
       "        }\n",
       "        $(\"#\"+name+\"-toolbar\").remove();\n",
       "        Jupyter.toolbar.add_buttons_group(buttons, name+\"-toolbar\");\n",
       "    }\n",
       "\n",
       "    function replace_menu_snippets(menu_spec, orig, dest) {\n",
       "        if (menu_spec.hasOwnProperty(\"snippet\")) {\n",
       "            var snippet = menu_spec.snippet;\n",
       "            if (typeof snippet == \"string\" || snippet instanceof String) {\n",
       "                menu_spec[\"snippet\"] = snippet.replace(orig, dest);\n",
       "            } else {\n",
       "                for (var i = 0; i < snippet.length; ++i) {\n",
       "                    menu_spec[\"snippet\"][i] = snippet[i].replace(orig, dest);\n",
       "                }\n",
       "            }\n",
       "        }\n",
       "        if (menu_spec.hasOwnProperty(\"sub-menu\")) {\n",
       "            for (var i = 0; i < menu_spec[\"sub-menu\"].length; ++i) {\n",
       "                replace_menu_snippets(menu_spec[\"sub-menu\"][i], orig, dest);\n",
       "            }\n",
       "        }\n",
       "    }\n",
       "\n",
       "    function load_ipython_extension() {\n",
       "\n",
       "        var mycellelt = $(\"#\"+ssid).parents('.cell');\n",
       "        var myidx = Jupyter.notebook.get_cell_elements().index(mycellelt);\n",
       "        var import_cell = Jupyter.notebook.get_cell(myidx);\n",
       "\n",
       "        var alias = detect_import(import_cell, name);\n",
       "        tool_api.module_alias = alias;\n",
       "        if (alias && alias != name) {\n",
       "            var orig = new RegExp(\"\\\\b\"+name+\"\\\\b\", \"g\");\n",
       "            replace_menu_snippets(menu, orig, alias);\n",
       "        }\n",
       "\n",
       "        if (toolbar) {\n",
       "            toolbar_setup(toolbar);\n",
       "        }\n",
       "\n",
       "        $(\"#\"+name+\"_menu\").parent().remove();\n",
       "        if (menu) {\n",
       "            menu_setup([menu], $(\"#help_menu\").parent(), true);\n",
       "        }\n",
       "\n",
       "        if (tool_api.hasOwnProperty(\"post_install_callback\")) {\n",
       "            tool_api.post_install_callback();\n",
       "        }\n",
       "\n",
       "        setTimeout(self_cleanup, 5000);\n",
       "    };\n",
       "\n",
       "    load_ipython_extension();\n",
       "}\n",
       "\n",
       "function resolve_toolbar_handlers(tool_api, toolbar_spec) {\n",
       "    for (var i = 0; i < toolbar_spec.length; ++i) {\n",
       "        func = resolve_function(tool_api, toolbar_spec[i][\"setup\"][\"handler\"]);\n",
       "        toolbar_spec[i][\"setup\"][\"handler\"] = func;\n",
       "    }\n",
       "    return toolbar_spec\n",
       "}\n",
       "\n",
       "\n",
       "    var minibn_jsapi = {  };\n",
       "    colomoto_extension(Jupyter, \"colomoto-setup-5507598\", \"minibn\", null, null, minibn_jsapi);\n",
       "     }</script>"
      ],
      "text/plain": [
       "<IPython.core.display.HTML object>"
      ]
     },
     "metadata": {},
     "output_type": "display_data"
    },
    {
     "name": "stdout",
     "output_type": "stream",
     "text": [
      "--- DATA IMPORT ---\n",
      "1. Import gene set from DisGeNET... <DISGENET> Retrieving genes... 1/1\n"
     ]
    },
    {
     "name": "stderr",
     "output_type": "stream",
     "text": [
      "/home/kali/miniconda3/envs/envir/lib/python3.8/site-packages/urllib3/connectionpool.py:1099: InsecureRequestWarning: Unverified HTTPS request is being made to host 'api.disgenet.com'. Adding certificate verification is strongly advised. See: https://urllib3.readthedocs.io/en/latest/advanced-usage.html#tls-warnings\n",
      "  warnings.warn(\n"
     ]
    },
    {
     "name": "stdout",
     "output_type": "stream",
     "text": [
      "<DISGENET> Number of results retrieved by current call (page number 0 0): 7 (total number 7/total=7,lim=3000\n",
      "... 7 genes imported.\n",
      "2. Import network from STRING... ... 17 edges in model (including 0 directed edges) with a total of 7 non-isolated genes\n",
      "3. Import experiments from LINCS L1000... \n",
      "\t2 cell lines are considered (['NPC', 'SHSY5Y'])\n",
      "\t7 genes available (convertable to EntrezIDs)\n",
      "\t\t7/7 genes retrieved in LINCS L1000\n",
      "<UTILS_EXP> 0 experiments so far\n",
      "\t<UTILS_EXP> Treatment BDNF (entrez_id 627)... <BioDBNet> 1/1\n",
      "<LINCS> 2 TREATED experiments ('brew_prefix') (3 profiles 'distil_id' in average)\n",
      "<LINCS> Selected distil_ss = 3.76598\n",
      "<LINCS> 3 same-plate profiles\n",
      "<LINCS> 18 CONTROL experiments ('brew_prefix') (5 profiles 'distil_id' in average)\n",
      "<LINCS> Selected distil_ss = 3.75211\n",
      "<LINCS> 3 same-plate profiles\n",
      "<INTERFERENCE SCALE> KD Perturbed 627 = 1.01391 || Most stable control 7846 = 1.00000\n",
      "<INTERFERENCE SCALE> -0.01391\n",
      "... 6 genes, 6 profiles\n",
      "<UTILS_EXP> 1 experiments so far\n",
      "\t<UTILS_EXP> Duplicated treatment:BDNF, cell:SHSY5Y, type:trt_sh\n",
      "<UTILS_EXP> Gene 1/7 Cell 2/2 Type 2/3\n",
      "<UTILS_EXP> Gene 2/7 Cell 2/2 Type 2/3\n",
      "<UTILS_EXP> Gene 3/7 Cell 2/2 Type 2/3\n",
      "<UTILS_EXP> Gene 4/7 Cell 2/2 Type 2/3\n",
      "<UTILS_EXP> Gene 5/7 Cell 2/2 Type 2/3\n",
      "<UTILS_EXP> Gene 6/7 Cell 2/2 Type 2/3\n",
      "<UTILS_EXP> Gene 7/7 Cell 2/2 Type 2/3\n",
      "<UTILS_EXP> Gene 1/7 Cell 2/2 Type 3/3\n",
      "<UTILS_EXP> Gene 2/7 Cell 2/2 Type 3/3\n",
      "<UTILS_EXP> Gene 3/7 Cell 2/2 Type 3/3\n",
      "<UTILS_EXP> Gene 4/7 Cell 2/2 Type 3/3\n",
      "<UTILS_EXP> Gene 5/7 Cell 2/2 Type 3/3\n",
      "<UTILS_EXP> Gene 6/7 Cell 2/2 Type 3/3\n",
      "<UTILS_EXP> Gene 7/7 Cell 2/2 Type 3/3\n",
      "\t\t1 unique experiments (including 1 with criterion thres_iscale > None, min_value None)\n",
      "... 7 genes in 6 profiles (1 experiments)\n",
      "\n",
      "--- CONSTRAINT BUILDING ---\n",
      "1. Filtering out edges by minimum set of edges with highest score which preserve connectivity... ... 17 unique edges involving genes both in experiments (7 genes in total)\n",
      "... score_STRING 0.000000\t7 genes (non isolated in PPI)\t68 edges in PPI\n",
      "... 16 negative, 18 positive undirected interactions (34 edges in total), 7 non isolated genes in experiments\n",
      "<UTILS_EXP> 303 (good) profiles | 50 (best) profiles (capped at 50 or min>=4) (distil_ss max=6.206, min=4.141). \n",
      "... 1 experiments on 1 cell lines and 7/7 genes (Frobenius norm signature matrix: 3.742, 6 possibly constant genes: 85.7%, 0 genes with undetermined status\n",
      "\n",
      "--- INFER BOOLEAN NETWORK ---\n",
      "1. Generate solutions from topological & dynamical constraints...  ...<UTILS_GRN> Maximum possible #activators=5\n",
      "<BONESIS> 34 interactions (maximum # of clauses = 3)\n",
      "\n",
      "<UTILS_GRN> 1 experiments\n",
      "            BDNF  ASCL1  EDN3  PHOX2B  LBX1  GDNF  RET\n",
      "Exp1_init      0      0     1       1     1     1    1\n",
      "Exp1_final     0      0     1       1     1     0    1\n"
     ]
    },
    {
     "name": "stderr",
     "output_type": "stream",
     "text": [
      "  0%|                                                                                                                                                                                        | 0/1 [00:00<?, ?it/s]"
     ]
    },
    {
     "name": "stdout",
     "output_type": "stream",
     "text": [
      "Grounding...done in 0.3s\n",
      "Found 1 solutions in 0.0s (first in 0.0s; rate 0.0s)"
     ]
    },
    {
     "name": "stderr",
     "output_type": "stream",
     "text": [
      "100%|████████████████████████████████████████████████████████████████████████████████████████████████████████████████████████████████████████████████████████████████████████████████| 1/1 [00:00<00:00, 40.57it/s]"
     ]
    },
    {
     "name": "stdout",
     "output_type": "stream",
     "text": [
      "--- SELECTION OF OPTIMAL MODEL ---\n",
      "A. Select an optimal model based on a topological criteria...  ...1 solutions (1 unique solutions)\n",
      "... 1 solutions (0/8 constant genes in average)\n",
      "<MODEL VISUALIZATION> Minimal solution: 34 edges\n"
     ]
    },
    {
     "name": "stderr",
     "output_type": "stream",
     "text": [
      "\n"
     ]
    },
    {
     "name": "stdout",
     "output_type": "stream",
     "text": [
      "<MODEL VISUALIZATION> Maximal solution: 34 edges\n",
      "            1\n",
      "GTP  0.885183\n",
      "<MODEL SELECTION> Saving optimal model in 'MODELS/Ondine//solution.bnet' ...\n",
      "ASCL1, BDNF|(!LBX1&PHOX2B&!GDNF&RET&!EDN3)\n",
      "BDNF, RET|(EDN3&ASCL1)|(!PHOX2B&!GDNF)\n",
      "EDN3, !ASCL1|(BDNF&!PHOX2B)|(GDNF&RET)\n",
      "GDNF, !BDNF&!PHOX2B&RET&EDN3&!ASCL1\n",
      "LBX1, !PHOX2B|!ASCL1\n",
      "...\n",
      "... saved!\n"
     ]
    }
   ],
   "source": [
    "from NORDic.NORDic_NI.functions import network_identification\n",
    "solution = network_identification(file_folder, taxon_id, \n",
    "                                  path_to_genes=None, network_fname=None,\n",
    "                                  disgenet_args=DISGENET_args, \n",
    "                                  string_args=STRING_args, edge_args=EDGE_args, \n",
    "                                  lincs_args=LINCS_args, sig_args=SIG_args, \n",
    "                                  bonesis_args=BONESIS_args, \n",
    "                                  weights=DESIRABILITY, \n",
    "                                  seed=seed_number, njobs=njobs,\n",
    "                                  force_experiments=force_experiments, \n",
    "                                  accept_nonRNA=accept_nonRNA, \n",
    "                                  preserve_network_sign=preserve_network_sign)"
   ]
  },
  {
   "cell_type": "markdown",
   "id": "0d16cbbb",
   "metadata": {},
   "source": [
    "## D. Network visualization"
   ]
  },
  {
   "cell_type": "markdown",
   "id": "3d47315c",
   "metadata": {},
   "source": [
    "If you have a look at the folder *file_folder*, you can notice that there are a lot of intermediary files, comprising an image of the inferred network *inferred_max_criterion_solution*"
   ]
  },
  {
   "cell_type": "code",
   "execution_count": 21,
   "id": "9d01cbdb",
   "metadata": {},
   "outputs": [
    {
     "data": {
      "image/png": "[encoded data removed]",
      "text/plain": [
       "<IPython.core.display.Image object>"
      ]
     },
     "execution_count": 21,
     "metadata": {},
     "output_type": "execute_result"
    }
   ],
   "source": [
    "from IPython.display import Image\n",
    "Image(filename=file_folder+'inferred_max_criterion_solution.png') "
   ]
  },
  {
   "cell_type": "markdown",
   "id": "06fbde8b",
   "metadata": {},
   "source": [
    "and the .BNET file *solution.bnet* that contains the gene regulatory functions defining the dynamics of the Boolean network "
   ]
  },
  {
   "cell_type": "code",
   "execution_count": 22,
   "id": "18371086",
   "metadata": {},
   "outputs": [
    {
     "name": "stdout",
     "output_type": "stream",
     "text": [
      "ASCL1, BDNF|(!LBX1&PHOX2B&!GDNF&RET&!EDN3)\n",
      "BDNF, RET|(EDN3&ASCL1)|(!PHOX2B&!GDNF)\n",
      "EDN3, !ASCL1|(BDNF&!PHOX2B)|(GDNF&RET)\n",
      "GDNF, !BDNF&!PHOX2B&RET&EDN3&!ASCL1\n",
      "LBX1, !PHOX2B|!ASCL1\n",
      "PHOX2B, !BDNF|ASCL1|(!LBX1&!GDNF&RET&!EDN3)\n",
      "RET, EDN3|ASCL1|(BDNF&PHOX2B&GDNF)\n"
     ]
    }
   ],
   "source": [
    "with open(file_folder+\"solution.bnet\", \"r\") as f:\n",
    "    network = f.read()\n",
    "print(network)"
   ]
  },
  {
   "cell_type": "markdown",
   "id": "42f3b641",
   "metadata": {},
   "source": [
    "If needed, you can convert this network into network (at *file_folder*/solution_cytoscape.sif) and style (at *file_folder*/solution_cytoscape.xml) files readable by [Cytoscape](https://cytoscape.org/)"
   ]
  },
  {
   "cell_type": "code",
   "execution_count": 23,
   "id": "5cd6b411",
   "metadata": {},
   "outputs": [],
   "source": [
    "from NORDic.NORDic_NI.functions import solution2cytoscape\n",
    "from NORDic.UTILS.utils_grn import load_grn\n",
    "solution = load_grn(file_folder+\"solution.bnet\")\n",
    "solution2cytoscape(solution, file_folder+\"solution_cytoscape\")"
   ]
  },
  {
   "cell_type": "markdown",
   "id": "1e2f5d3e",
   "metadata": {},
   "source": [
    "### E. Conclusion"
   ]
  },
  {
   "cell_type": "markdown",
   "id": "39f6d1f4",
   "metadata": {},
   "source": [
    "The previous network might not be very interesting, due to the small number of genes. **NORDic** allows feeding an existing network (cf. notebook **NORDic NI Part II**) or a set of genes (cf. notebook **NORDic NI Part III**) to the network identification pipeline. Checking those notebooks is in no way mandatory, but allows to go further on the use of **NORDic**."
   ]
  }
 ],
 "metadata": {
  "kernelspec": {
   "display_name": "Python 3 (ipykernel)",
   "language": "python",
   "name": "python3"
  },
  "language_info": {
   "codemirror_mode": {
    "name": "ipython",
    "version": 3
   },
   "file_extension": ".py",
   "mimetype": "text/x-python",
   "name": "python",
   "nbconvert_exporter": "python",
   "pygments_lexer": "ipython3",
   "version": "3.8.20"
  }
 },
 "nbformat": 4,
 "nbformat_minor": 5
}
