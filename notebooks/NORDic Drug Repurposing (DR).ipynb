{
 "cells": [
  {
   "cell_type": "markdown",
   "id": "1e4c4c7d",
   "metadata": {},
   "source": [
    "# Drug Repurposing (dummy example)"
   ]
  },
  {
   "cell_type": "markdown",
   "id": "99692990",
   "metadata": {},
   "source": [
    "This notebook assumes that you have read **NORDic Drug Simulation (DS)**. This vignette displays some examples of what can be achieved using **NORDic** in order to use bandit algorithms to output drug recommendations using **NORDic DS** simulations. These simulations, as you might have noticed, can be rather time-consuming when handling a large number (i.e., ~100) nodes in the network. The idea behind the use of bandit algorithms is to exploit the information from drug signatures to selectively test drugs which are the most informative about the top treatments. "
   ]
  },
  {
   "cell_type": "markdown",
   "id": "79f9e29c",
   "metadata": {},
   "source": [
    "## Installation"
   ]
  },
  {
   "cell_type": "code",
   "execution_count": 1,
   "id": "a0808998",
   "metadata": {},
   "outputs": [
    {
     "name": "stdout",
     "output_type": "stream",
     "text": [
      "NORDic==2.6.0\n"
     ]
    }
   ],
   "source": [
    "import NORDic\n",
    "! pip freeze | grep \"NORDic\""
   ]
  },
  {
   "cell_type": "markdown",
   "id": "0a30edfb",
   "metadata": {},
   "source": [
    "## Drug recommendation using bandit algorithms"
   ]
  },
  {
   "cell_type": "code",
   "execution_count": 2,
   "id": "03431d9a",
   "metadata": {},
   "outputs": [
    {
     "data": {
      "text/plain": [
       "0"
      ]
     },
     "execution_count": 2,
     "metadata": {},
     "output_type": "execute_result"
    }
   ],
   "source": [
    "from subprocess import call as sbcall\n",
    "save_folder=\"MODELS/dummy2/\"\n",
    "sbcall(\"mkdir -p \"+save_folder, shell=True)"
   ]
  },
  {
   "cell_type": "code",
   "execution_count": 3,
   "id": "70f34b98",
   "metadata": {},
   "outputs": [
    {
     "data": {
      "text/html": [
       "<div>\n",
       "<style scoped>\n",
       "    .dataframe tbody tr th:only-of-type {\n",
       "        vertical-align: middle;\n",
       "    }\n",
       "\n",
       "    .dataframe tbody tr th {\n",
       "        vertical-align: top;\n",
       "    }\n",
       "\n",
       "    .dataframe thead th {\n",
       "        text-align: right;\n",
       "    }\n",
       "</style>\n",
       "<table border=\"1\" class=\"dataframe\">\n",
       "  <thead>\n",
       "    <tr style=\"text-align: right;\">\n",
       "      <th></th>\n",
       "      <th>X1</th>\n",
       "      <th>X2</th>\n",
       "      <th>X3</th>\n",
       "    </tr>\n",
       "  </thead>\n",
       "  <tbody>\n",
       "    <tr>\n",
       "      <th>X1</th>\n",
       "      <td>0</td>\n",
       "      <td>1</td>\n",
       "      <td>-1</td>\n",
       "    </tr>\n",
       "    <tr>\n",
       "      <th>X2</th>\n",
       "      <td>0</td>\n",
       "      <td>0</td>\n",
       "      <td>1</td>\n",
       "    </tr>\n",
       "    <tr>\n",
       "      <th>X3</th>\n",
       "      <td>0</td>\n",
       "      <td>0</td>\n",
       "      <td>0</td>\n",
       "    </tr>\n",
       "  </tbody>\n",
       "</table>\n",
       "</div>"
      ],
      "text/plain": [
       "    X1  X2  X3\n",
       "X1   0   1  -1\n",
       "X2   0   0   1\n",
       "X3   0   0   0"
      ]
     },
     "execution_count": 3,
     "metadata": {},
     "output_type": "execute_result"
    }
   ],
   "source": [
    "import pandas as pd\n",
    "import numpy as np\n",
    "nbseed=12345\n",
    "np.random.seed(nbseed)\n",
    "\n",
    "## List of input nodes for each edge\n",
    "source = list(map(lambda x: \"X%d\" % x,[1,1,2]))\n",
    "## List of target nodes for each edge\n",
    "target = list(map(lambda x : \"X%d\" % x,[2,3,3]))\n",
    "\n",
    "## List of all genes\n",
    "genes = list(sorted(list(set(source+target))))\n",
    "\n",
    "## Create the network (adjacency matrix)\n",
    "influences = pd.DataFrame([[0,1,-1],[0,0,1],[0,0,0]], index=genes, columns=genes).astype(int)\n",
    "influences"
   ]
  },
  {
   "cell_type": "code",
   "execution_count": 4,
   "id": "375692f2",
   "metadata": {},
   "outputs": [
    {
     "data": {
      "image/png": "[encoded data removed]",
      "text/plain": [
       "<IPython.core.display.Image object>"
      ]
     },
     "execution_count": 4,
     "metadata": {},
     "output_type": "execute_result"
    }
   ],
   "source": [
    "from NORDic.UTILS.utils_plot import influences2graph\n",
    "\n",
    "influences2graph(influences, save_folder+\"example\", optional=False, \n",
    "                 compile2png=True, engine=\"sfdp\")\n",
    "from IPython.display import Image\n",
    "Image(filename=save_folder+'example.png') "
   ]
  },
  {
   "cell_type": "code",
   "execution_count": 5,
   "id": "7c54d3d8",
   "metadata": {},
   "outputs": [
    {
     "data": {
      "text/plain": [
       "{'X2': {'X1': 1}, 'X3': {'X1': -1, 'X2': 1}}"
      ]
     },
     "execution_count": 5,
     "metadata": {},
     "output_type": "execute_result"
    }
   ],
   "source": [
    "## Gene regulatory functions (for each node in the network)\n",
    "\n",
    "grfs = {}\n",
    "for si, s in enumerate(source):\n",
    "    t = target[si]\n",
    "    grf, sign = grfs.get(t, {}), influences.loc[s][t]\n",
    "    if (sign==0):\n",
    "        continue\n",
    "    grf.update({s: sign})\n",
    "    grfs.update({t: grf})\n",
    "grfs"
   ]
  },
  {
   "cell_type": "code",
   "execution_count": 6,
   "id": "0df93747",
   "metadata": {},
   "outputs": [
    {
     "name": "stdout",
     "output_type": "stream",
     "text": [
      "X1, 1\n",
      "X2, (X1)\n",
      "X3, (X2)&(!X1)\n"
     ]
    }
   ],
   "source": [
    "with open(save_folder+\"example.bnet\", \"w\") as f:\n",
    "    network = []\n",
    "    for g in genes:\n",
    "        if (g in grfs):\n",
    "            activators = [r for r in grfs[g] if (grfs[g][r]>0)]\n",
    "            inhibitors = [\"!\"+r for r in grfs[g] if (grfs[g][r]<0)]\n",
    "            network += [g+\", \"+(\"(\"+\"|\".join(activators)+\")\" if (len(activators)>0) else \"\")\n",
    "                        +(\"&\" if ((len(activators)>0) and (len(inhibitors)>0)) else \"\")\n",
    "                        +(\"(\"+\"&\".join(inhibitors)+\")\" if (len(inhibitors)>0) else \"\")] \n",
    "        else:\n",
    "            network += [g+\", 1\"]\n",
    "    f.write(\"\\n\".join(network))\n",
    "    \n",
    "## Print the resulting network\n",
    "with open(save_folder+\"example.bnet\", \"r\") as f:\n",
    "    network = f.read()\n",
    "print(\"\\n\".join([\", \".join(s.split(\", \")) for s in network.split(\"\\n\")]))"
   ]
  },
  {
   "cell_type": "code",
   "execution_count": 7,
   "id": "55cee506",
   "metadata": {
    "scrolled": true
   },
   "outputs": [
    {
     "data": {
      "text/html": [
       "<script type=\"text/javascript\" id=\"colomoto-setup-9605976\" class=\"to-be-removed\">\n",
       "        if (typeof Jupyter != 'undefined') {\n",
       "            \n",
       "function detect_import(cell, module) {\n",
       "    var code = cell.get_text();\n",
       "    code = code.replace(/\\\\\\n/g, \"\");\n",
       "    var lines = code.split(\"\\n\");\n",
       "    var r_simple = new RegExp(\"^(\"+module+\")$\");\n",
       "    var r_alias = new RegExp(\"^\"+module+\"\\\\s+as\\\\s+(\\\\w+)$\");\n",
       "    for (var i = 0; i < lines.length; ++i) {\n",
       "        if (/^import\\s/.test(lines[i])) {\n",
       "            code = lines[i].substr(7);\n",
       "            var parts = code.split(\",\")\n",
       "            for (var j = 0; j < parts.length; ++j) {\n",
       "                code = parts[j].trim();\n",
       "                var m = code.match(r_simple);\n",
       "                if (!m) {\n",
       "                    m = code.match(r_alias);\n",
       "                }\n",
       "                if (m) {\n",
       "                    return m[1];\n",
       "                }\n",
       "            }\n",
       "        }\n",
       "    }\n",
       "    return module;\n",
       "}\n",
       "\n",
       "function colomoto_replace_call(cell, orig, dest, args, comment=false) {\n",
       "    var call_regexp = new RegExp(\"\\\\.\"+orig.replace(\".\",\"\\\\.\")+\"\\\\(\");\n",
       "    var call_replacer = new RegExp(\"\\\\.\"+orig.replace(\".\",\"\\\\.\")\n",
       "                    + \"\\\\(\\\\s*([^\\\\)]*)?\\\\)\");\n",
       "    var code = cell.get_text();\n",
       "    var lines = code.split(\"\\n\");\n",
       "    if (args) {\n",
       "        var strargs = \", \"+args.join(\", \");\n",
       "    } else {\n",
       "        var strargs = \"\";\n",
       "    }\n",
       "    for (var i = 0; i < lines.length; ++i) {\n",
       "        if (call_regexp.test(lines[i])) {\n",
       "            var code = \"\"\n",
       "            if (comment) {\n",
       "                code += \"#\"+lines[i]+\"\\n\";\n",
       "            }\n",
       "            code += lines[i].replace(call_replacer, \".\"+dest+\"($1\"+strargs+\")\")\n",
       "            lines[i] = code;\n",
       "        }\n",
       "    }\n",
       "    cell.set_text(code)\n",
       "}\n",
       "\n",
       "function colomoto_upload(Jupyter, ssid, input, py_callback_name, orig, dest) {\n",
       "\n",
       "    function callback(out_data) {\n",
       "        var cell_element = $(\"#\"+ssid).parents('.cell');\n",
       "        var cell_idx = Jupyter.notebook.get_cell_elements().index(cell_element);\n",
       "        var cell = Jupyter.notebook.get_cell(cell_idx);\n",
       "\n",
       "        var filename = out_data.content.text;\n",
       "\n",
       "        var code = cell.get_text();\n",
       "        code = code.replace(new RegExp(\"\\\\b\" + orig.replace('.', '\\\\.')\n",
       "                    + \"\\\\(\\\\s*((\\\\w+)=[^\\\\)]*)?\\\\)\"),\n",
       "                dest+\"(\\\"\"+filename+\"\\\",$1)\");\n",
       "        code = code.replace('\",)', '\")')\n",
       "        cell.set_text(code);\n",
       "\n",
       "        Jupyter.notebook.select(cell_idx);\n",
       "        Jupyter.notebook.execute_cell_and_select_below();\n",
       "    }\n",
       "\n",
       "    if (! (window.File && window.FileReader && window.FileList && window.Blob)) {\n",
       "        alert(\"Interactive file upload is not supported by your browser.\");\n",
       "        return;\n",
       "    }\n",
       "\n",
       "    input.disabled = true;\n",
       "    input.style.cursor = \"wait\";\n",
       "    input.parentElement.style.cursor = \"wait\";\n",
       "\n",
       "    var f = input.files[0];\n",
       "    var reader = new FileReader();\n",
       "    reader.onload = (function(f) {\n",
       "        return function (e) {\n",
       "            var obj = {\n",
       "                content: e.target.result,\n",
       "                name: f.name\n",
       "            };\n",
       "\n",
       "            //var pycb = py_callback_name+\"(\"+JSON.stringify(obj)+\")\"\n",
       "            // hack/workaround:\n",
       "            // it seems that Jupyter does not like very long lines\n",
       "            // so we split the data in chunks\n",
       "            var chunk_length = 100;\n",
       "            var pycb = \"__colomoto_upload_name = \" + JSON.stringify(obj.name) + \"\\n\";\n",
       "            pycb += \"__colomoto_upload_content = \\\\\\n\";\n",
       "            for (var i = 0; i < obj.content.length; i += chunk_length) {\n",
       "                pycb += \"\\\"\" + obj.content.substr(i, chunk_length)+\"\\\"\\\\\\n\"\n",
       "            }\n",
       "            pycb += \"\\n\"\n",
       "            pycb += py_callback_name+\"({'name':__colomoto_upload_name, 'content': __colomoto_upload_content})\\n\";\n",
       "            pycb += \"del __colomoto_upload_name, __colomoto_upload_content\"\n",
       "\n",
       "            IPython.notebook.kernel.execute(pycb, {iopub: {output: callback}});\n",
       "        };\n",
       "    })(f);\n",
       "    reader.readAsDataURL(f);\n",
       "}\n",
       "\n",
       "function resolve_function(tool_api, funcname) {\n",
       "    if (tool_api.hasOwnProperty(funcname)) {\n",
       "        return tool_api[funcname];\n",
       "    } else {\n",
       "        return window[funcname];\n",
       "    }\n",
       "}\n",
       "\n",
       "function colomoto_extension(Jupyter, ssid, name, menu, toolbar, tool_api) {\n",
       "\n",
       "    function insert_snippet_code(snippet) {\n",
       "        var cell = Jupyter.notebook.get_selected_cell();\n",
       "        Jupyter.notebook.edit_mode();\n",
       "        cell.code_mirror.replaceSelection(snippet, 'around');\n",
       "        //cell.focus_editor();\n",
       "    }\n",
       "\n",
       "    /**\n",
       "        from https://github.com/moble/jupyter_boilerplate/blob/master/main.js\n",
       "    */\n",
       "    function callback_insert_snippet (evt) {\n",
       "        // this (or event.currentTarget, see below) always refers to the DOM\n",
       "        // element the listener was attached to - see\n",
       "        // http://stackoverflow.com/questions/12077859\n",
       "        insert_snippet_code($(evt.currentTarget).data('snippet-code'));\n",
       "    }\n",
       "    function build_menu_element (menu_item_spec, direction) {\n",
       "        // Create the menu item html element\n",
       "        var element = $('<li/>');\n",
       "\n",
       "        if (typeof menu_item_spec == 'string') {\n",
       "            if (menu_item_spec != '---') {\n",
       "                return element.html(menu_item_spec)\n",
       "                        .addClass('ui-state-disabled')\n",
       "                        .attr({\"style\": \"padding:2px .4em\"})\n",
       "                       ;\n",
       "            }\n",
       "            return element.addClass('divider');\n",
       "        }\n",
       "\n",
       "        var a = $('<a/>')\n",
       "            .attr('href', '#')\n",
       "            .html(menu_item_spec.name)\n",
       "            .appendTo(element);\n",
       "        if (menu_item_spec.hasOwnProperty('snippet')) {\n",
       "            var snippet = menu_item_spec.snippet;\n",
       "            if (typeof snippet == 'string' || snippet instanceof String) {\n",
       "                snippet = [snippet];\n",
       "            }\n",
       "            a.attr({\n",
       "                'title' : \"\", // Do not remove this, even though it's empty!\n",
       "                'data-snippet-code' : snippet.join('\\n'),\n",
       "            })\n",
       "            .on('click', callback_insert_snippet)\n",
       "            .addClass('snippet');\n",
       "        }\n",
       "        else if (menu_item_spec.hasOwnProperty('internal-link')) {\n",
       "            a.attr('href', menu_item_spec['internal-link']);\n",
       "        }\n",
       "        else if (menu_item_spec.hasOwnProperty('external-link')) {\n",
       "            a.empty();\n",
       "            a.attr('href', menu_item_spec['external-link']);\n",
       "            a.attr({\n",
       "                'target' : '_blank',\n",
       "                'title' : 'Opens in a new window',\n",
       "            });\n",
       "            $('<i class=\"fa fa-external-link menu-icon pull-right\"/>').appendTo(a);\n",
       "            $('<span/>').html(menu_item_spec.name).appendTo(a);\n",
       "        }\n",
       "\n",
       "        if (menu_item_spec.hasOwnProperty('sub-menu')) {\n",
       "            element\n",
       "                .addClass('dropdown-submenu')\n",
       "                .toggleClass('dropdown-submenu-left', direction === 'left');\n",
       "            var sub_element = $('<ul class=\"dropdown-menu\"/>')\n",
       "                .toggleClass('dropdown-menu-compact', menu_item_spec.overlay === true) // For space-saving menus\n",
       "                .appendTo(element);\n",
       "\n",
       "            var new_direction = (menu_item_spec['sub-menu-direction'] === 'left') ? 'left' : 'right';\n",
       "            for (var j=0; j<menu_item_spec['sub-menu'].length; ++j) {\n",
       "                var sub_menu_item_spec = build_menu_element(menu_item_spec['sub-menu'][j], new_direction);\n",
       "                if(sub_menu_item_spec !== null) {\n",
       "                    sub_menu_item_spec.appendTo(sub_element);\n",
       "                }\n",
       "            }\n",
       "        }\n",
       "\n",
       "        return element;\n",
       "    }\n",
       "\n",
       "    function menu_setup (menu_item_specs, sibling, insert_before_sibling) {\n",
       "        for (var i=0; i<menu_item_specs.length; ++i) {\n",
       "            var menu_item_spec;\n",
       "            if (insert_before_sibling) {\n",
       "                menu_item_spec = menu_item_specs[i];\n",
       "            } else {\n",
       "                menu_item_spec = menu_item_specs[menu_item_specs.length-1-i];\n",
       "            }\n",
       "            var direction = (menu_item_spec['menu-direction'] == 'left') ? 'left' : 'right';\n",
       "            var menu_element = build_menu_element(menu_item_spec, direction);\n",
       "            // We need special properties if this item is in the navbar\n",
       "            if ($(sibling).parent().is('ul.nav.navbar-nav')) {\n",
       "                menu_element\n",
       "                    .addClass('dropdown')\n",
       "                    .removeClass('dropdown-submenu dropdown-submenu-left');\n",
       "                menu_element.children('a')\n",
       "                    .addClass('dropdown-toggle')\n",
       "                    .attr({\n",
       "                        'id': name+'_menu',\n",
       "                        'data-toggle' : 'dropdown',\n",
       "                        'aria-expanded' : 'false'\n",
       "                    });\n",
       "            }\n",
       "\n",
       "            // Insert the menu element into DOM\n",
       "            menu_element[insert_before_sibling ? 'insertBefore': 'insertAfter'](sibling);\n",
       "        }\n",
       "    }\n",
       "    /** end from */\n",
       "\n",
       "\n",
       "    function self_cleanup() {\n",
       "        var cell_element = $(\"script[class='to-be-removed']\").parents('.cell');\n",
       "        var cell_idx = Jupyter.notebook.get_cell_elements().index(cell_element);\n",
       "        var cell = Jupyter.notebook.get_cell(cell_idx);\n",
       "        var to_remove = -1;\n",
       "        for (var i = 0; i < cell.output_area.outputs.length; ++i) {\n",
       "            var oa = cell.output_area.outputs[i];\n",
       "            if (oa.output_type == \"display_data\"\n",
       "                && typeof oa.data[\"text/html\"] != 'undefined'\n",
       "                && oa.data[\"text/html\"].indexOf(' class=\"to-be-removed\"') >= 0) {\n",
       "                to_remove = i;\n",
       "                break;\n",
       "            }\n",
       "        }\n",
       "        if (to_remove == -1) {\n",
       "            console.log(\"cannot find toberemoved\");\n",
       "        } else {\n",
       "            cell.output_area.outputs.splice(to_remove, 1);\n",
       "        }\n",
       "    }\n",
       "\n",
       "    function toolbar_setup(actions) {\n",
       "        var buttons = [];\n",
       "        for (var i = 0; i < actions.length; ++i) {\n",
       "            var setup = actions[i].setup;\n",
       "            if (typeof setup.handler == 'string') {\n",
       "                setup.handler = resolve_function(tool_api, setup.handler);\n",
       "            }\n",
       "            buttons.push(Jupyter.actions.register(actions[i].setup,\n",
       "                actions[i].name, name));\n",
       "        }\n",
       "        $(\"#\"+name+\"-toolbar\").remove();\n",
       "        Jupyter.toolbar.add_buttons_group(buttons, name+\"-toolbar\");\n",
       "    }\n",
       "\n",
       "    function replace_menu_snippets(menu_spec, orig, dest) {\n",
       "        if (menu_spec.hasOwnProperty(\"snippet\")) {\n",
       "            var snippet = menu_spec.snippet;\n",
       "            if (typeof snippet == \"string\" || snippet instanceof String) {\n",
       "                menu_spec[\"snippet\"] = snippet.replace(orig, dest);\n",
       "            } else {\n",
       "                for (var i = 0; i < snippet.length; ++i) {\n",
       "                    menu_spec[\"snippet\"][i] = snippet[i].replace(orig, dest);\n",
       "                }\n",
       "            }\n",
       "        }\n",
       "        if (menu_spec.hasOwnProperty(\"sub-menu\")) {\n",
       "            for (var i = 0; i < menu_spec[\"sub-menu\"].length; ++i) {\n",
       "                replace_menu_snippets(menu_spec[\"sub-menu\"][i], orig, dest);\n",
       "            }\n",
       "        }\n",
       "    }\n",
       "\n",
       "    function load_ipython_extension() {\n",
       "\n",
       "        var mycellelt = $(\"#\"+ssid).parents('.cell');\n",
       "        var myidx = Jupyter.notebook.get_cell_elements().index(mycellelt);\n",
       "        var import_cell = Jupyter.notebook.get_cell(myidx);\n",
       "\n",
       "        var alias = detect_import(import_cell, name);\n",
       "        tool_api.module_alias = alias;\n",
       "        if (alias && alias != name) {\n",
       "            var orig = new RegExp(\"\\\\b\"+name+\"\\\\b\", \"g\");\n",
       "            replace_menu_snippets(menu, orig, alias);\n",
       "        }\n",
       "\n",
       "        if (toolbar) {\n",
       "            toolbar_setup(toolbar);\n",
       "        }\n",
       "\n",
       "        $(\"#\"+name+\"_menu\").parent().remove();\n",
       "        if (menu) {\n",
       "            menu_setup([menu], $(\"#help_menu\").parent(), true);\n",
       "        }\n",
       "\n",
       "        if (tool_api.hasOwnProperty(\"post_install_callback\")) {\n",
       "            tool_api.post_install_callback();\n",
       "        }\n",
       "\n",
       "        setTimeout(self_cleanup, 5000);\n",
       "    };\n",
       "\n",
       "    load_ipython_extension();\n",
       "}\n",
       "\n",
       "function resolve_toolbar_handlers(tool_api, toolbar_spec) {\n",
       "    for (var i = 0; i < toolbar_spec.length; ++i) {\n",
       "        func = resolve_function(tool_api, toolbar_spec[i][\"setup\"][\"handler\"]);\n",
       "        toolbar_spec[i][\"setup\"][\"handler\"] = func;\n",
       "    }\n",
       "    return toolbar_spec\n",
       "}\n",
       "\n",
       "\n",
       "    var minibn_jsapi = {  };\n",
       "    colomoto_extension(Jupyter, \"colomoto-setup-9605976\", \"minibn\", null, null, minibn_jsapi);\n",
       "     }</script>"
      ],
      "text/plain": [
       "<IPython.core.display.HTML object>"
      ]
     },
     "metadata": {},
     "output_type": "display_data"
    },
    {
     "name": "stderr",
     "output_type": "stream",
     "text": [
      "  0%|                                                                                                     | 0/10 [00:00<?, ?it/s]\n",
      "100%|███████████████████████████████████████████████████████████████████████████████████████████| 1/1 [00:00<00:00, 37449.14it/s]\n",
      "\n",
      "100%|███████████████████████████████████████████████████████████████████████████████████████████| 1/1 [00:00<00:00, 39945.75it/s]\n",
      "\n",
      "100%|███████████████████████████████████████████████████████████████████████████████████████████| 1/1 [00:00<00:00, 40329.85it/s]\n",
      "\n",
      "100%|███████████████████████████████████████████████████████████████████████████████████████████| 1/1 [00:00<00:00, 42366.71it/s]\n",
      "\n",
      "100%|███████████████████████████████████████████████████████████████████████████████████████████| 1/1 [00:00<00:00, 41943.04it/s]\n",
      "\n",
      "100%|███████████████████████████████████████████████████████████████████████████████████████████| 1/1 [00:00<00:00, 38836.15it/s]\n",
      "\n",
      "100%|███████████████████████████████████████████████████████████████████████████████████████████| 1/1 [00:00<00:00, 39945.75it/s]\n",
      "\n",
      "100%|███████████████████████████████████████████████████████████████████████████████████████████| 1/1 [00:00<00:00, 40721.40it/s]\n",
      "\n",
      "100%|███████████████████████████████████████████████████████████████████████████████████████████| 1/1 [00:00<00:00, 41943.04it/s]\n",
      "\n",
      "100%|███████████████████████████████████████████████████████████████████████████████████████████| 1/1 [00:00<00:00, 39568.91it/s]\n",
      "\n",
      "100%|███████████████████████████████████████████████████████████████████████████████████████████| 1/1 [00:00<00:00, 41120.63it/s]\n",
      "\n",
      "100%|███████████████████████████████████████████████████████████████████████████████████████████| 1/1 [00:00<00:00, 39945.75it/s]\n",
      "\n",
      "100%|███████████████████████████████████████████████████████████████████████████████████████████| 1/1 [00:00<00:00, 40721.40it/s]\n",
      "\n",
      "100%|███████████████████████████████████████████████████████████████████████████████████████████| 1/1 [00:00<00:00, 40721.40it/s]\n",
      "\n",
      "100%|███████████████████████████████████████████████████████████████████████████████████████████| 1/1 [00:00<00:00, 40721.40it/s]\n",
      "\n",
      "100%|███████████████████████████████████████████████████████████████████████████████████████████| 1/1 [00:00<00:00, 40329.85it/s]\n",
      "\n",
      "100%|███████████████████████████████████████████████████████████████████████████████████████████| 1/1 [00:00<00:00, 39568.91it/s]\n",
      "\n",
      "100%|███████████████████████████████████████████████████████████████████████████████████████████| 1/1 [00:00<00:00, 41943.04it/s]\n",
      "\n",
      "100%|███████████████████████████████████████████████████████████████████████████████████████████| 1/1 [00:00<00:00, 41120.63it/s]\n",
      "\n",
      "100%|███████████████████████████████████████████████████████████████████████████████████████████| 1/1 [00:00<00:00, 41120.63it/s]\n",
      "100%|███████████████████████████████████████████████████████████████████████████████████████████| 10/10 [00:00<00:00, 125.94it/s]\n"
     ]
    }
   ],
   "source": [
    "import mpbn\n",
    "from tqdm import tqdm\n",
    "from multiprocessing import cpu_count\n",
    "import os\n",
    "\n",
    "njobs=max(1,cpu_count()-2)\n",
    "SIMU_params = {\n",
    "    'nb_sims': 1000,\n",
    "    'rates': \"nexponential\",\n",
    "    #weighting vector W=(W1, W2, ..., Wn) weight of a transition changing n components at a time\n",
    "    #rates=\"uniform\": W=(1,1,...,1)\n",
    "    #rates=\"fully_asynchronous\": 1 component at a time is changed, meaning W=(1, 0, ..., 0)\n",
    "    #rates=\"reciprocal\": undocumented\n",
    "    #rates=\"nexponential\": (sampling weight from an exponentially decreasing distr.)\n",
    "    'thread_count': njobs,\n",
    "    'depth': \"nexponential\", \n",
    "    #depth=\"constant_unitary\" (depth=1): asynchronous transitions\n",
    "    #depth=2: target expression can change while regulator expression changes\n",
    "    #depth=3: target of target expression can change while target expression changes, etc.\n",
    "    #depth=\"constant_maximum\" (depth=N, where N is the number of nodes in the network)\n",
    "    #depth=\"nexponential\" (sampling depth from an exponentially decreasing distr.)\n",
    "}\n",
    "network_name = save_folder+\"example.bnet\"\n",
    "assert SIMU_params[\"depth\"] in [\"constant_maximum\", \"constant_unitary\", \"nexponential\"]\n",
    "assert SIMU_params[\"rates\"] in [\"fully_asynchronous\", \"uniform\", \"reciprocal\", \"nexponential\"]\n",
    "\n",
    "## Create the mutated networks\n",
    "def patch_model(f, patch):\n",
    "    f = mpbn.MPBooleanNetwork(f)\n",
    "    for i, fi in patch.items():\n",
    "        f[i] = fi\n",
    "    return f\n",
    "experiments = [{\"name\": \"mpsim\", \"rates\": SIMU_params[\"rates\"], \"depth\": SIMU_params[\"depth\"]}]\n",
    "nb_sims = SIMU_params[\"nb_sims\"]\n",
    "\n",
    "if (not os.path.exists(save_folder+\"phenotypes.csv\")):\n",
    "    f_wildtype = mpbn.load(network_name)\n",
    "    ## Initial states drawn at random\n",
    "    state_len = 10\n",
    "    states = pd.DataFrame(\n",
    "      [np.random.choice([0,1], p=[0.5,0.5], size=len(genes)).tolist() for _ in range(state_len)]\n",
    "      , columns=genes, index=range(state_len)).T\n",
    "    A_WT, A_mut = [], []\n",
    "    for state in tqdm(states.columns):\n",
    "        x0 = f_wildtype.zero()\n",
    "        for i in list(states.loc[states[state]==1].columns):\n",
    "            x0[i] = 1\n",
    "        x0[\"X2\"] = 1 # in wild type\n",
    "        f_mutant = patch_model(f_wildtype, {\"X2\": 0})\n",
    "        ## Get the reachable attractors from initial state in the presence/absence of X0 knockout\n",
    "        A_WT += [a for a in tqdm(list(f_wildtype.attractors(reachable_from=x0)))]\n",
    "        A_mut += [a for a in tqdm(list(f_mutant.attractors(reachable_from=x0)))]"
   ]
  },
  {
   "cell_type": "code",
   "execution_count": 8,
   "id": "be463597",
   "metadata": {},
   "outputs": [
    {
     "data": {
      "text/html": [
       "<div>\n",
       "<style scoped>\n",
       "    .dataframe tbody tr th:only-of-type {\n",
       "        vertical-align: middle;\n",
       "    }\n",
       "\n",
       "    .dataframe tbody tr th {\n",
       "        vertical-align: top;\n",
       "    }\n",
       "\n",
       "    .dataframe thead th {\n",
       "        text-align: right;\n",
       "    }\n",
       "</style>\n",
       "<table border=\"1\" class=\"dataframe\">\n",
       "  <thead>\n",
       "    <tr style=\"text-align: right;\">\n",
       "      <th></th>\n",
       "      <th>Control1</th>\n",
       "      <th>Control2</th>\n",
       "      <th>Control3</th>\n",
       "      <th>Control4</th>\n",
       "      <th>Control5</th>\n",
       "      <th>Control6</th>\n",
       "      <th>Control7</th>\n",
       "      <th>Control8</th>\n",
       "      <th>Control9</th>\n",
       "      <th>Control10</th>\n",
       "      <th>Case1</th>\n",
       "      <th>Case2</th>\n",
       "      <th>Case3</th>\n",
       "      <th>Case4</th>\n",
       "      <th>Case5</th>\n",
       "      <th>Case6</th>\n",
       "      <th>Case7</th>\n",
       "      <th>Case8</th>\n",
       "      <th>Case9</th>\n",
       "      <th>Case10</th>\n",
       "    </tr>\n",
       "  </thead>\n",
       "  <tbody>\n",
       "    <tr>\n",
       "      <th>X1</th>\n",
       "      <td>1</td>\n",
       "      <td>1</td>\n",
       "      <td>1</td>\n",
       "      <td>1</td>\n",
       "      <td>1</td>\n",
       "      <td>1</td>\n",
       "      <td>1</td>\n",
       "      <td>1</td>\n",
       "      <td>1</td>\n",
       "      <td>1</td>\n",
       "      <td>1</td>\n",
       "      <td>1</td>\n",
       "      <td>1</td>\n",
       "      <td>1</td>\n",
       "      <td>1</td>\n",
       "      <td>1</td>\n",
       "      <td>1</td>\n",
       "      <td>1</td>\n",
       "      <td>1</td>\n",
       "      <td>1</td>\n",
       "    </tr>\n",
       "    <tr>\n",
       "      <th>X2</th>\n",
       "      <td>1</td>\n",
       "      <td>1</td>\n",
       "      <td>1</td>\n",
       "      <td>1</td>\n",
       "      <td>1</td>\n",
       "      <td>1</td>\n",
       "      <td>1</td>\n",
       "      <td>1</td>\n",
       "      <td>1</td>\n",
       "      <td>1</td>\n",
       "      <td>0</td>\n",
       "      <td>0</td>\n",
       "      <td>0</td>\n",
       "      <td>0</td>\n",
       "      <td>0</td>\n",
       "      <td>0</td>\n",
       "      <td>0</td>\n",
       "      <td>0</td>\n",
       "      <td>0</td>\n",
       "      <td>0</td>\n",
       "    </tr>\n",
       "    <tr>\n",
       "      <th>X3</th>\n",
       "      <td>0</td>\n",
       "      <td>0</td>\n",
       "      <td>0</td>\n",
       "      <td>0</td>\n",
       "      <td>0</td>\n",
       "      <td>0</td>\n",
       "      <td>0</td>\n",
       "      <td>0</td>\n",
       "      <td>0</td>\n",
       "      <td>0</td>\n",
       "      <td>0</td>\n",
       "      <td>0</td>\n",
       "      <td>0</td>\n",
       "      <td>0</td>\n",
       "      <td>0</td>\n",
       "      <td>0</td>\n",
       "      <td>0</td>\n",
       "      <td>0</td>\n",
       "      <td>0</td>\n",
       "      <td>0</td>\n",
       "    </tr>\n",
       "    <tr>\n",
       "      <th>annotation</th>\n",
       "      <td>1</td>\n",
       "      <td>1</td>\n",
       "      <td>1</td>\n",
       "      <td>1</td>\n",
       "      <td>1</td>\n",
       "      <td>1</td>\n",
       "      <td>1</td>\n",
       "      <td>1</td>\n",
       "      <td>1</td>\n",
       "      <td>1</td>\n",
       "      <td>2</td>\n",
       "      <td>2</td>\n",
       "      <td>2</td>\n",
       "      <td>2</td>\n",
       "      <td>2</td>\n",
       "      <td>2</td>\n",
       "      <td>2</td>\n",
       "      <td>2</td>\n",
       "      <td>2</td>\n",
       "      <td>2</td>\n",
       "    </tr>\n",
       "  </tbody>\n",
       "</table>\n",
       "</div>"
      ],
      "text/plain": [
       "            Control1  Control2  Control3  Control4  Control5  Control6  \\\n",
       "X1                 1         1         1         1         1         1   \n",
       "X2                 1         1         1         1         1         1   \n",
       "X3                 0         0         0         0         0         0   \n",
       "annotation         1         1         1         1         1         1   \n",
       "\n",
       "            Control7  Control8  Control9  Control10  Case1  Case2  Case3  \\\n",
       "X1                 1         1         1          1      1      1      1   \n",
       "X2                 1         1         1          1      0      0      0   \n",
       "X3                 0         0         0          0      0      0      0   \n",
       "annotation         1         1         1          1      2      2      2   \n",
       "\n",
       "            Case4  Case5  Case6  Case7  Case8  Case9  Case10  \n",
       "X1              1      1      1      1      1      1       1  \n",
       "X2              0      0      0      0      0      0       0  \n",
       "X3              0      0      0      0      0      0       0  \n",
       "annotation      2      2      2      2      2      2       2  "
      ]
     },
     "execution_count": 8,
     "metadata": {},
     "output_type": "execute_result"
    }
   ],
   "source": [
    "for a in A_WT:\n",
    "    a.update({\"annotation\": 1})\n",
    "for a in A_mut:\n",
    "    a.update({\"annotation\": 2})\n",
    "controls = {\"Control%d\" % (i+1): a for i,a in enumerate(A_WT)}\n",
    "patients = {\"Case%d\" % (i+1): a for i,a in enumerate(A_mut)}\n",
    "controls.update(patients)\n",
    "states = pd.DataFrame(controls)\n",
    "states"
   ]
  },
  {
   "cell_type": "code",
   "execution_count": 9,
   "id": "559f6641",
   "metadata": {},
   "outputs": [
    {
     "data": {
      "text/html": [
       "<div>\n",
       "<style scoped>\n",
       "    .dataframe tbody tr th:only-of-type {\n",
       "        vertical-align: middle;\n",
       "    }\n",
       "\n",
       "    .dataframe tbody tr th {\n",
       "        vertical-align: top;\n",
       "    }\n",
       "\n",
       "    .dataframe thead th {\n",
       "        text-align: right;\n",
       "    }\n",
       "</style>\n",
       "<table border=\"1\" class=\"dataframe\">\n",
       "  <thead>\n",
       "    <tr style=\"text-align: right;\">\n",
       "      <th></th>\n",
       "      <th>T1</th>\n",
       "      <th>T2</th>\n",
       "      <th>T3</th>\n",
       "      <th>T4</th>\n",
       "      <th>T5</th>\n",
       "      <th>T6</th>\n",
       "    </tr>\n",
       "  </thead>\n",
       "  <tbody>\n",
       "    <tr>\n",
       "      <th>X1</th>\n",
       "      <td>1</td>\n",
       "      <td>-1</td>\n",
       "      <td>0</td>\n",
       "      <td>0</td>\n",
       "      <td>0</td>\n",
       "      <td>-1</td>\n",
       "    </tr>\n",
       "    <tr>\n",
       "      <th>X2</th>\n",
       "      <td>1</td>\n",
       "      <td>1</td>\n",
       "      <td>1</td>\n",
       "      <td>-1</td>\n",
       "      <td>1</td>\n",
       "      <td>0</td>\n",
       "    </tr>\n",
       "    <tr>\n",
       "      <th>X3</th>\n",
       "      <td>0</td>\n",
       "      <td>0</td>\n",
       "      <td>-1</td>\n",
       "      <td>1</td>\n",
       "      <td>0</td>\n",
       "      <td>-1</td>\n",
       "    </tr>\n",
       "  </tbody>\n",
       "</table>\n",
       "</div>"
      ],
      "text/plain": [
       "    T1  T2  T3  T4  T5  T6\n",
       "X1   1  -1   0   0   0  -1\n",
       "X2   1   1   1  -1   1   0\n",
       "X3   0   0  -1   1   0  -1"
      ]
     },
     "execution_count": 9,
     "metadata": {},
     "output_type": "execute_result"
    }
   ],
   "source": [
    "targets = pd.DataFrame({\n",
    "    \"T1\": {\"X1\": 1, \"X2\": 1}, #expected treatment\n",
    "    \"T2\": {\"X1\": -1, \"X2\": 1}, #expected treatment\n",
    "    \"T3\": {\"X3\": -1, \"X2\": 1}, #expected treatment\n",
    "    \"T4\": {\"X2\": -1, \"X3\": 1},\n",
    "    \"T5\": {\"X2\": 1}, #expected treatment\n",
    "    \"T6\": {\"X3\": -1, \"X1\": -1},\n",
    "})\n",
    "all_genes = pd.DataFrame({\"One\": {g: 0 for g in genes}})\n",
    "targets = targets.join(all_genes, how=\"outer\").fillna(0)[[c for c in targets.columns if (c!=\"One\")]].astype(int)\n",
    "targets"
   ]
  },
  {
   "cell_type": "code",
   "execution_count": 10,
   "id": "be7c23bd",
   "metadata": {},
   "outputs": [
    {
     "name": "stdout",
     "output_type": "stream",
     "text": [
      "<NORD_DS> Accuracy of the model 1.00\n"
     ]
    }
   ],
   "source": [
    "## Define the function which determines whether a state is closer to controls/patients\n",
    "dfdata = states.loc[[i for i in states.index if (i != \"annotation\")]]\n",
    "samples = states.loc[\"annotation\"]\n",
    "from NORDic.NORDic_DS.functions import compute_frontier\n",
    "## compute_frontier fits a SVM model to the data\n",
    "frontier = compute_frontier(dfdata, samples)\n",
    "score = lambda attrs : (frontier.predict(attrs.values.T)==1).astype(int)\n",
    "\n",
    "## Patient profiles\n",
    "patients = states[[c for c in states.columns if (\"Case\" in c)]].loc[[i for i in states.index if (i != \"annotation\")]]"
   ]
  },
  {
   "cell_type": "code",
   "execution_count": 11,
   "id": "8090bf0c",
   "metadata": {},
   "outputs": [
    {
     "name": "stdout",
     "output_type": "stream",
     "text": [
      "\t<NORD_DS> Initial state Case3\n"
     ]
    },
    {
     "name": "stderr",
     "output_type": "stream",
     "text": [
      "100%|███████████████████████████████████████████████████████████████████████████████████████████| 1/1 [00:00<00:00, 34100.03it/s]\n"
     ]
    },
    {
     "name": "stdout",
     "output_type": "stream",
     "text": [
      "Drug T1 (1/1) in state Case3 - nexponential_depth{}\tnexponential_rates{}\n"
     ]
    },
    {
     "name": "stderr",
     "output_type": "stream",
     "text": [
      "100%|████████████████████████████████████████████████████████████████████████████████████| 1000/1000 [00:00<00:00, 181383.15it/s]\n"
     ]
    },
    {
     "name": "stdout",
     "output_type": "stream",
     "text": [
      "\t<NORD_DS> Initial state Case6\n"
     ]
    },
    {
     "name": "stderr",
     "output_type": "stream",
     "text": [
      "100%|███████████████████████████████████████████████████████████████████████████████████████████| 1/1 [00:00<00:00, 34952.53it/s]\n"
     ]
    },
    {
     "name": "stdout",
     "output_type": "stream",
     "text": [
      "Drug T2 (1/1) in state Case6 - nexponential_depth{}\tnexponential_rates{}\n"
     ]
    },
    {
     "name": "stderr",
     "output_type": "stream",
     "text": [
      "100%|████████████████████████████████████████████████████████████████████████████████████| 1000/1000 [00:00<00:00, 194288.68it/s]\n"
     ]
    },
    {
     "name": "stdout",
     "output_type": "stream",
     "text": [
      "\t<NORD_DS> Initial state Case2\n"
     ]
    },
    {
     "name": "stderr",
     "output_type": "stream",
     "text": [
      "100%|███████████████████████████████████████████████████████████████████████████████████████████| 1/1 [00:00<00:00, 36792.14it/s]\n"
     ]
    },
    {
     "name": "stdout",
     "output_type": "stream",
     "text": [
      "Drug T3 (1/1) in state Case2 - nexponential_depth{}\tnexponential_rates{}\n"
     ]
    },
    {
     "name": "stderr",
     "output_type": "stream",
     "text": [
      "100%|████████████████████████████████████████████████████████████████████████████████████| 1000/1000 [00:00<00:00, 215191.83it/s]\n"
     ]
    },
    {
     "name": "stdout",
     "output_type": "stream",
     "text": [
      "\t<NORD_DS> Initial state Case5\n"
     ]
    },
    {
     "name": "stderr",
     "output_type": "stream",
     "text": [
      "100%|███████████████████████████████████████████████████████████████████████████████████████████| 1/1 [00:00<00:00, 38836.15it/s]\n"
     ]
    },
    {
     "name": "stdout",
     "output_type": "stream",
     "text": [
      "Drug T4 (1/1) in state Case5 - nexponential_depth{}\tnexponential_rates{}\n"
     ]
    },
    {
     "name": "stderr",
     "output_type": "stream",
     "text": [
      "100%|████████████████████████████████████████████████████████████████████████████████████| 1000/1000 [00:00<00:00, 181894.44it/s]\n"
     ]
    },
    {
     "name": "stdout",
     "output_type": "stream",
     "text": [
      "\t<NORD_DS> Initial state Case10\n"
     ]
    },
    {
     "name": "stderr",
     "output_type": "stream",
     "text": [
      "100%|███████████████████████████████████████████████████████████████████████████████████████████| 1/1 [00:00<00:00, 36157.79it/s]\n"
     ]
    },
    {
     "name": "stdout",
     "output_type": "stream",
     "text": [
      "Drug T5 (1/1) in state Case10 - nexponential_depth{}\tnexponential_rates{}\n"
     ]
    },
    {
     "name": "stderr",
     "output_type": "stream",
     "text": [
      "100%|████████████████████████████████████████████████████████████████████████████████████| 1000/1000 [00:00<00:00, 181791.96it/s]\n"
     ]
    },
    {
     "name": "stdout",
     "output_type": "stream",
     "text": [
      "\t<NORD_DS> Initial state Case6\n"
     ]
    },
    {
     "name": "stderr",
     "output_type": "stream",
     "text": [
      "100%|███████████████████████████████████████████████████████████████████████████████████████████| 1/1 [00:00<00:00, 39568.91it/s]\n"
     ]
    },
    {
     "name": "stdout",
     "output_type": "stream",
     "text": [
      "Drug T6 (1/1) in state Case6 - nexponential_depth{}\tnexponential_rates{}\n"
     ]
    },
    {
     "name": "stderr",
     "output_type": "stream",
     "text": [
      "100%|████████████████████████████████████████████████████████████████████████████████████| 1000/1000 [00:00<00:00, 227864.62it/s]\n"
     ]
    },
    {
     "name": "stdout",
     "output_type": "stream",
     "text": [
      "\t<NORD_DS> Initial state Case3\n"
     ]
    },
    {
     "name": "stderr",
     "output_type": "stream",
     "text": [
      "100%|███████████████████████████████████████████████████████████████████████████████████████████| 1/1 [00:00<00:00, 33026.02it/s]\n"
     ]
    },
    {
     "name": "stdout",
     "output_type": "stream",
     "text": [
      "Drug T6 (1/1) in state Case3 - nexponential_depth{}\tnexponential_rates{}\n"
     ]
    },
    {
     "name": "stderr",
     "output_type": "stream",
     "text": [
      "100%|████████████████████████████████████████████████████████████████████████████████████| 1000/1000 [00:00<00:00, 237610.70it/s]\n"
     ]
    },
    {
     "name": "stdout",
     "output_type": "stream",
     "text": [
      "\t<NORD_DS> Initial state Case2\n"
     ]
    },
    {
     "name": "stderr",
     "output_type": "stream",
     "text": [
      "100%|███████████████████████████████████████████████████████████████████████████████████████████| 1/1 [00:00<00:00, 36792.14it/s]\n"
     ]
    },
    {
     "name": "stdout",
     "output_type": "stream",
     "text": [
      "Drug T1 (1/1) in state Case2 - nexponential_depth{}\tnexponential_rates{}\n"
     ]
    },
    {
     "name": "stderr",
     "output_type": "stream",
     "text": [
      "100%|████████████████████████████████████████████████████████████████████████████████████| 1000/1000 [00:00<00:00, 177747.34it/s]\n"
     ]
    },
    {
     "name": "stdout",
     "output_type": "stream",
     "text": [
      "\t<NORD_DS> Initial state Case7\n"
     ]
    },
    {
     "name": "stderr",
     "output_type": "stream",
     "text": [
      "100%|███████████████████████████████████████████████████████████████████████████████████████████| 1/1 [00:00<00:00, 30393.51it/s]\n"
     ]
    },
    {
     "name": "stdout",
     "output_type": "stream",
     "text": [
      "Drug T6 (1/1) in state Case7 - nexponential_depth{}\tnexponential_rates{}\n"
     ]
    },
    {
     "name": "stderr",
     "output_type": "stream",
     "text": [
      "100%|████████████████████████████████████████████████████████████████████████████████████| 1000/1000 [00:00<00:00, 235119.91it/s]\n"
     ]
    },
    {
     "name": "stdout",
     "output_type": "stream",
     "text": [
      "\t<NORD_DS> Initial state Case10\n"
     ]
    },
    {
     "name": "stderr",
     "output_type": "stream",
     "text": [
      "100%|███████████████████████████████████████████████████████████████████████████████████████████| 1/1 [00:00<00:00, 36472.21it/s]\n"
     ]
    },
    {
     "name": "stdout",
     "output_type": "stream",
     "text": [
      "Drug T2 (1/1) in state Case10 - nexponential_depth{}\tnexponential_rates{}\n"
     ]
    },
    {
     "name": "stderr",
     "output_type": "stream",
     "text": [
      "100%|████████████████████████████████████████████████████████████████████████████████████| 1000/1000 [00:00<00:00, 223469.76it/s]\n"
     ]
    },
    {
     "name": "stdout",
     "output_type": "stream",
     "text": [
      "\t<NORD_DS> Initial state Case8\n"
     ]
    },
    {
     "name": "stderr",
     "output_type": "stream",
     "text": [
      "100%|███████████████████████████████████████████████████████████████████████████████████████████| 1/1 [00:00<00:00, 31775.03it/s]\n"
     ]
    },
    {
     "name": "stdout",
     "output_type": "stream",
     "text": [
      "Drug T3 (1/1) in state Case8 - nexponential_depth{}\tnexponential_rates{}\n"
     ]
    },
    {
     "name": "stderr",
     "output_type": "stream",
     "text": [
      "100%|████████████████████████████████████████████████████████████████████████████████████| 1000/1000 [00:00<00:00, 173210.98it/s]\n"
     ]
    },
    {
     "name": "stdout",
     "output_type": "stream",
     "text": [
      "\t<NORD_DS> Initial state Case1\n"
     ]
    },
    {
     "name": "stderr",
     "output_type": "stream",
     "text": [
      "100%|███████████████████████████████████████████████████████████████████████████████████████████| 1/1 [00:00<00:00, 36792.14it/s]\n"
     ]
    },
    {
     "name": "stdout",
     "output_type": "stream",
     "text": [
      "Drug T1 (1/1) in state Case1 - nexponential_depth{}\tnexponential_rates{}\n"
     ]
    },
    {
     "name": "stderr",
     "output_type": "stream",
     "text": [
      "100%|████████████████████████████████████████████████████████████████████████████████████| 1000/1000 [00:00<00:00, 174160.36it/s]\n"
     ]
    },
    {
     "name": "stdout",
     "output_type": "stream",
     "text": [
      "\t<NORD_DS> Initial state Case3\n"
     ]
    },
    {
     "name": "stderr",
     "output_type": "stream",
     "text": [
      "100%|███████████████████████████████████████████████████████████████████████████████████████████| 1/1 [00:00<00:00, 31068.92it/s]\n"
     ]
    },
    {
     "name": "stdout",
     "output_type": "stream",
     "text": [
      "Drug T2 (1/1) in state Case3 - nexponential_depth{}\tnexponential_rates{}\n"
     ]
    },
    {
     "name": "stderr",
     "output_type": "stream",
     "text": [
      "100%|████████████████████████████████████████████████████████████████████████████████████| 1000/1000 [00:00<00:00, 219850.30it/s]\n"
     ]
    },
    {
     "name": "stdout",
     "output_type": "stream",
     "text": [
      "\t<NORD_DS> Initial state Case10\n"
     ]
    },
    {
     "name": "stderr",
     "output_type": "stream",
     "text": [
      "100%|███████████████████████████████████████████████████████████████████████████████████████████| 1/1 [00:00<00:00, 39945.75it/s]\n"
     ]
    },
    {
     "name": "stdout",
     "output_type": "stream",
     "text": [
      "Drug T6 (1/1) in state Case10 - nexponential_depth{}\tnexponential_rates{}\n"
     ]
    },
    {
     "name": "stderr",
     "output_type": "stream",
     "text": [
      "100%|████████████████████████████████████████████████████████████████████████████████████| 1000/1000 [00:00<00:00, 232706.61it/s]"
     ]
    },
    {
     "name": "stdout",
     "output_type": "stream",
     "text": [
      "\t<NORD_DS> Initial state Case7\n"
     ]
    },
    {
     "name": "stderr",
     "output_type": "stream",
     "text": [
      "\n",
      "100%|███████████████████████████████████████████████████████████████████████████████████████████| 1/1 [00:00<00:00, 37786.52it/s]\n"
     ]
    },
    {
     "name": "stdout",
     "output_type": "stream",
     "text": [
      "Drug T1 (1/1) in state Case7 - nexponential_depth{}\tnexponential_rates{}\n"
     ]
    },
    {
     "name": "stderr",
     "output_type": "stream",
     "text": [
      "100%|████████████████████████████████████████████████████████████████████████████████████| 1000/1000 [00:00<00:00, 202868.39it/s]\n"
     ]
    },
    {
     "name": "stdout",
     "output_type": "stream",
     "text": [
      "\t<NORD_DS> Initial state Case8\n"
     ]
    },
    {
     "name": "stderr",
     "output_type": "stream",
     "text": [
      "100%|███████████████████████████████████████████████████████████████████████████████████████████| 1/1 [00:00<00:00, 37117.73it/s]\n"
     ]
    },
    {
     "name": "stdout",
     "output_type": "stream",
     "text": [
      "Drug T2 (1/1) in state Case8 - nexponential_depth{}\tnexponential_rates{}\n"
     ]
    },
    {
     "name": "stderr",
     "output_type": "stream",
     "text": [
      "100%|████████████████████████████████████████████████████████████████████████████████████| 1000/1000 [00:00<00:00, 214443.68it/s]\n"
     ]
    },
    {
     "name": "stdout",
     "output_type": "stream",
     "text": [
      "\t<NORD_DS> Initial state Case8\n"
     ]
    },
    {
     "name": "stderr",
     "output_type": "stream",
     "text": [
      "100%|███████████████████████████████████████████████████████████████████████████████████████████| 1/1 [00:00<00:00, 34952.53it/s]\n"
     ]
    },
    {
     "name": "stdout",
     "output_type": "stream",
     "text": [
      "Drug T6 (1/1) in state Case8 - nexponential_depth{}\tnexponential_rates{}\n"
     ]
    },
    {
     "name": "stderr",
     "output_type": "stream",
     "text": [
      "100%|████████████████████████████████████████████████████████████████████████████████████| 1000/1000 [00:00<00:00, 225427.50it/s]\n"
     ]
    },
    {
     "name": "stdout",
     "output_type": "stream",
     "text": [
      "\t<NORD_DS> Initial state Case8\n"
     ]
    },
    {
     "name": "stderr",
     "output_type": "stream",
     "text": [
      "100%|███████████████████████████████████████████████████████████████████████████████████████████| 1/1 [00:00<00:00, 38836.15it/s]\n"
     ]
    },
    {
     "name": "stdout",
     "output_type": "stream",
     "text": [
      "Drug T1 (1/1) in state Case8 - nexponential_depth{}\tnexponential_rates{}\n"
     ]
    },
    {
     "name": "stderr",
     "output_type": "stream",
     "text": [
      "100%|████████████████████████████████████████████████████████████████████████████████████| 1000/1000 [00:00<00:00, 199890.58it/s]\n"
     ]
    },
    {
     "name": "stdout",
     "output_type": "stream",
     "text": [
      "\t<NORD_DS> Initial state Case9\n"
     ]
    },
    {
     "name": "stderr",
     "output_type": "stream",
     "text": [
      "100%|███████████████████████████████████████████████████████████████████████████████████████████| 1/1 [00:00<00:00, 37786.52it/s]"
     ]
    },
    {
     "name": "stdout",
     "output_type": "stream",
     "text": [
      "Drug T2 (1/1) in state Case9 - nexponential_depth{}\tnexponential_rates{}\n"
     ]
    },
    {
     "name": "stderr",
     "output_type": "stream",
     "text": [
      "\n",
      "100%|████████████████████████████████████████████████████████████████████████████████████| 1000/1000 [00:00<00:00, 214905.16it/s]\n"
     ]
    },
    {
     "name": "stdout",
     "output_type": "stream",
     "text": [
      "\t<NORD_DS> Initial state Case5\n"
     ]
    },
    {
     "name": "stderr",
     "output_type": "stream",
     "text": [
      "100%|███████████████████████████████████████████████████████████████████████████████████████████| 1/1 [00:00<00:00, 38130.04it/s]\n"
     ]
    },
    {
     "name": "stdout",
     "output_type": "stream",
     "text": [
      "Drug T6 (1/1) in state Case5 - nexponential_depth{}\tnexponential_rates{}\n"
     ]
    },
    {
     "name": "stderr",
     "output_type": "stream",
     "text": [
      "100%|████████████████████████████████████████████████████████████████████████████████████| 1000/1000 [00:00<00:00, 229159.37it/s]\n"
     ]
    },
    {
     "name": "stdout",
     "output_type": "stream",
     "text": [
      "\t<NORD_DS> Initial state Case4\n"
     ]
    },
    {
     "name": "stderr",
     "output_type": "stream",
     "text": [
      "100%|███████████████████████████████████████████████████████████████████████████████████████████| 1/1 [00:00<00:00, 19065.02it/s]\n"
     ]
    },
    {
     "name": "stdout",
     "output_type": "stream",
     "text": [
      "Drug T6 (1/1) in state Case4 - nexponential_depth{}\tnexponential_rates{}\n"
     ]
    },
    {
     "name": "stderr",
     "output_type": "stream",
     "text": [
      "100%|████████████████████████████████████████████████████████████████████████████████████| 1000/1000 [00:00<00:00, 150333.48it/s]\n"
     ]
    },
    {
     "name": "stdout",
     "output_type": "stream",
     "text": [
      "\t<NORD_DS> Initial state Case6\n"
     ]
    },
    {
     "name": "stderr",
     "output_type": "stream",
     "text": [
      "100%|███████████████████████████████████████████████████████████████████████████████████████████| 1/1 [00:00<00:00, 36157.79it/s]\n"
     ]
    },
    {
     "name": "stdout",
     "output_type": "stream",
     "text": [
      "Drug T1 (1/1) in state Case6 - nexponential_depth{}\tnexponential_rates{}\n"
     ]
    },
    {
     "name": "stderr",
     "output_type": "stream",
     "text": [
      "100%|████████████████████████████████████████████████████████████████████████████████████| 1000/1000 [00:00<00:00, 156486.36it/s]\n"
     ]
    },
    {
     "name": "stdout",
     "output_type": "stream",
     "text": [
      "\t<NORD_DS> Initial state Case4\n"
     ]
    },
    {
     "name": "stderr",
     "output_type": "stream",
     "text": [
      "100%|███████████████████████████████████████████████████████████████████████████████████████████| 1/1 [00:00<00:00, 34952.53it/s]\n"
     ]
    },
    {
     "name": "stdout",
     "output_type": "stream",
     "text": [
      "Drug T2 (1/1) in state Case4 - nexponential_depth{}\tnexponential_rates{}\n"
     ]
    },
    {
     "name": "stderr",
     "output_type": "stream",
     "text": [
      "100%|████████████████████████████████████████████████████████████████████████████████████| 1000/1000 [00:00<00:00, 176238.67it/s]\n"
     ]
    },
    {
     "name": "stdout",
     "output_type": "stream",
     "text": [
      "\t<NORD_DS> Initial state Case9\n"
     ]
    },
    {
     "name": "stderr",
     "output_type": "stream",
     "text": [
      "100%|███████████████████████████████████████████████████████████████████████████████████████████| 1/1 [00:00<00:00, 32513.98it/s]\n"
     ]
    },
    {
     "name": "stdout",
     "output_type": "stream",
     "text": [
      "Drug T6 (1/1) in state Case9 - nexponential_depth{}\tnexponential_rates{}\n"
     ]
    },
    {
     "name": "stderr",
     "output_type": "stream",
     "text": [
      "100%|████████████████████████████████████████████████████████████████████████████████████| 1000/1000 [00:00<00:00, 200100.38it/s]\n"
     ]
    },
    {
     "name": "stdout",
     "output_type": "stream",
     "text": [
      "It. #1: 41 samples (running avg. 41)\n",
      "<NORDic DR> Avg. #samples = 41, avg. runtime 0.34694862365722656 sec (over 1 iterations)\n"
     ]
    }
   ],
   "source": [
    "from NORDic.NORDic_DR.functions import adaptive_testing\n",
    "\n",
    "BANDIT_args = {\n",
    "    'bandit': 'LinGapE', \n",
    "    #type of algorithm, (greedy) LinGapE is faster but more prone to errors \n",
    "    #(assumes that the model is linear)\n",
    "    'seed': nbseed,\n",
    "    'delta': 0.1, #error rate\n",
    "    'nsimu': 1, #number of repeats\n",
    "    'm': 4, #number of recommendations to make\n",
    "\n",
    "    'c': 0, #nonnegative parameter to tune for MisLid (if the model is linear, set to 0\n",
    "    ## To speed up the algorithm, decrease c\n",
    "    ## To ensure correctness of the recommendation, increase c\n",
    "    'sigma': 1,\n",
    "    'beta': \"heuristic\",\n",
    "    'epsilon': 0.1,\n",
    "    'tracking_type': \"D\",\n",
    "    'gain_type': \"empirical\",\n",
    "    'learner': \"AdaHedge\"\n",
    "}\n",
    "recommendation = adaptive_testing(network_name, targets, targets, score, patients, \n",
    "        SIMU_params, BANDIT_args, reward_fname=None, quiet=False).T"
   ]
  },
  {
   "cell_type": "code",
   "execution_count": 12,
   "id": "456332b4",
   "metadata": {},
   "outputs": [
    {
     "data": {
      "text/html": [
       "<div>\n",
       "<style scoped>\n",
       "    .dataframe tbody tr th:only-of-type {\n",
       "        vertical-align: middle;\n",
       "    }\n",
       "\n",
       "    .dataframe tbody tr th {\n",
       "        vertical-align: top;\n",
       "    }\n",
       "\n",
       "    .dataframe thead th {\n",
       "        text-align: right;\n",
       "    }\n",
       "</style>\n",
       "<table border=\"1\" class=\"dataframe\">\n",
       "  <thead>\n",
       "    <tr style=\"text-align: right;\">\n",
       "      <th></th>\n",
       "      <th>Frequency</th>\n",
       "    </tr>\n",
       "  </thead>\n",
       "  <tbody>\n",
       "    <tr>\n",
       "      <th>T1</th>\n",
       "      <td>1.0</td>\n",
       "    </tr>\n",
       "    <tr>\n",
       "      <th>T2</th>\n",
       "      <td>1.0</td>\n",
       "    </tr>\n",
       "    <tr>\n",
       "      <th>T3</th>\n",
       "      <td>1.0</td>\n",
       "    </tr>\n",
       "    <tr>\n",
       "      <th>T4</th>\n",
       "      <td>0.0</td>\n",
       "    </tr>\n",
       "    <tr>\n",
       "      <th>T5</th>\n",
       "      <td>1.0</td>\n",
       "    </tr>\n",
       "    <tr>\n",
       "      <th>T6</th>\n",
       "      <td>0.0</td>\n",
       "    </tr>\n",
       "  </tbody>\n",
       "</table>\n",
       "</div>"
      ],
      "text/plain": [
       "    Frequency\n",
       "T1        1.0\n",
       "T2        1.0\n",
       "T3        1.0\n",
       "T4        0.0\n",
       "T5        1.0\n",
       "T6        0.0"
      ]
     },
     "execution_count": 12,
     "metadata": {},
     "output_type": "execute_result"
    }
   ],
   "source": [
    "recommendation"
   ]
  },
  {
   "cell_type": "code",
   "execution_count": 13,
   "id": "065f4de0",
   "metadata": {},
   "outputs": [
    {
     "name": "stdout",
     "output_type": "stream",
     "text": [
      "\t<NORD_DS> Initial state Case1\n",
      "Drug T1 (1/6) in state Case1 - nexponential_depth{}\tnexponential_rates{}\n",
      "Drug T2 (2/6) in state Case1 - nexponential_depth{}\tnexponential_rates{}\n",
      "\t<NORD_DS> Initial state Case2\n",
      "Drug T1 (1/6) in state Case2 - nexponential_depth{}\tnexponential_rates{}\n",
      "Drug T3 (3/6) in state Case1 - nexponential_depth{}\tnexponential_rates{}\n",
      "\t<NORD_DS> Initial state Case3\n",
      "Drug T2 (2/6) in state Case2 - nexponential_depth{}\tnexponential_rates{}\n",
      "Drug T1 (1/6) in state Case3 - nexponential_depth{}\tnexponential_rates{}\n",
      "Drug T4 (4/6) in state Case1 - nexponential_depth{}\tnexponential_rates{}\n",
      "Drug T3 (3/6) in state Case2 - nexponential_depth{}\tnexponential_rates{}\n",
      "Drug T2 (2/6) in state Case3 - nexponential_depth{}\tnexponential_rates{}\n",
      "Drug T5 (5/6) in state Case1 - nexponential_depth{}\tnexponential_rates{}\n",
      "Drug T4 (4/6) in state Case2 - nexponential_depth{}\tnexponential_rates{}\n",
      "Drug T3 (3/6) in state Case3 - nexponential_depth{}\tnexponential_rates{}\n",
      "Drug T6 (6/6) in state Case1 - nexponential_depth{}\tnexponential_rates{}\n",
      "Drug T5 (5/6) in state Case2 - nexponential_depth{}\tnexponential_rates{}\n",
      "Drug T4 (4/6) in state Case3 - nexponential_depth{}\tnexponential_rates{}\n",
      "Drug T6 (6/6) in state Case2 - nexponential_depth{}\tnexponential_rates{}\n",
      "Drug T5 (5/6) in state Case3 - nexponential_depth{}\tnexponential_rates{}\n",
      "\t<NORD_DS> Initial state Case5\n",
      "\t<NORD_DS> Initial state Case8\n",
      "Drug T1 (1/6) in state Case8 - nexponential_depth{}\tnexponential_rates{}\n",
      "Drug T1 (1/6) in state Case5 - nexponential_depth{}\tnexponential_rates{}\n",
      "Drug T6 (6/6) in state Case3 - nexponential_depth{}\tnexponential_rates{}\n",
      "Drug T2 (2/6) in state Case8 - nexponential_depth{}\tnexponential_rates{}\n",
      "Drug T2 (2/6) in state Case5 - nexponential_depth{}\tnexponential_rates{}\n",
      "Drug T3 (3/6) in state Case8 - nexponential_depth{}\tnexponential_rates{}\n",
      "Drug T3 (3/6) in state Case5 - nexponential_depth{}\tnexponential_rates{}\n",
      "Drug T4 (4/6) in state Case5 - nexponential_depth{}\tnexponential_rates{}\n",
      "Drug T4 (4/6) in state Case8 - nexponential_depth{}\tnexponential_rates{}\n",
      "Drug T5 (5/6) in state Case8 - nexponential_depth{}\tnexponential_rates{}\n",
      "Drug T5 (5/6) in state Case5 - nexponential_depth{}\tnexponential_rates{}\n",
      "Drug T6 (6/6) in state Case5 - nexponential_depth{}\tnexponential_rates{}\n",
      "Drug T6 (6/6) in state Case8 - nexponential_depth{}\tnexponential_rates{}\n",
      "\t<NORD_DS> Initial state Case4\n",
      "Drug T1 (1/6) in state Case4 - nexponential_depth{}\tnexponential_rates{}\n",
      "Drug T2 (2/6) in state Case4 - nexponential_depth{}\tnexponential_rates{}\n",
      "Drug T3 (3/6) in state Case4 - nexponential_depth{}\tnexponential_rates{}\n",
      "Drug T4 (4/6) in state Case4 - nexponential_depth{}\tnexponential_rates{}\n",
      "Drug T5 (5/6) in state Case4 - nexponential_depth{}\tnexponential_rates{}\n",
      "Drug T6 (6/6) in state Case4 - nexponential_depth{}\tnexponential_rates{}\n"
     ]
    },
    {
     "name": "stderr",
     "output_type": "stream",
     "text": [
      "100%|██████████| 1/1 [00:00<00:00, 46603.38it/s]\n",
      "100%|██████████| 1000/1000 [00:00<00:00, 196050.48it/s]\n",
      "100%|██████████| 1/1 [00:00<00:00, 49932.19it/s]\n",
      "100%|██████████| 1/1 [00:00<00:00, 51781.53it/s]\n",
      "100%|██████████| 1000/1000 [00:00<00:00, 221909.11it/s]\n",
      "100%|██████████| 1/1 [00:00<00:00, 48210.39it/s]\n",
      "100%|██████████| 1000/1000 [00:00<00:00, 186347.25it/s]\n",
      "100%|██████████| 1000/1000 [00:00<00:00, 212714.47it/s]\n",
      "  0%|          | 0/1000 [00:00<?, ?it/s]\n",
      "  0%|          | 0/1000 [00:00<?, ?it/s]\n",
      "100%|██████████| 1/1 [00:00<00:00, 50533.78it/s]\n",
      "100%|██████████| 1000/1000 [00:00<00:00, 194613.21it/s]\n",
      "100%|██████████| 1000/1000 [00:00<00:00, 204630.14it/s]\n",
      "\n",
      "100%|██████████| 1/1 [00:00<00:00, 43690.67it/s]\n",
      "  0%|          | 0/1000 [00:00<?, ?it/s]\n",
      "100%|██████████| 1/1 [00:00<00:00, 48770.98it/s]\n",
      "100%|██████████| 1000/1000 [00:00<00:00, 211940.58it/s]\n",
      "100%|██████████| 1000/1000 [00:00<00:00, 190054.10it/s]\n",
      "  0%|          | 0/1000 [00:00<?, ?it/s]\n",
      "100%|██████████| 1/1 [00:00<00:00, 28532.68it/s]\n",
      "  0%|          | 0/1000 [00:00<?, ?it/s]\n",
      "100%|██████████| 1/1 [00:00<00:00, 45590.26it/s]\n",
      "100%|██████████| 1000/1000 [00:00<00:00, 215202.87it/s]\n",
      "100%|██████████| 1/1 [00:00<00:00, 38836.15it/s]\n",
      "  0%|          | 0/1000 [00:00<?, ?it/s]\n",
      "100%|██████████| 1/1 [00:00<00:00, 48210.39it/s]\n",
      "100%|██████████| 1000/1000 [00:00<00:00, 202858.58it/s]\n",
      "\n",
      "100%|██████████| 1/1 [00:00<00:00, 46603.38it/s]\n",
      "  0%|          | 0/1000 [00:00<?, ?it/s]\n",
      "100%|██████████| 1/1 [00:00<00:00, 46091.25it/s]\n",
      "\n",
      "100%|██████████| 1000/1000 [00:00<00:00, 188499.57it/s]\n",
      "100%|██████████| 1000/1000 [00:00<00:00, 188220.43it/s]\n",
      "  0%|          | 0/1000 [00:00<?, ?it/s]\n",
      "\n",
      "100%|██████████| 1/1 [00:00<00:00, 39199.10it/s]\n",
      "  0%|          | 0/1000 [00:00<?, ?it/s]\n",
      "100%|██████████| 1000/1000 [00:00<00:00, 218875.12it/s]\n",
      "\n",
      "100%|██████████| 1/1 [00:00<00:00, 41943.04it/s]\n",
      "\n",
      "100%|██████████| 1000/1000 [00:00<00:00, 207679.94it/s]\n",
      "\n",
      "100%|██████████| 1/1 [00:00<00:00, 49344.75it/s]\n",
      "\n",
      "100%|██████████| 1000/1000 [00:00<00:00, 209977.67it/s]\n",
      "\n",
      "100%|██████████| 1/1 [00:00<00:00, 53092.46it/s]\n",
      "  0%|          | 0/1000 [00:00<?, ?it/s]\n",
      "100%|██████████| 1000/1000 [00:00<00:00, 189993.84it/s]\n",
      "100%|██████████| 1/1 [00:00<00:00, 52428.80it/s]\n",
      "100%|██████████| 1/1 [00:00<00:00, 51781.53it/s]\n",
      "  0%|          | 0/1000 [00:00<?, ?it/s]\n",
      "100%|██████████| 1/1 [00:00<00:00, 35848.75it/s]57it/s]\n",
      "100%|██████████| 1000/1000 [00:00<00:00, 154412.40it/s]\n",
      "100%|██████████| 1/1 [00:00<00:00, 46603.38it/s]\n",
      "100%|██████████| 1000/1000 [00:00<00:00, 186828.69it/s]\n",
      "100%|██████████| 1/1 [00:00<00:00, 48770.98it/s]\n",
      "100%|██████████| 1000/1000 [00:00<00:00, 164753.87it/s]\n",
      "100%|██████████| 1/1 [00:00<00:00, 49932.19it/s]\n",
      "100%|██████████| 1000/1000 [00:00<00:00, 164308.54it/s]\n",
      "100%|██████████| 1/1 [00:00<00:00, 47662.55it/s]\n",
      "100%|██████████| 1000/1000 [00:00<00:00, 151320.59it/s]\n",
      "100%|██████████| 1/1 [00:00<00:00, 47662.55it/s]\n",
      "  0%|          | 0/1000 [00:00<?, ?it/s]"
     ]
    },
    {
     "name": "stdout",
     "output_type": "stream",
     "text": [
      "\t<NORD_DS> Initial state Case9\n",
      "Drug T1 (1/6) in state Case9 - nexponential_depth{}\tnexponential_rates{}\n",
      "\t<NORD_DS> Initial state Case10\n",
      "Drug T1 (1/6) in state Case10 - nexponential_depth{}\tnexponential_rates{}\n",
      "\t<NORD_DS> Initial state Case7\n",
      "Drug T1 (1/6) in state Case7 - nexponential_depth{}\tnexponential_rates{}\n",
      "Drug T2 (2/6) in state Case9 - nexponential_depth{}\tnexponential_rates{}\n",
      "Drug T2 (2/6) in state Case10 - nexponential_depth{}\tnexponential_rates{}\n",
      "Drug T2 (2/6) in state Case7 - nexponential_depth{}\tnexponential_rates{}\n",
      "Drug T3 (3/6) in state Case9 - nexponential_depth{}\tnexponential_rates{}\n",
      "Drug T3 (3/6) in state Case10 - nexponential_depth{}\tnexponential_rates{}\n",
      "Drug T3 (3/6) in state Case7 - nexponential_depth{}\tnexponential_rates{}\n",
      "\t<NORD_DS> Initial state Case6\n",
      "Drug T1 (1/6) in state Case6 - nexponential_depth{}\tnexponential_rates{}\n",
      "Drug T4 (4/6) in state Case9 - nexponential_depth{}\tnexponential_rates{}\n",
      "Drug T4 (4/6) in state Case7 - nexponential_depth{}\tnexponential_rates{}\n",
      "Drug T4 (4/6) in state Case10 - nexponential_depth{}\tnexponential_rates{}\n",
      "Drug T2 (2/6) in state Case6 - nexponential_depth{}\tnexponential_rates{}\n",
      "Drug T5 (5/6) in state Case9 - nexponential_depth{}\tnexponential_rates{}\n",
      "Drug T5 (5/6) in state Case7 - nexponential_depth{}\tnexponential_rates{}\n",
      "Drug T3 (3/6) in state Case6 - nexponential_depth{}\tnexponential_rates{}\n",
      "Drug T5 (5/6) in state Case10 - nexponential_depth{}\tnexponential_rates{}\n",
      "Drug T6 (6/6) in state Case9 - nexponential_depth{}\tnexponential_rates{}\n",
      "Drug T6 (6/6) in state Case7 - nexponential_depth{}\tnexponential_rates{}\n",
      "Drug T4 (4/6) in state Case6 - nexponential_depth{}\tnexponential_rates{}\n",
      "Drug T6 (6/6) in state Case10 - nexponential_depth{}\tnexponential_rates{}\n",
      "Drug T5 (5/6) in state Case6 - nexponential_depth{}\tnexponential_rates{}\n",
      "Drug T6 (6/6) in state Case6 - nexponential_depth{}\tnexponential_rates{}\n"
     ]
    },
    {
     "name": "stderr",
     "output_type": "stream",
     "text": [
      "100%|██████████| 1/1 [00:00<00:00, 25575.02it/s]15it/s]\n",
      "100%|██████████| 1/1 [00:00<00:00, 28149.69it/s]\n",
      "100%|██████████| 1/1 [00:00<00:00, 54471.48it/s]\n",
      "100%|██████████| 1000/1000 [00:00<00:00, 201969.66it/s]\n",
      "100%|██████████| 1/1 [00:00<00:00, 53773.13it/s]\n",
      "100%|██████████| 1/1 [00:00<00:00, 62601.55it/s]\n",
      "100%|██████████| 1000/1000 [00:00<00:00, 207228.46it/s]\n",
      "  0%|          | 0/1000 [00:00<?, ?it/s]\n",
      "100%|██████████| 1/1 [00:00<00:00, 58254.22it/s]\n",
      "100%|██████████| 1000/1000 [00:00<00:00, 172017.55it/s]\n",
      "100%|██████████| 1000/1000 [00:00<00:00, 217355.24it/s]\n",
      "  0%|          | 0/1000 [00:00<?, ?it/s]\n",
      "100%|██████████| 1/1 [00:00<00:00, 54471.48it/s]\n",
      "  0%|          | 0/1000 [00:00<?, ?it/s]\n",
      "100%|██████████| 1/1 [00:00<00:00, 59074.70it/s]\n",
      "100%|██████████| 1000/1000 [00:00<00:00, 206993.24it/s]\n",
      "  0%|          | 0/1000 [00:00<?, ?it/s]\n",
      "100%|██████████| 1/1 [00:00<00:00, 64527.75it/s]78it/s]\n",
      "100%|██████████| 1000/1000 [00:00<00:00, 203320.76it/s]\n",
      "100%|██████████| 1/1 [00:00<00:00, 58254.22it/s]\n",
      "  0%|          | 0/1000 [00:00<?, ?it/s]\n",
      "100%|██████████| 1/1 [00:00<00:00, 51781.53it/s]\n",
      "100%|██████████| 1000/1000 [00:00<00:00, 214104.34it/s]\n",
      "100%|██████████| 1/1 [00:00<00:00, 51781.53it/s]\n",
      "100%|██████████| 1000/1000 [00:00<00:00, 209369.74it/s]\n",
      "100%|██████████| 1/1 [00:00<00:00, 53773.13it/s]\n",
      "100%|██████████| 1000/1000 [00:00<00:00, 223208.13it/s]\n",
      "100%|██████████| 1/1 [00:00<00:00, 60787.01it/s]\n",
      "  0%|          | 0/1000 [00:00<?, ?it/s]\n",
      "\n",
      "100%|██████████| 1/1 [00:00<00:00, 58254.22it/s]67it/s]\n",
      "\n",
      "100%|██████████| 1000/1000 [00:00<00:00, 207659.37it/s]\n",
      "100%|██████████| 1/1 [00:00<00:00, 39568.91it/s]\n",
      "100%|██████████| 1000/1000 [00:00<00:00, 203616.87it/s]\n",
      "100%|██████████| 1/1 [00:00<00:00, 44620.26it/s]84it/s]\n",
      "100%|██████████| 1000/1000 [00:00<00:00, 226817.22it/s]\n",
      "100%|██████████| 1/1 [00:00<00:00, 57456.22it/s]\n",
      "  0%|          | 0/1000 [00:00<?, ?it/s]\n",
      "100%|██████████| 1/1 [00:00<00:00, 45100.04it/s]\n",
      "100%|██████████| 1000/1000 [00:00<00:00, 195748.54it/s]\n",
      "100%|██████████| 1/1 [00:00<00:00, 51781.53it/s]\n",
      "100%|██████████| 1000/1000 [00:00<00:00, 189590.20it/s]\n",
      "100%|██████████| 1/1 [00:00<00:00, 49932.19it/s]\n",
      "100%|██████████| 1000/1000 [00:00<00:00, 232771.19it/s]"
     ]
    }
   ],
   "source": [
    "## \"true\" scores\n",
    "from NORDic.NORDic_DS.functions import simulate\n",
    "\n",
    "scores = simulate(network_name, targets, patients, score, simu_params=SIMU_params, nbseed=nbseed)"
   ]
  },
  {
   "cell_type": "code",
   "execution_count": 14,
   "id": "e3924169",
   "metadata": {},
   "outputs": [],
   "source": [
    "ground_truth = scores.mean(axis=0).sort_values(ascending=False)"
   ]
  },
  {
   "cell_type": "code",
   "execution_count": 15,
   "id": "30aba8e2",
   "metadata": {},
   "outputs": [
    {
     "data": {
      "text/html": [
       "<div>\n",
       "<style scoped>\n",
       "    .dataframe tbody tr th:only-of-type {\n",
       "        vertical-align: middle;\n",
       "    }\n",
       "\n",
       "    .dataframe tbody tr th {\n",
       "        vertical-align: top;\n",
       "    }\n",
       "\n",
       "    .dataframe thead th {\n",
       "        text-align: right;\n",
       "    }\n",
       "</style>\n",
       "<table border=\"1\" class=\"dataframe\">\n",
       "  <thead>\n",
       "    <tr style=\"text-align: right;\">\n",
       "      <th></th>\n",
       "      <th>Frequency</th>\n",
       "      <th>Truth</th>\n",
       "    </tr>\n",
       "  </thead>\n",
       "  <tbody>\n",
       "    <tr>\n",
       "      <th>T1</th>\n",
       "      <td>1.0</td>\n",
       "      <td>1.0</td>\n",
       "    </tr>\n",
       "    <tr>\n",
       "      <th>T2</th>\n",
       "      <td>1.0</td>\n",
       "      <td>1.0</td>\n",
       "    </tr>\n",
       "    <tr>\n",
       "      <th>T3</th>\n",
       "      <td>1.0</td>\n",
       "      <td>1.0</td>\n",
       "    </tr>\n",
       "    <tr>\n",
       "      <th>T4</th>\n",
       "      <td>0.0</td>\n",
       "      <td>0.0</td>\n",
       "    </tr>\n",
       "    <tr>\n",
       "      <th>T5</th>\n",
       "      <td>1.0</td>\n",
       "      <td>1.0</td>\n",
       "    </tr>\n",
       "    <tr>\n",
       "      <th>T6</th>\n",
       "      <td>0.0</td>\n",
       "      <td>0.0</td>\n",
       "    </tr>\n",
       "  </tbody>\n",
       "</table>\n",
       "</div>"
      ],
      "text/plain": [
       "    Frequency  Truth\n",
       "T1        1.0    1.0\n",
       "T2        1.0    1.0\n",
       "T3        1.0    1.0\n",
       "T4        0.0    0.0\n",
       "T5        1.0    1.0\n",
       "T6        0.0    0.0"
      ]
     },
     "execution_count": 15,
     "metadata": {},
     "output_type": "execute_result"
    }
   ],
   "source": [
    "recommendation.join(pd.DataFrame(ground_truth, columns=[\"Truth\"]))"
   ]
  },
  {
   "cell_type": "markdown",
   "id": "284e6f78",
   "metadata": {},
   "source": [
    "Here, for the sake of simplicity, we have selected as features the target indicators. However, adequate feature selection is crucial (removing collinearity, dimension reduction, e.g., by performing a Principal Component Analysis) in order to fully benefit from the speed-up incurred by the use of bandit algorithms, especially in large drug libraries. "
   ]
  }
 ],
 "metadata": {
  "kernelspec": {
   "display_name": "Python 3 (ipykernel)",
   "language": "python",
   "name": "python3"
  },
  "language_info": {
   "codemirror_mode": {
    "name": "ipython",
    "version": 3
   },
   "file_extension": ".py",
   "mimetype": "text/x-python",
   "name": "python",
   "nbconvert_exporter": "python",
   "pygments_lexer": "ipython3",
   "version": "3.8.20"
  }
 },
 "nbformat": 4,
 "nbformat_minor": 5
}
