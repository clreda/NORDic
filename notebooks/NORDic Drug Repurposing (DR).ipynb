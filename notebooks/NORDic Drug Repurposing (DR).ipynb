{
 "cells": [
  {
   "cell_type": "markdown",
   "id": "1e4c4c7d",
   "metadata": {},
   "source": [
    "# Drug Repurposing (dummy example)"
   ]
  },
  {
   "cell_type": "markdown",
   "id": "99692990",
   "metadata": {},
   "source": [
    "This notebook assumes that you have read **NORDic Drug Simulation (DS)**. This vignette displays some examples of what can be achieved using **NORDic (version 2.2.1)** in order to use bandit algorithms to output drug recommendations using **NORDic DS** simulations. These simulations, as you might have noticed, can be rather time-consuming when handling a large number (i.e., ~100) nodes in the network. The idea behind the use of bandit algorithms is to exploit the information from drug signatures to selectively test drugs which are the most informative about the top treatments. "
   ]
  },
  {
   "cell_type": "markdown",
   "id": "79f9e29c",
   "metadata": {},
   "source": [
    "## Installation"
   ]
  },
  {
   "cell_type": "code",
   "execution_count": 1,
   "id": "a0808998",
   "metadata": {},
   "outputs": [],
   "source": [
    "import NORDic"
   ]
  },
  {
   "cell_type": "markdown",
   "id": "0a30edfb",
   "metadata": {},
   "source": [
    "## Drug recommendation using bandit algorithms"
   ]
  },
  {
   "cell_type": "code",
   "execution_count": 2,
   "id": "03431d9a",
   "metadata": {},
   "outputs": [
    {
     "data": {
      "text/plain": [
       "0"
      ]
     },
     "execution_count": 2,
     "metadata": {},
     "output_type": "execute_result"
    }
   ],
   "source": [
    "from subprocess import call as sbcall\n",
    "save_folder=\"MODELS/dummy2/\"\n",
    "sbcall(\"mkdir -p \"+save_folder, shell=True)"
   ]
  },
  {
   "cell_type": "code",
   "execution_count": 3,
   "id": "70f34b98",
   "metadata": {},
   "outputs": [
    {
     "data": {
      "text/html": [
       "<div>\n",
       "<style scoped>\n",
       "    .dataframe tbody tr th:only-of-type {\n",
       "        vertical-align: middle;\n",
       "    }\n",
       "\n",
       "    .dataframe tbody tr th {\n",
       "        vertical-align: top;\n",
       "    }\n",
       "\n",
       "    .dataframe thead th {\n",
       "        text-align: right;\n",
       "    }\n",
       "</style>\n",
       "<table border=\"1\" class=\"dataframe\">\n",
       "  <thead>\n",
       "    <tr style=\"text-align: right;\">\n",
       "      <th></th>\n",
       "      <th>X1</th>\n",
       "      <th>X2</th>\n",
       "      <th>X3</th>\n",
       "    </tr>\n",
       "  </thead>\n",
       "  <tbody>\n",
       "    <tr>\n",
       "      <th>X1</th>\n",
       "      <td>0</td>\n",
       "      <td>1</td>\n",
       "      <td>-1</td>\n",
       "    </tr>\n",
       "    <tr>\n",
       "      <th>X2</th>\n",
       "      <td>0</td>\n",
       "      <td>0</td>\n",
       "      <td>1</td>\n",
       "    </tr>\n",
       "    <tr>\n",
       "      <th>X3</th>\n",
       "      <td>0</td>\n",
       "      <td>0</td>\n",
       "      <td>0</td>\n",
       "    </tr>\n",
       "  </tbody>\n",
       "</table>\n",
       "</div>"
      ],
      "text/plain": [
       "    X1  X2  X3\n",
       "X1   0   1  -1\n",
       "X2   0   0   1\n",
       "X3   0   0   0"
      ]
     },
     "execution_count": 3,
     "metadata": {},
     "output_type": "execute_result"
    }
   ],
   "source": [
    "import pandas as pd\n",
    "import numpy as np\n",
    "nbseed=12345\n",
    "np.random.seed(nbseed)\n",
    "\n",
    "## List of input nodes for each edge\n",
    "source = list(map(lambda x: \"X%d\" % x,[1,1,2]))\n",
    "## List of target nodes for each edge\n",
    "target = list(map(lambda x : \"X%d\" % x,[2,3,3]))\n",
    "\n",
    "## List of all genes\n",
    "genes = list(sorted(list(set(source+target))))\n",
    "\n",
    "## Create the network (adjacency matrix)\n",
    "influences = pd.DataFrame([[0,1,-1],[0,0,1],[0,0,0]], index=genes, columns=genes).astype(int)\n",
    "influences"
   ]
  },
  {
   "cell_type": "code",
   "execution_count": 4,
   "id": "375692f2",
   "metadata": {},
   "outputs": [
    {
     "data": {
      "image/png": "[encoded data removed]",
      "text/plain": [
       "<IPython.core.display.Image object>"
      ]
     },
     "execution_count": 4,
     "metadata": {},
     "output_type": "execute_result"
    }
   ],
   "source": [
    "from NORDic.UTILS.utils_plot import influences2graph\n",
    "\n",
    "influences2graph(influences, save_folder+\"example\", optional=False, \n",
    "                 compile2png=True, engine=\"sfdp\")\n",
    "from IPython.display import Image\n",
    "Image(filename=save_folder+'example.png') "
   ]
  },
  {
   "cell_type": "code",
   "execution_count": 5,
   "id": "7c54d3d8",
   "metadata": {},
   "outputs": [
    {
     "data": {
      "text/plain": [
       "{'X2': {'X1': 1}, 'X3': {'X1': -1, 'X2': 1}}"
      ]
     },
     "execution_count": 5,
     "metadata": {},
     "output_type": "execute_result"
    }
   ],
   "source": [
    "## Gene regulatory functions (for each node in the network)\n",
    "\n",
    "grfs = {}\n",
    "for si, s in enumerate(source):\n",
    "    t = target[si]\n",
    "    grf, sign = grfs.get(t, {}), influences.loc[s][t]\n",
    "    if (sign==0):\n",
    "        continue\n",
    "    grf.update({s: sign})\n",
    "    grfs.update({t: grf})\n",
    "grfs"
   ]
  },
  {
   "cell_type": "code",
   "execution_count": 6,
   "id": "0df93747",
   "metadata": {},
   "outputs": [
    {
     "name": "stdout",
     "output_type": "stream",
     "text": [
      "X1 <- 1\n",
      "X2 <- (X1)\n",
      "X3 <- (X2)&(!X1)\n"
     ]
    }
   ],
   "source": [
    "with open(save_folder+\"example.bnet\", \"w\") as f:\n",
    "    network = []\n",
    "    for g in genes:\n",
    "        if (g in grfs):\n",
    "            activators = [r for r in grfs[g] if (grfs[g][r]>0)]\n",
    "            inhibitors = [\"!\"+r for r in grfs[g] if (grfs[g][r]<0)]\n",
    "            ## note that the separator is \", \"\n",
    "            network += [g+\", \"+(\"(\"+\"|\".join(activators)+\")\" if (len(activators)>0) else \"\")\n",
    "                        +(\"&\" if ((len(activators)>0) and (len(inhibitors)>0)) else \"\")\n",
    "                        +(\"(\"+\"&\".join(inhibitors)+\")\" if (len(inhibitors)>0) else \"\")] \n",
    "        else:\n",
    "            network += [g+\", 1\"]\n",
    "    f.write(\"\\n\".join(network))\n",
    "    \n",
    "## Print the resulting network\n",
    "with open(save_folder+\"example.bnet\", \"r\") as f:\n",
    "    network = f.read()\n",
    "print(\"\\n\".join([\" <- \".join(s.split(\", \")) for s in network.split(\"\\n\")]))"
   ]
  },
  {
   "cell_type": "code",
   "execution_count": 7,
   "id": "55cee506",
   "metadata": {
    "scrolled": true
   },
   "outputs": [
    {
     "name": "stderr",
     "output_type": "stream",
     "text": [
      "  0%|                                                                                                                          | 0/10 [00:00<?, ?it/s]\n",
      "100%|█████████████████████████████████████████████████████████████████████████████████████████████████████████████████| 1/1 [00:00<00:00, 9279.43it/s]\u001b[A\n",
      "\n",
      "100%|█████████████████████████████████████████████████████████████████████████████████████████████████████████████████| 1/1 [00:00<00:00, 3751.61it/s]\u001b[A\n",
      "\n",
      "100%|█████████████████████████████████████████████████████████████████████████████████████████████████████████████████| 1/1 [00:00<00:00, 2868.88it/s]\u001b[A\n",
      "\n",
      "100%|█████████████████████████████████████████████████████████████████████████████████████████████████████████████████| 1/1 [00:00<00:00, 2894.62it/s]\u001b[A\n",
      "\n",
      "100%|█████████████████████████████████████████████████████████████████████████████████████████████████████████████████| 1/1 [00:00<00:00, 3695.42it/s]\u001b[A\n",
      "\n",
      "100%|█████████████████████████████████████████████████████████████████████████████████████████████████████████████████| 1/1 [00:00<00:00, 3758.34it/s]\u001b[A\n",
      "\n",
      "100%|█████████████████████████████████████████████████████████████████████████████████████████████████████████████████| 1/1 [00:00<00:00, 3587.94it/s]\u001b[A\n",
      "\n",
      "100%|█████████████████████████████████████████████████████████████████████████████████████████████████████████████████| 1/1 [00:00<00:00, 3837.42it/s]\u001b[A\n",
      " 40%|█████████████████████████████████████████████▌                                                                    | 4/10 [00:00<00:00, 32.44it/s]\n",
      "100%|█████████████████████████████████████████████████████████████████████████████████████████████████████████████████| 1/1 [00:00<00:00, 3761.71it/s]\u001b[A\n",
      "\n",
      "100%|█████████████████████████████████████████████████████████████████████████████████████████████████████████████████| 1/1 [00:00<00:00, 3695.42it/s]\u001b[A\n",
      "\n",
      "100%|█████████████████████████████████████████████████████████████████████████████████████████████████████████████████| 1/1 [00:00<00:00, 3679.21it/s]\u001b[A\n",
      "\n",
      "100%|█████████████████████████████████████████████████████████████████████████████████████████████████████████████████| 1/1 [00:00<00:00, 3741.57it/s]\u001b[A\n",
      "\n",
      "100%|█████████████████████████████████████████████████████████████████████████████████████████████████████████████████| 1/1 [00:00<00:00, 3823.43it/s]\u001b[A\n",
      "\n",
      "100%|█████████████████████████████████████████████████████████████████████████████████████████████████████████████████| 1/1 [00:00<00:00, 3765.08it/s]\u001b[A\n",
      "\n",
      "100%|█████████████████████████████████████████████████████████████████████████████████████████████████████████████████| 1/1 [00:00<00:00, 3175.10it/s]\u001b[A\n",
      "\n",
      "100%|█████████████████████████████████████████████████████████████████████████████████████████████████████████████████| 1/1 [00:00<00:00, 3527.59it/s]\u001b[A\n",
      " 80%|███████████████████████████████████████████████████████████████████████████████████████████▏                      | 8/10 [00:00<00:00, 34.94it/s]\n",
      "100%|█████████████████████████████████████████████████████████████████████████████████████████████████████████████████| 1/1 [00:00<00:00, 3407.23it/s]\u001b[A\n",
      "\n",
      "100%|█████████████████████████████████████████████████████████████████████████████████████████████████████████████████| 1/1 [00:00<00:00, 3609.56it/s]\u001b[A\n",
      "\n",
      "100%|█████████████████████████████████████████████████████████████████████████████████████████████████████████████████| 1/1 [00:00<00:00, 3956.89it/s]\u001b[A\n",
      "\n",
      "100%|█████████████████████████████████████████████████████████████████████████████████████████████████████████████████| 1/1 [00:00<00:00, 4021.38it/s]\u001b[A\n",
      "100%|█████████████████████████████████████████████████████████████████████████████████████████████████████████████████| 10/10 [00:00<00:00, 34.71it/s]\n"
     ]
    }
   ],
   "source": [
    "import mpbn\n",
    "import mpbn_sim\n",
    "from tqdm import tqdm\n",
    "from multiprocessing import cpu_count\n",
    "import os\n",
    "\n",
    "njobs=max(1,cpu_count()-2)\n",
    "SIMU_params = {\n",
    "    'nb_sims': 1000,\n",
    "    'rates': \"nexponential\",\n",
    "    #weighting vector W=(W1, W2, ..., Wn) weight of a transition changing n components at a time\n",
    "    #rates=\"uniform\": W=(1,1,...,1)\n",
    "    #rates=\"fully_asynchronous\": 1 component at a time is changed, meaning W=(1, 0, ..., 0)\n",
    "    #rates=\"reciprocal\": undocumented\n",
    "    #rates=\"nexponential\": (sampling weight from an exponentially decreasing distr.)\n",
    "    'thread_count': njobs,\n",
    "    'depth': \"nexponential\", \n",
    "    #depth=\"constant_unitary\" (depth=1): asynchronous transitions\n",
    "    #depth=2: target expression can change while regulator expression changes\n",
    "    #depth=3: target of target expression can change while target expression changes, etc.\n",
    "    #depth=\"constant_maximum\" (depth=N, where N is the number of nodes in the network)\n",
    "    #depth=\"nexponential\" (sampling depth from an exponentially decreasing distr.)\n",
    "}\n",
    "network_name = save_folder+\"example.bnet\"\n",
    "assert SIMU_params[\"depth\"] in [\"constant_maximum\", \"constant_unitary\", \"nexponential\"]\n",
    "assert SIMU_params[\"rates\"] in [\"fully_asynchronous\", \"uniform\", \"reciprocal\", \"nexponential\"]\n",
    "\n",
    "## Create the mutated networks\n",
    "def patch_model(f, patch):\n",
    "    f = mpbn.MPBooleanNetwork(f)\n",
    "    for i, fi in patch.items():\n",
    "        f[i] = fi\n",
    "    return f\n",
    "experiments = [{\"name\": \"mpsim\", \"rates\": SIMU_params[\"rates\"], \"depth\": SIMU_params[\"depth\"]}]\n",
    "nb_sims = SIMU_params[\"nb_sims\"]\n",
    "\n",
    "if (not os.path.exists(save_folder+\"phenotypes.csv\")):\n",
    "    f_wildtype = mpbn.load(network_name)\n",
    "    ## Initial states drawn at random\n",
    "    state_len = 10\n",
    "    states = pd.DataFrame(\n",
    "      [np.random.choice([0,1], p=[0.5,0.5], size=len(genes)).tolist() for _ in range(state_len)]\n",
    "      , columns=genes, index=range(state_len)).T\n",
    "    A_WT, A_mut = [], []\n",
    "    for state in tqdm(states.columns):\n",
    "        x0 = f_wildtype.zero()\n",
    "        for i in list(states.loc[states[state]==1].columns):\n",
    "            x0[i] = 1\n",
    "        x0[\"X2\"] = 1 # in wild type\n",
    "        f_mutant = patch_model(f_wildtype, {\"X2\": 0})\n",
    "        ## Get the reachable attractors from initial state in the presence/absence of X0 knockout\n",
    "        A_WT += [a for a in tqdm(list(f_wildtype.attractors(reachable_from=x0)))]\n",
    "        A_mut += [a for a in tqdm(list(f_mutant.attractors(reachable_from=x0)))]"
   ]
  },
  {
   "cell_type": "code",
   "execution_count": 8,
   "id": "be463597",
   "metadata": {},
   "outputs": [
    {
     "data": {
      "text/html": [
       "<div>\n",
       "<style scoped>\n",
       "    .dataframe tbody tr th:only-of-type {\n",
       "        vertical-align: middle;\n",
       "    }\n",
       "\n",
       "    .dataframe tbody tr th {\n",
       "        vertical-align: top;\n",
       "    }\n",
       "\n",
       "    .dataframe thead th {\n",
       "        text-align: right;\n",
       "    }\n",
       "</style>\n",
       "<table border=\"1\" class=\"dataframe\">\n",
       "  <thead>\n",
       "    <tr style=\"text-align: right;\">\n",
       "      <th></th>\n",
       "      <th>Control1</th>\n",
       "      <th>Control2</th>\n",
       "      <th>Control3</th>\n",
       "      <th>Control4</th>\n",
       "      <th>Control5</th>\n",
       "      <th>Control6</th>\n",
       "      <th>Control7</th>\n",
       "      <th>Control8</th>\n",
       "      <th>Control9</th>\n",
       "      <th>Control10</th>\n",
       "      <th>Case1</th>\n",
       "      <th>Case2</th>\n",
       "      <th>Case3</th>\n",
       "      <th>Case4</th>\n",
       "      <th>Case5</th>\n",
       "      <th>Case6</th>\n",
       "      <th>Case7</th>\n",
       "      <th>Case8</th>\n",
       "      <th>Case9</th>\n",
       "      <th>Case10</th>\n",
       "    </tr>\n",
       "  </thead>\n",
       "  <tbody>\n",
       "    <tr>\n",
       "      <th>X1</th>\n",
       "      <td>1</td>\n",
       "      <td>1</td>\n",
       "      <td>1</td>\n",
       "      <td>1</td>\n",
       "      <td>1</td>\n",
       "      <td>1</td>\n",
       "      <td>1</td>\n",
       "      <td>1</td>\n",
       "      <td>1</td>\n",
       "      <td>1</td>\n",
       "      <td>1</td>\n",
       "      <td>1</td>\n",
       "      <td>1</td>\n",
       "      <td>1</td>\n",
       "      <td>1</td>\n",
       "      <td>1</td>\n",
       "      <td>1</td>\n",
       "      <td>1</td>\n",
       "      <td>1</td>\n",
       "      <td>1</td>\n",
       "    </tr>\n",
       "    <tr>\n",
       "      <th>X2</th>\n",
       "      <td>1</td>\n",
       "      <td>1</td>\n",
       "      <td>1</td>\n",
       "      <td>1</td>\n",
       "      <td>1</td>\n",
       "      <td>1</td>\n",
       "      <td>1</td>\n",
       "      <td>1</td>\n",
       "      <td>1</td>\n",
       "      <td>1</td>\n",
       "      <td>0</td>\n",
       "      <td>0</td>\n",
       "      <td>0</td>\n",
       "      <td>0</td>\n",
       "      <td>0</td>\n",
       "      <td>0</td>\n",
       "      <td>0</td>\n",
       "      <td>0</td>\n",
       "      <td>0</td>\n",
       "      <td>0</td>\n",
       "    </tr>\n",
       "    <tr>\n",
       "      <th>X3</th>\n",
       "      <td>0</td>\n",
       "      <td>0</td>\n",
       "      <td>0</td>\n",
       "      <td>0</td>\n",
       "      <td>0</td>\n",
       "      <td>0</td>\n",
       "      <td>0</td>\n",
       "      <td>0</td>\n",
       "      <td>0</td>\n",
       "      <td>0</td>\n",
       "      <td>0</td>\n",
       "      <td>0</td>\n",
       "      <td>0</td>\n",
       "      <td>0</td>\n",
       "      <td>0</td>\n",
       "      <td>0</td>\n",
       "      <td>0</td>\n",
       "      <td>0</td>\n",
       "      <td>0</td>\n",
       "      <td>0</td>\n",
       "    </tr>\n",
       "    <tr>\n",
       "      <th>annotation</th>\n",
       "      <td>1</td>\n",
       "      <td>1</td>\n",
       "      <td>1</td>\n",
       "      <td>1</td>\n",
       "      <td>1</td>\n",
       "      <td>1</td>\n",
       "      <td>1</td>\n",
       "      <td>1</td>\n",
       "      <td>1</td>\n",
       "      <td>1</td>\n",
       "      <td>2</td>\n",
       "      <td>2</td>\n",
       "      <td>2</td>\n",
       "      <td>2</td>\n",
       "      <td>2</td>\n",
       "      <td>2</td>\n",
       "      <td>2</td>\n",
       "      <td>2</td>\n",
       "      <td>2</td>\n",
       "      <td>2</td>\n",
       "    </tr>\n",
       "  </tbody>\n",
       "</table>\n",
       "</div>"
      ],
      "text/plain": [
       "            Control1  Control2  Control3  Control4  Control5  Control6  \\\n",
       "X1                 1         1         1         1         1         1   \n",
       "X2                 1         1         1         1         1         1   \n",
       "X3                 0         0         0         0         0         0   \n",
       "annotation         1         1         1         1         1         1   \n",
       "\n",
       "            Control7  Control8  Control9  Control10  Case1  Case2  Case3  \\\n",
       "X1                 1         1         1          1      1      1      1   \n",
       "X2                 1         1         1          1      0      0      0   \n",
       "X3                 0         0         0          0      0      0      0   \n",
       "annotation         1         1         1          1      2      2      2   \n",
       "\n",
       "            Case4  Case5  Case6  Case7  Case8  Case9  Case10  \n",
       "X1              1      1      1      1      1      1       1  \n",
       "X2              0      0      0      0      0      0       0  \n",
       "X3              0      0      0      0      0      0       0  \n",
       "annotation      2      2      2      2      2      2       2  "
      ]
     },
     "execution_count": 8,
     "metadata": {},
     "output_type": "execute_result"
    }
   ],
   "source": [
    "for a in A_WT:\n",
    "    a.update({\"annotation\": 1})\n",
    "for a in A_mut:\n",
    "    a.update({\"annotation\": 2})\n",
    "controls = {\"Control%d\" % (i+1): a for i,a in enumerate(A_WT)}\n",
    "patients = {\"Case%d\" % (i+1): a for i,a in enumerate(A_mut)}\n",
    "controls.update(patients)\n",
    "states = pd.DataFrame(controls)\n",
    "states"
   ]
  },
  {
   "cell_type": "code",
   "execution_count": 9,
   "id": "559f6641",
   "metadata": {},
   "outputs": [
    {
     "data": {
      "text/html": [
       "<div>\n",
       "<style scoped>\n",
       "    .dataframe tbody tr th:only-of-type {\n",
       "        vertical-align: middle;\n",
       "    }\n",
       "\n",
       "    .dataframe tbody tr th {\n",
       "        vertical-align: top;\n",
       "    }\n",
       "\n",
       "    .dataframe thead th {\n",
       "        text-align: right;\n",
       "    }\n",
       "</style>\n",
       "<table border=\"1\" class=\"dataframe\">\n",
       "  <thead>\n",
       "    <tr style=\"text-align: right;\">\n",
       "      <th></th>\n",
       "      <th>T1</th>\n",
       "      <th>T2</th>\n",
       "      <th>T3</th>\n",
       "      <th>T4</th>\n",
       "      <th>T5</th>\n",
       "      <th>T6</th>\n",
       "    </tr>\n",
       "  </thead>\n",
       "  <tbody>\n",
       "    <tr>\n",
       "      <th>X1</th>\n",
       "      <td>1</td>\n",
       "      <td>-1</td>\n",
       "      <td>0</td>\n",
       "      <td>0</td>\n",
       "      <td>0</td>\n",
       "      <td>-1</td>\n",
       "    </tr>\n",
       "    <tr>\n",
       "      <th>X2</th>\n",
       "      <td>1</td>\n",
       "      <td>1</td>\n",
       "      <td>1</td>\n",
       "      <td>-1</td>\n",
       "      <td>1</td>\n",
       "      <td>0</td>\n",
       "    </tr>\n",
       "    <tr>\n",
       "      <th>X3</th>\n",
       "      <td>0</td>\n",
       "      <td>0</td>\n",
       "      <td>-1</td>\n",
       "      <td>1</td>\n",
       "      <td>0</td>\n",
       "      <td>-1</td>\n",
       "    </tr>\n",
       "  </tbody>\n",
       "</table>\n",
       "</div>"
      ],
      "text/plain": [
       "    T1  T2  T3  T4  T5  T6\n",
       "X1   1  -1   0   0   0  -1\n",
       "X2   1   1   1  -1   1   0\n",
       "X3   0   0  -1   1   0  -1"
      ]
     },
     "execution_count": 9,
     "metadata": {},
     "output_type": "execute_result"
    }
   ],
   "source": [
    "targets = pd.DataFrame({\n",
    "    \"T1\": {\"X1\": 1, \"X2\": 1}, #expected treatment\n",
    "    \"T2\": {\"X1\": -1, \"X2\": 1}, #expected treatment\n",
    "    \"T3\": {\"X3\": -1, \"X2\": 1}, #expected treatment\n",
    "    \"T4\": {\"X2\": -1, \"X3\": 1},\n",
    "    \"T5\": {\"X2\": 1}, #expected treatment\n",
    "    \"T6\": {\"X3\": -1, \"X1\": -1},\n",
    "})\n",
    "all_genes = pd.DataFrame({\"One\": {g: 0 for g in genes}})\n",
    "targets = targets.join(all_genes, how=\"outer\").fillna(0)[[c for c in targets.columns if (c!=\"One\")]].astype(int)\n",
    "targets"
   ]
  },
  {
   "cell_type": "code",
   "execution_count": 10,
   "id": "be7c23bd",
   "metadata": {},
   "outputs": [
    {
     "name": "stdout",
     "output_type": "stream",
     "text": [
      "<NORD_DS> Accuracy of the model 1.00\n"
     ]
    }
   ],
   "source": [
    "## Define the function which determines whether a state is closer to controls/patients\n",
    "dfdata = states.loc[[i for i in states.index if (i != \"annotation\")]]\n",
    "samples = states.loc[\"annotation\"]\n",
    "from NORDic.NORDic_DS.functions import compute_frontier\n",
    "## compute_frontier fits a SVM model to the data\n",
    "frontier = compute_frontier(dfdata, samples)\n",
    "score = lambda attrs : (frontier.predict(attrs.values.T)==1).astype(int)\n",
    "\n",
    "## Patient profiles\n",
    "patients = states[[c for c in states.columns if (\"Case\" in c)]].loc[[i for i in states.index if (i != \"annotation\")]]"
   ]
  },
  {
   "cell_type": "code",
   "execution_count": 11,
   "id": "8090bf0c",
   "metadata": {},
   "outputs": [
    {
     "name": "stderr",
     "output_type": "stream",
     "text": [
      "domRec ignored: No domain atoms found.\n"
     ]
    },
    {
     "name": "stdout",
     "output_type": "stream",
     "text": [
      "\t<NORD_DS> Initial state Case3\n"
     ]
    },
    {
     "name": "stderr",
     "output_type": "stream",
     "text": [
      "100%|█████████████████████████████████████████████████████████████████████████████████████████████████████████████████| 1/1 [00:00<00:00, 3506.94it/s]\n"
     ]
    },
    {
     "name": "stdout",
     "output_type": "stream",
     "text": [
      "Drug T1 (1/1) in state Case3 - nexponential_depth{}\tnexponential_rates{}\n"
     ]
    },
    {
     "name": "stderr",
     "output_type": "stream",
     "text": [
      "100%|██████████████████████████████████████████████████████████████████████████████████████████████████████████| 1000/1000 [00:00<00:00, 40558.77it/s]\n"
     ]
    },
    {
     "name": "stdout",
     "output_type": "stream",
     "text": [
      "\t<NORD_DS> Initial state Case6\n"
     ]
    },
    {
     "name": "stderr",
     "output_type": "stream",
     "text": [
      "100%|█████████████████████████████████████████████████████████████████████████████████████████████████████████████████| 1/1 [00:00<00:00, 3600.26it/s]\n"
     ]
    },
    {
     "name": "stdout",
     "output_type": "stream",
     "text": [
      "Drug T2 (1/1) in state Case6 - nexponential_depth{}\tnexponential_rates{}\n"
     ]
    },
    {
     "name": "stderr",
     "output_type": "stream",
     "text": [
      "100%|██████████████████████████████████████████████████████████████████████████████████████████████████████████| 1000/1000 [00:00<00:00, 44413.31it/s]\n",
      "domRec ignored: No domain atoms found.\n"
     ]
    },
    {
     "name": "stdout",
     "output_type": "stream",
     "text": [
      "\t<NORD_DS> Initial state Case2\n"
     ]
    },
    {
     "name": "stderr",
     "output_type": "stream",
     "text": [
      "100%|█████████████████████████████████████████████████████████████████████████████████████████████████████████████████| 1/1 [00:00<00:00, 3650.40it/s]\n"
     ]
    },
    {
     "name": "stdout",
     "output_type": "stream",
     "text": [
      "Drug T3 (1/1) in state Case2 - nexponential_depth{}\tnexponential_rates{}\n"
     ]
    },
    {
     "name": "stderr",
     "output_type": "stream",
     "text": [
      "100%|██████████████████████████████████████████████████████████████████████████████████████████████████████████| 1000/1000 [00:00<00:00, 43164.60it/s]\n",
      "domRec ignored: No domain atoms found.\n"
     ]
    },
    {
     "name": "stdout",
     "output_type": "stream",
     "text": [
      "\t<NORD_DS> Initial state Case5\n"
     ]
    },
    {
     "name": "stderr",
     "output_type": "stream",
     "text": [
      "100%|█████████████████████████████████████████████████████████████████████████████████████████████████████████████████| 1/1 [00:00<00:00, 3512.82it/s]\n"
     ]
    },
    {
     "name": "stdout",
     "output_type": "stream",
     "text": [
      "Drug T4 (1/1) in state Case5 - nexponential_depth{}\tnexponential_rates{}\n"
     ]
    },
    {
     "name": "stderr",
     "output_type": "stream",
     "text": [
      "100%|██████████████████████████████████████████████████████████████████████████████████████████████████████████| 1000/1000 [00:00<00:00, 39712.39it/s]\n",
      "domRec ignored: No domain atoms found.\n"
     ]
    },
    {
     "name": "stdout",
     "output_type": "stream",
     "text": [
      "\t<NORD_DS> Initial state Case10\n"
     ]
    },
    {
     "name": "stderr",
     "output_type": "stream",
     "text": [
      "100%|█████████████████████████████████████████████████████████████████████████████████████████████████████████████████| 1/1 [00:00<00:00, 3551.49it/s]\n"
     ]
    },
    {
     "name": "stdout",
     "output_type": "stream",
     "text": [
      "Drug T5 (1/1) in state Case10 - nexponential_depth{}\tnexponential_rates{}\n"
     ]
    },
    {
     "name": "stderr",
     "output_type": "stream",
     "text": [
      "100%|██████████████████████████████████████████████████████████████████████████████████████████████████████████| 1000/1000 [00:00<00:00, 41337.04it/s]\n"
     ]
    },
    {
     "name": "stdout",
     "output_type": "stream",
     "text": [
      "\t<NORD_DS> Initial state Case6\n"
     ]
    },
    {
     "name": "stderr",
     "output_type": "stream",
     "text": [
      "100%|█████████████████████████████████████████████████████████████████████████████████████████████████████████████████| 1/1 [00:00<00:00, 3518.71it/s]\n"
     ]
    },
    {
     "name": "stdout",
     "output_type": "stream",
     "text": [
      "Drug T6 (1/1) in state Case6 - nexponential_depth{}\tnexponential_rates{}\n"
     ]
    },
    {
     "name": "stderr",
     "output_type": "stream",
     "text": [
      "100%|██████████████████████████████████████████████████████████████████████████████████████████████████████████| 1000/1000 [00:00<00:00, 46841.75it/s]\n"
     ]
    },
    {
     "name": "stdout",
     "output_type": "stream",
     "text": [
      "\t<NORD_DS> Initial state Case3\n"
     ]
    },
    {
     "name": "stderr",
     "output_type": "stream",
     "text": [
      "100%|█████████████████████████████████████████████████████████████████████████████████████████████████████████████████| 1/1 [00:00<00:00, 7108.99it/s]\n"
     ]
    },
    {
     "name": "stdout",
     "output_type": "stream",
     "text": [
      "Drug T6 (1/1) in state Case3 - nexponential_depth{}\tnexponential_rates{}\n"
     ]
    },
    {
     "name": "stderr",
     "output_type": "stream",
     "text": [
      "100%|██████████████████████████████████████████████████████████████████████████████████████████████████████████| 1000/1000 [00:00<00:00, 18533.28it/s]\n"
     ]
    },
    {
     "name": "stdout",
     "output_type": "stream",
     "text": [
      "\t<NORD_DS> Initial state Case2\n"
     ]
    },
    {
     "name": "stderr",
     "output_type": "stream",
     "text": [
      "domRec ignored: No domain atoms found.\n",
      "100%|█████████████████████████████████████████████████████████████████████████████████████████████████████████████████| 1/1 [00:00<00:00, 9822.73it/s]\n"
     ]
    },
    {
     "name": "stdout",
     "output_type": "stream",
     "text": [
      "Drug T1 (1/1) in state Case2 - nexponential_depth{}\tnexponential_rates{}\n"
     ]
    },
    {
     "name": "stderr",
     "output_type": "stream",
     "text": [
      "100%|██████████████████████████████████████████████████████████████████████████████████████████████████████████| 1000/1000 [00:00<00:00, 40916.05it/s]\n"
     ]
    },
    {
     "name": "stdout",
     "output_type": "stream",
     "text": [
      "\t<NORD_DS> Initial state Case7\n"
     ]
    },
    {
     "name": "stderr",
     "output_type": "stream",
     "text": [
      "100%|█████████████████████████████████████████████████████████████████████████████████████████████████████████████████| 1/1 [00:00<00:00, 3692.17it/s]\n"
     ]
    },
    {
     "name": "stdout",
     "output_type": "stream",
     "text": [
      "Drug T6 (1/1) in state Case7 - nexponential_depth{}\tnexponential_rates{}\n"
     ]
    },
    {
     "name": "stderr",
     "output_type": "stream",
     "text": [
      "100%|██████████████████████████████████████████████████████████████████████████████████████████████████████████| 1000/1000 [00:00<00:00, 38878.99it/s]\n"
     ]
    },
    {
     "name": "stdout",
     "output_type": "stream",
     "text": [
      "\t<NORD_DS> Initial state Case10\n"
     ]
    },
    {
     "name": "stderr",
     "output_type": "stream",
     "text": [
      "100%|█████████████████████████████████████████████████████████████████████████████████████████████████████████████████| 1/1 [00:00<00:00, 3334.10it/s]\n"
     ]
    },
    {
     "name": "stdout",
     "output_type": "stream",
     "text": [
      "Drug T2 (1/1) in state Case10 - nexponential_depth{}\tnexponential_rates{}\n"
     ]
    },
    {
     "name": "stderr",
     "output_type": "stream",
     "text": [
      "100%|██████████████████████████████████████████████████████████████████████████████████████████████████████████| 1000/1000 [00:00<00:00, 38258.38it/s]\n",
      "domRec ignored: No domain atoms found.\n"
     ]
    },
    {
     "name": "stdout",
     "output_type": "stream",
     "text": [
      "\t<NORD_DS> Initial state Case8\n"
     ]
    },
    {
     "name": "stderr",
     "output_type": "stream",
     "text": [
      "100%|█████████████████████████████████████████████████████████████████████████████████████████████████████████████████| 1/1 [00:00<00:00, 3480.75it/s]\n"
     ]
    },
    {
     "name": "stdout",
     "output_type": "stream",
     "text": [
      "Drug T3 (1/1) in state Case8 - nexponential_depth{}\tnexponential_rates{}\n"
     ]
    },
    {
     "name": "stderr",
     "output_type": "stream",
     "text": [
      "100%|██████████████████████████████████████████████████████████████████████████████████████████████████████████| 1000/1000 [00:00<00:00, 43086.56it/s]\n",
      "domRec ignored: No domain atoms found.\n"
     ]
    },
    {
     "name": "stdout",
     "output_type": "stream",
     "text": [
      "\t<NORD_DS> Initial state Case1\n"
     ]
    },
    {
     "name": "stderr",
     "output_type": "stream",
     "text": [
      "100%|█████████████████████████████████████████████████████████████████████████████████████████████████████████████████| 1/1 [00:00<00:00, 3504.01it/s]\n"
     ]
    },
    {
     "name": "stdout",
     "output_type": "stream",
     "text": [
      "Drug T1 (1/1) in state Case1 - nexponential_depth{}\tnexponential_rates{}\n"
     ]
    },
    {
     "name": "stderr",
     "output_type": "stream",
     "text": [
      "100%|██████████████████████████████████████████████████████████████████████████████████████████████████████████| 1000/1000 [00:00<00:00, 37575.63it/s]\n"
     ]
    },
    {
     "name": "stdout",
     "output_type": "stream",
     "text": [
      "\t<NORD_DS> Initial state Case3\n"
     ]
    },
    {
     "name": "stderr",
     "output_type": "stream",
     "text": [
      "100%|█████████████████████████████████████████████████████████████████████████████████████████████████████████████████| 1/1 [00:00<00:00, 3165.51it/s]\n"
     ]
    },
    {
     "name": "stdout",
     "output_type": "stream",
     "text": [
      "Drug T2 (1/1) in state Case3 - nexponential_depth{}\tnexponential_rates{}\n"
     ]
    },
    {
     "name": "stderr",
     "output_type": "stream",
     "text": [
      "100%|██████████████████████████████████████████████████████████████████████████████████████████████████████████| 1000/1000 [00:00<00:00, 43027.77it/s]\n"
     ]
    },
    {
     "name": "stdout",
     "output_type": "stream",
     "text": [
      "\t<NORD_DS> Initial state Case10\n"
     ]
    },
    {
     "name": "stderr",
     "output_type": "stream",
     "text": [
      "100%|█████████████████████████████████████████████████████████████████████████████████████████████████████████████████| 1/1 [00:00<00:00, 3816.47it/s]\n"
     ]
    },
    {
     "name": "stdout",
     "output_type": "stream",
     "text": [
      "Drug T6 (1/1) in state Case10 - nexponential_depth{}\tnexponential_rates{}\n"
     ]
    },
    {
     "name": "stderr",
     "output_type": "stream",
     "text": [
      "100%|██████████████████████████████████████████████████████████████████████████████████████████████████████████| 1000/1000 [00:00<00:00, 48128.52it/s]\n"
     ]
    },
    {
     "name": "stdout",
     "output_type": "stream",
     "text": [
      "\t<NORD_DS> Initial state Case7\n"
     ]
    },
    {
     "name": "stderr",
     "output_type": "stream",
     "text": [
      "domRec ignored: No domain atoms found.\n",
      "100%|█████████████████████████████████████████████████████████████████████████████████████████████████████████████████| 1/1 [00:00<00:00, 2576.35it/s]\n"
     ]
    },
    {
     "name": "stdout",
     "output_type": "stream",
     "text": [
      "Drug T1 (1/1) in state Case7 - nexponential_depth{}\tnexponential_rates{}\n"
     ]
    },
    {
     "name": "stderr",
     "output_type": "stream",
     "text": [
      "100%|██████████████████████████████████████████████████████████████████████████████████████████████████████████| 1000/1000 [00:00<00:00, 41415.82it/s]\n"
     ]
    },
    {
     "name": "stdout",
     "output_type": "stream",
     "text": [
      "\t<NORD_DS> Initial state Case8\n"
     ]
    },
    {
     "name": "stderr",
     "output_type": "stream",
     "text": [
      "100%|█████████████████████████████████████████████████████████████████████████████████████████████████████████████████| 1/1 [00:00<00:00, 3521.67it/s]\n"
     ]
    },
    {
     "name": "stdout",
     "output_type": "stream",
     "text": [
      "Drug T2 (1/1) in state Case8 - nexponential_depth{}\tnexponential_rates{}\n"
     ]
    },
    {
     "name": "stderr",
     "output_type": "stream",
     "text": [
      "100%|██████████████████████████████████████████████████████████████████████████████████████████████████████████| 1000/1000 [00:00<00:00, 45987.15it/s]\n"
     ]
    },
    {
     "name": "stdout",
     "output_type": "stream",
     "text": [
      "\t<NORD_DS> Initial state Case8\n"
     ]
    },
    {
     "name": "stderr",
     "output_type": "stream",
     "text": [
      "100%|█████████████████████████████████████████████████████████████████████████████████████████████████████████████████| 1/1 [00:00<00:00, 3572.66it/s]\n"
     ]
    },
    {
     "name": "stdout",
     "output_type": "stream",
     "text": [
      "Drug T6 (1/1) in state Case8 - nexponential_depth{}\tnexponential_rates{}\n"
     ]
    },
    {
     "name": "stderr",
     "output_type": "stream",
     "text": [
      "100%|██████████████████████████████████████████████████████████████████████████████████████████████████████████| 1000/1000 [00:00<00:00, 45720.46it/s]\n",
      "domRec ignored: No domain atoms found.\n"
     ]
    },
    {
     "name": "stdout",
     "output_type": "stream",
     "text": [
      "\t<NORD_DS> Initial state Case8\n"
     ]
    },
    {
     "name": "stderr",
     "output_type": "stream",
     "text": [
      "100%|█████████████████████████████████████████████████████████████████████████████████████████████████████████████████| 1/1 [00:00<00:00, 3292.23it/s]\n"
     ]
    },
    {
     "name": "stdout",
     "output_type": "stream",
     "text": [
      "Drug T1 (1/1) in state Case8 - nexponential_depth{}\tnexponential_rates{}\n"
     ]
    },
    {
     "name": "stderr",
     "output_type": "stream",
     "text": [
      "100%|██████████████████████████████████████████████████████████████████████████████████████████████████████████| 1000/1000 [00:00<00:00, 35509.44it/s]\n"
     ]
    },
    {
     "name": "stdout",
     "output_type": "stream",
     "text": [
      "\t<NORD_DS> Initial state Case9\n"
     ]
    },
    {
     "name": "stderr",
     "output_type": "stream",
     "text": [
      "100%|█████████████████████████████████████████████████████████████████████████████████████████████████████████████████| 1/1 [00:00<00:00, 9000.65it/s]\n"
     ]
    },
    {
     "name": "stdout",
     "output_type": "stream",
     "text": [
      "Drug T2 (1/1) in state Case9 - nexponential_depth{}\tnexponential_rates{}\n"
     ]
    },
    {
     "name": "stderr",
     "output_type": "stream",
     "text": [
      "100%|██████████████████████████████████████████████████████████████████████████████████████████████████████████| 1000/1000 [00:00<00:00, 27103.74it/s]\n"
     ]
    },
    {
     "name": "stdout",
     "output_type": "stream",
     "text": [
      "\t<NORD_DS> Initial state Case5\n"
     ]
    },
    {
     "name": "stderr",
     "output_type": "stream",
     "text": [
      "100%|█████████████████████████████████████████████████████████████████████████████████████████████████████████████████| 1/1 [00:00<00:00, 3492.34it/s]\n"
     ]
    },
    {
     "name": "stdout",
     "output_type": "stream",
     "text": [
      "Drug T6 (1/1) in state Case5 - nexponential_depth{}\tnexponential_rates{}\n"
     ]
    },
    {
     "name": "stderr",
     "output_type": "stream",
     "text": [
      "100%|██████████████████████████████████████████████████████████████████████████████████████████████████████████| 1000/1000 [00:00<00:00, 27854.69it/s]\n"
     ]
    },
    {
     "name": "stdout",
     "output_type": "stream",
     "text": [
      "\t<NORD_DS> Initial state Case4\n"
     ]
    },
    {
     "name": "stderr",
     "output_type": "stream",
     "text": [
      "100%|█████████████████████████████████████████████████████████████████████████████████████████████████████████████████| 1/1 [00:00<00:00, 3600.26it/s]\n"
     ]
    },
    {
     "name": "stdout",
     "output_type": "stream",
     "text": [
      "Drug T6 (1/1) in state Case4 - nexponential_depth{}\tnexponential_rates{}\n"
     ]
    },
    {
     "name": "stderr",
     "output_type": "stream",
     "text": [
      "100%|██████████████████████████████████████████████████████████████████████████████████████████████████████████| 1000/1000 [00:00<00:00, 17789.66it/s]\n",
      "domRec ignored: No domain atoms found.\n"
     ]
    },
    {
     "name": "stdout",
     "output_type": "stream",
     "text": [
      "\t<NORD_DS> Initial state Case6\n"
     ]
    },
    {
     "name": "stderr",
     "output_type": "stream",
     "text": [
      "100%|█████████████████████████████████████████████████████████████████████████████████████████████████████████████████| 1/1 [00:00<00:00, 3584.88it/s]\n"
     ]
    },
    {
     "name": "stdout",
     "output_type": "stream",
     "text": [
      "Drug T1 (1/1) in state Case6 - nexponential_depth{}\tnexponential_rates{}\n"
     ]
    },
    {
     "name": "stderr",
     "output_type": "stream",
     "text": [
      "100%|██████████████████████████████████████████████████████████████████████████████████████████████████████████| 1000/1000 [00:00<00:00, 28779.95it/s]\n"
     ]
    },
    {
     "name": "stdout",
     "output_type": "stream",
     "text": [
      "\t<NORD_DS> Initial state Case4\n"
     ]
    },
    {
     "name": "stderr",
     "output_type": "stream",
     "text": [
      "100%|█████████████████████████████████████████████████████████████████████████████████████████████████████████████████| 1/1 [00:00<00:00, 3328.81it/s]\n"
     ]
    },
    {
     "name": "stdout",
     "output_type": "stream",
     "text": [
      "Drug T2 (1/1) in state Case4 - nexponential_depth{}\tnexponential_rates{}\n"
     ]
    },
    {
     "name": "stderr",
     "output_type": "stream",
     "text": [
      "100%|██████████████████████████████████████████████████████████████████████████████████████████████████████████| 1000/1000 [00:00<00:00, 40590.96it/s]\n"
     ]
    },
    {
     "name": "stdout",
     "output_type": "stream",
     "text": [
      "\t<NORD_DS> Initial state Case9\n"
     ]
    },
    {
     "name": "stderr",
     "output_type": "stream",
     "text": [
      "100%|█████████████████████████████████████████████████████████████████████████████████████████████████████████████████| 1/1 [00:00<00:00, 3548.48it/s]\n"
     ]
    },
    {
     "name": "stdout",
     "output_type": "stream",
     "text": [
      "Drug T6 (1/1) in state Case9 - nexponential_depth{}\tnexponential_rates{}\n"
     ]
    },
    {
     "name": "stderr",
     "output_type": "stream",
     "text": [
      "100%|██████████████████████████████████████████████████████████████████████████████████████████████████████████| 1000/1000 [00:00<00:00, 41085.18it/s]\n"
     ]
    },
    {
     "name": "stdout",
     "output_type": "stream",
     "text": [
      "It. #1: 41 samples (running avg. 41)\n",
      "<NORDic DR> Avg. #samples = 41, avg. runtime 2.0559465885162354 sec (over 1 iterations)\n"
     ]
    }
   ],
   "source": [
    "from NORDic.NORDic_DR.functions import adaptive_testing\n",
    "\n",
    "BANDIT_args = {\n",
    "    'bandit': 'LinGapE', \n",
    "    #type of algorithm, (greedy) LinGapE is faster but more prone to errors \n",
    "    #(assumes that the model is linear)\n",
    "    'seed': nbseed,\n",
    "    'delta': 0.1, #error rate\n",
    "    'nsimu': 1, #number of repeats\n",
    "    'm': 4, #number of recommendations to make\n",
    "\n",
    "    'c': 0, #nonnegative parameter to tune for MisLid (if the model is linear, set to 0\n",
    "    ## To speed up the algorithm, decrease c\n",
    "    ## To ensure correctness of the recommendation, increase c\n",
    "    'sigma': 1,\n",
    "    'beta': \"heuristic\",\n",
    "    'epsilon': 0.1,\n",
    "    'tracking_type': \"D\",\n",
    "    'gain_type': \"empirical\",\n",
    "    'learner': \"AdaHedge\"\n",
    "}\n",
    "recommendation = adaptive_testing(network_name, targets, targets, score, patients, \n",
    "        SIMU_params, BANDIT_args, reward_fname=None, quiet=False).T"
   ]
  },
  {
   "cell_type": "code",
   "execution_count": 12,
   "id": "456332b4",
   "metadata": {},
   "outputs": [
    {
     "data": {
      "text/html": [
       "<div>\n",
       "<style scoped>\n",
       "    .dataframe tbody tr th:only-of-type {\n",
       "        vertical-align: middle;\n",
       "    }\n",
       "\n",
       "    .dataframe tbody tr th {\n",
       "        vertical-align: top;\n",
       "    }\n",
       "\n",
       "    .dataframe thead th {\n",
       "        text-align: right;\n",
       "    }\n",
       "</style>\n",
       "<table border=\"1\" class=\"dataframe\">\n",
       "  <thead>\n",
       "    <tr style=\"text-align: right;\">\n",
       "      <th></th>\n",
       "      <th>Frequency</th>\n",
       "    </tr>\n",
       "  </thead>\n",
       "  <tbody>\n",
       "    <tr>\n",
       "      <th>T1</th>\n",
       "      <td>1.0</td>\n",
       "    </tr>\n",
       "    <tr>\n",
       "      <th>T2</th>\n",
       "      <td>1.0</td>\n",
       "    </tr>\n",
       "    <tr>\n",
       "      <th>T3</th>\n",
       "      <td>1.0</td>\n",
       "    </tr>\n",
       "    <tr>\n",
       "      <th>T4</th>\n",
       "      <td>0.0</td>\n",
       "    </tr>\n",
       "    <tr>\n",
       "      <th>T5</th>\n",
       "      <td>1.0</td>\n",
       "    </tr>\n",
       "    <tr>\n",
       "      <th>T6</th>\n",
       "      <td>0.0</td>\n",
       "    </tr>\n",
       "  </tbody>\n",
       "</table>\n",
       "</div>"
      ],
      "text/plain": [
       "    Frequency\n",
       "T1        1.0\n",
       "T2        1.0\n",
       "T3        1.0\n",
       "T4        0.0\n",
       "T5        1.0\n",
       "T6        0.0"
      ]
     },
     "execution_count": 12,
     "metadata": {},
     "output_type": "execute_result"
    }
   ],
   "source": [
    "recommendation"
   ]
  },
  {
   "cell_type": "code",
   "execution_count": 13,
   "id": "065f4de0",
   "metadata": {},
   "outputs": [
    {
     "name": "stderr",
     "output_type": "stream",
     "text": [
      "domRec ignored: No domain atoms found.\n",
      "\r",
      "  0%|          | 0/1 [00:00<?, ?it/s]\r",
      "100%|██████████| 1/1 [00:00<00:00, 13934.56it/s]\n",
      "\r",
      "  0%|          | 0/1000 [00:00<?, ?it/s]\r",
      "100%|██████████| 1000/1000 [00:00<00:00, 38148.42it/s]\n",
      "\r",
      "  0%|          | 0/1 [00:00<?, ?it/s]\r",
      "100%|██████████| 1/1 [00:00<00:00, 17549.39it/s]\n",
      "\r",
      "  0%|          | 0/1000 [00:00<?, ?it/s]\r",
      "100%|██████████| 1000/1000 [00:00<00:00, 42808.63it/s]domRec ignored: No domain atoms found.\n",
      "\n",
      "\r",
      "  0%|          | 0/1 [00:00<?, ?it/s]\r",
      "100%|██████████| 1/1 [00:00<00:00, 17924.38it/s]\n",
      "\r",
      "  0%|          | 0/1000 [00:00<?, ?it/s]\r",
      "100%|██████████| 1000/1000 [00:00<00:00, 40504.72it/s]domRec ignored: No domain atoms found.\n",
      "\n",
      "\r",
      "  0%|          | 0/1 [00:00<?, ?it/s]\r",
      "100%|██████████| 1/1 [00:00<00:00, 17331.83it/s]\n",
      "\r",
      "  0%|          | 0/1000 [00:00<?, ?it/s]\r",
      "100%|██████████| 1000/1000 [00:00<00:00, 41122.24it/s]domRec ignored: No domain atoms found.\n",
      "\n",
      "\r",
      "  0%|          | 0/1 [00:00<?, ?it/s]\r",
      "100%|██████████| 1/1 [00:00<00:00, 17549.39it/s]\n",
      "\r",
      "  0%|          | 0/1000 [00:00<?, ?it/s]\r",
      "100%|██████████| 1000/1000 [00:00<00:00, 39599.17it/s]\n",
      "\r",
      "  0%|          | 0/1 [00:00<?, ?it/s]\r",
      "100%|██████████| 1/1 [00:00<00:00, 17476.27it/s]\n",
      "\r",
      "  0%|          | 0/1000 [00:00<?, ?it/s]"
     ]
    },
    {
     "name": "stdout",
     "output_type": "stream",
     "text": [
      "\t<NORD_DS> Initial state Case2\n",
      "Drug T1 (1/6) in state Case2 - nexponential_depth{}\tnexponential_rates{}\n",
      "Drug T2 (2/6) in state Case2 - nexponential_depth{}\tnexponential_rates{}\n",
      "Drug T3 (3/6) in state Case2 - nexponential_depth{}\tnexponential_rates{}\n",
      "Drug T4 (4/6) in state Case2 - nexponential_depth{}\tnexponential_rates{}\n",
      "Drug T5 (5/6) in state Case2 - nexponential_depth{}\tnexponential_rates{}\n",
      "Drug T6 (6/6) in state Case2 - nexponential_depth{}\tnexponential_rates{}\n"
     ]
    },
    {
     "name": "stderr",
     "output_type": "stream",
     "text": [
      "\r",
      "100%|██████████| 1000/1000 [00:00<00:00, 43331.82it/s]domRec ignored: No domain atoms found.\n",
      "\r",
      "  0%|          | 0/1 [00:00<?, ?it/s]\r",
      "100%|██████████| 1/1 [00:00<00:00, 15252.01it/s]\n",
      "\r",
      "  0%|          | 0/1000 [00:00<?, ?it/s]\r",
      "100%|██████████| 1000/1000 [00:00<00:00, 41936.75it/s]\n",
      "\r",
      "  0%|          | 0/1 [00:00<?, ?it/s]\r",
      "100%|██████████| 1/1 [00:00<00:00, 14513.16it/s]\n",
      "\r",
      "  0%|          | 0/1000 [00:00<?, ?it/s]\r",
      "100%|██████████| 1000/1000 [00:00<00:00, 27050.08it/s]domRec ignored: No domain atoms found.\n",
      "\n",
      "\r",
      "  0%|          | 0/1 [00:00<?, ?it/s]\r",
      "100%|██████████| 1/1 [00:00<00:00, 18477.11it/s]\n",
      "\r",
      "  0%|          | 0/1000 [00:00<?, ?it/s]domRec ignored: No domain atoms found.\n"
     ]
    },
    {
     "name": "stdout",
     "output_type": "stream",
     "text": [
      "\t<NORD_DS> Initial state Case1\n",
      "Drug T1 (1/6) in state Case1 - nexponential_depth{}\tnexponential_rates{}\n",
      "Drug T2 (2/6) in state Case1 - nexponential_depth{}\tnexponential_rates{}\n",
      "Drug T3 (3/6) in state Case1 - nexponential_depth{}\tnexponential_rates{}\n",
      "\t<NORD_DS> Initial state Case3\n",
      "Drug T1 (1/6) in state Case3 - nexponential_depth{}\tnexponential_rates{}\n",
      "Drug T4 (4/6) in state Case1 - nexponential_depth{}\tnexponential_rates{}\n"
     ]
    },
    {
     "name": "stderr",
     "output_type": "stream",
     "text": [
      "\r",
      "  0%|          | 0/1 [00:00<?, ?it/s]\r",
      "100%|██████████| 1/1 [00:00<00:00, 16777.22it/s]\n",
      "\r",
      "  0%|          | 0/1000 [00:00<?, ?it/s]\r",
      "100%|██████████| 1000/1000 [00:00<00:00, 19693.05it/s]domRec ignored: No domain atoms found.\n",
      "\r",
      "100%|██████████| 1000/1000 [00:00<00:00, 28186.77it/s]\n",
      "\r",
      "  0%|          | 0/1 [00:00<?, ?it/s]\r",
      "100%|██████████| 1/1 [00:00<00:00, 14665.40it/s]\n",
      "\r",
      "  0%|          | 0/1000 [00:00<?, ?it/s]domRec ignored: No domain atoms found.\n",
      "\r",
      "  0%|          | 0/1 [00:00<?, ?it/s]\r",
      "100%|██████████| 1/1 [00:00<00:00, 16644.06it/s]\n",
      "\r",
      "  0%|          | 0/1000 [00:00<?, ?it/s]\r",
      "100%|██████████| 1000/1000 [00:00<00:00, 37637.33it/s]\n",
      "\r",
      "  0%|          | 0/1 [00:00<?, ?it/s]\r",
      "100%|██████████| 1/1 [00:00<00:00, 14074.85it/s]\n",
      "\r",
      "  0%|          | 0/1000 [00:00<?, ?it/s]\n",
      "\r",
      "  0%|          | 0/1 [00:00<?, ?it/s]\r",
      "100%|██████████| 1/1 [00:00<00:00, 18893.26it/s]\n",
      "\r",
      "  0%|          | 0/1000 [00:00<?, ?it/s]\r",
      "100%|██████████| 1000/1000 [00:00<00:00, 16228.56it/s]\r",
      "100%|██████████| 1000/1000 [00:00<00:00, 41372.92it/s]domRec ignored: No domain atoms found.\n",
      "\n",
      "\r",
      "  0%|          | 0/1 [00:00<?, ?it/s]\r",
      "100%|██████████| 1/1 [00:00<00:00, 17697.49it/s]domRec ignored: No domain atoms found.\n",
      "\n",
      "\n",
      "\r",
      "  0%|          | 0/1000 [00:00<?, ?it/s]\r",
      "  0%|          | 0/1 [00:00<?, ?it/s]\r",
      "100%|██████████| 1/1 [00:00<00:00, 18558.87it/s]\n",
      "\r",
      "  0%|          | 0/1000 [00:00<?, ?it/s]domRec ignored: No domain atoms found.\n",
      "\r",
      "100%|██████████| 1000/1000 [00:00<00:00, 17689.80it/s]domRec ignored: No domain atoms found.\n",
      "\r",
      "100%|██████████| 1000/1000 [00:00<00:00, 38273.74it/s]\n",
      "\r",
      "  0%|          | 0/1 [00:00<?, ?it/s]\r",
      "100%|██████████| 1/1 [00:00<00:00, 18396.07it/s]\n",
      "\r",
      "  0%|          | 0/1 [00:00<?, ?it/s]\r",
      "100%|██████████| 1/1 [00:00<00:00, 16194.22it/s]\n",
      "\r",
      "  0%|          | 0/1000 [00:00<?, ?it/s]domRec ignored: No domain atoms found.\n",
      "\r",
      "  0%|          | 0/1000 [00:00<?, ?it/s]\n",
      "\r",
      "  0%|          | 0/1 [00:00<?, ?it/s]\r",
      "100%|██████████| 1/1 [00:00<00:00, 17331.83it/s]\n",
      "\r",
      "  0%|          | 0/1000 [00:00<?, ?it/s]domRec ignored: No domain atoms found.\n",
      "\r",
      "100%|██████████| 1000/1000 [00:00<00:00, 18437.96it/s]\r",
      "100%|██████████| 1000/1000 [00:00<00:00, 41577.57it/s]domRec ignored: No domain atoms found.\n",
      "domRec ignored: No domain atoms found.\n",
      "\n",
      "\r",
      "100%|██████████| 1000/1000 [00:00<00:00, 21067.27it/s]"
     ]
    },
    {
     "name": "stdout",
     "output_type": "stream",
     "text": [
      "\t<NORD_DS> Initial state Case5\n",
      "Drug T1 (1/6) in state Case5 - nexponential_depth{}\tnexponential_rates{}\n",
      "Drug T2 (2/6) in state Case3 - nexponential_depth{}\tnexponential_rates{}\n",
      "Drug T2 (2/6) in state Case5 - nexponential_depth{}\tnexponential_rates{}\n",
      "Drug T3 (3/6) in state Case5 - nexponential_depth{}\tnexponential_rates{}\n",
      "Drug T5 (5/6) in state Case1 - nexponential_depth{}\tnexponential_rates{}\n",
      "\t<NORD_DS> Initial state Case4\n",
      "Drug T1 (1/6) in state Case4 - nexponential_depth{}\tnexponential_rates{}\n",
      "Drug T3 (3/6) in state Case3 - nexponential_depth{}\tnexponential_rates{}\n",
      "Drug T4 (4/6) in state Case5 - nexponential_depth{}\tnexponential_rates{}\n",
      "\t<NORD_DS> Initial state Case9\n",
      "\t<NORD_DS> Initial state Case6\n",
      "Drug T1 (1/6) in state Case6 - nexponential_depth{}\tnexponential_rates{}\n",
      "Drug T1 (1/6) in state Case9 - nexponential_depth{}\tnexponential_rates{}\n",
      "Drug T4 (4/6) in state Case3 - nexponential_depth{}\tnexponential_rates{}\n",
      "Drug T6 (6/6) in state Case1 - nexponential_depth{}\tnexponential_rates{}\n",
      "Drug T2 (2/6) in state Case4 - nexponential_depth{}\tnexponential_rates{}\n",
      "\t<NORD_DS> Initial state Case7\n",
      "Drug T1 (1/6) in state Case7 - nexponential_depth{}\tnexponential_rates{}\n",
      "\t<NORD_DS> Initial state Case8\n",
      "Drug T1 (1/6) in state Case8 - nexponential_depth{}\tnexponential_rates{}\n"
     ]
    },
    {
     "name": "stderr",
     "output_type": "stream",
     "text": [
      "domRec ignored: No domain atoms found.\n",
      "\r",
      "  0%|          | 0/1 [00:00<?, ?it/s]\r",
      "  0%|          | 0/1 [00:00<?, ?it/s]\r",
      "100%|██████████| 1/1 [00:00<00:00, 15650.39it/s]\n",
      "\r",
      "100%|██████████| 1/1 [00:00<00:00, 15477.14it/s]\r",
      "  0%|          | 0/1 [00:00<?, ?it/s]\r",
      "100%|██████████| 1/1 [00:00<00:00, 19152.07it/s]\n",
      "\n",
      "\r",
      "  0%|          | 0/1000 [00:00<?, ?it/s]\n",
      "\r",
      "  0%|          | 0/1000 [00:00<?, ?it/s]\r",
      "  0%|          | 0/1000 [00:00<?, ?it/s]\n",
      "\r",
      "  0%|          | 0/1 [00:00<?, ?it/s]\r",
      "  0%|          | 0/1 [00:00<?, ?it/s]\r",
      "100%|██████████| 1/1 [00:00<00:00, 15033.35it/s]\r",
      "100%|██████████| 1/1 [00:00<00:00, 18724.57it/s]\n",
      "\r",
      "  0%|          | 0/1000 [00:00<?, ?it/s]\n",
      "\r",
      "  0%|          | 0/1000 [00:00<?, ?it/s]domRec ignored: No domain atoms found.\n",
      "\r",
      "  0%|          | 0/1 [00:00<?, ?it/s]\r",
      "100%|██████████| 1/1 [00:00<00:00, 18315.74it/s]\n",
      "\r",
      "  0%|          | 0/1000 [00:00<?, ?it/s]\r",
      "  0%|          | 0/1 [00:00<?, ?it/s]\r",
      "100%|██████████| 1/1 [00:00<00:00, 16777.22it/s]\n",
      "\r",
      "  0%|          | 0/1000 [00:00<?, ?it/s]\r",
      "100%|██████████| 1000/1000 [00:00<00:00, 14313.81it/s]\r",
      "100%|██████████| 1000/1000 [00:00<00:00, 27318.41it/s]\r",
      "100%|██████████| 1000/1000 [00:00<00:00, 25052.74it/s]\r",
      "100%|██████████| 1000/1000 [00:00<00:00, 26387.73it/s]\r",
      "100%|██████████| 1000/1000 [00:00<00:00, 23999.54it/s]\r",
      "100%|██████████| 1000/1000 [00:00<00:00, 23605.01it/s]domRec ignored: No domain atoms found.\n",
      "domRec ignored: No domain atoms found.\n",
      "\n",
      "\r",
      "  0%|          | 0/1 [00:00<?, ?it/s]\r",
      "100%|██████████| 1/1 [00:00<00:00, 15768.06it/s]\n",
      "\r",
      "  0%|          | 0/1000 [00:00<?, ?it/s]\n",
      "\r",
      "100%|██████████| 1000/1000 [00:00<00:00, 25001.66it/s]domRec ignored: No domain atoms found.\n",
      "\n",
      "\r",
      "100%|██████████| 1000/1000 [00:00<00:00, 25047.65it/s]\r",
      "  0%|          | 0/1 [00:00<?, ?it/s]\r",
      "100%|██████████| 1/1 [00:00<00:00, 14768.68it/s]\n",
      "\n",
      "\n",
      "\r",
      "  0%|          | 0/1 [00:00<?, ?it/s]\r",
      "  0%|          | 0/1 [00:00<?, ?it/s]\r",
      "100%|██████████| 1/1 [00:00<00:00, 16448.25it/s]\r",
      "100%|██████████| 1/1 [00:00<00:00, 17050.02it/s]\n",
      "\r",
      "  0%|          | 0/1000 [00:00<?, ?it/s]\n",
      "\r",
      "  0%|          | 0/1000 [00:00<?, ?it/s]\r",
      "  0%|          | 0/1 [00:00<?, ?it/s]\n",
      "\r",
      "100%|██████████| 1/1 [00:00<00:00, 13148.29it/s]\n",
      "\r",
      "  0%|          | 0/1000 [00:00<?, ?it/s]\r",
      "  0%|          | 0/1000 [00:00<?, ?it/s]\r",
      "  0%|          | 0/1 [00:00<?, ?it/s]\r",
      "100%|██████████| 1/1 [00:00<00:00, 16384.00it/s]\n",
      "\r",
      "  0%|          | 0/1000 [00:00<?, ?it/s]\n",
      "\r",
      "  0%|          | 0/1 [00:00<?, ?it/s]\r",
      "100%|██████████| 1/1 [00:00<00:00, 18477.11it/s]\r",
      "100%|██████████| 1000/1000 [00:00<00:00, 25029.41it/s]\n",
      "\r",
      "  0%|          | 0/1000 [00:00<?, ?it/s]\r",
      "100%|██████████| 1000/1000 [00:00<00:00, 41921.66it/s]\r",
      "100%|██████████| 1000/1000 [00:00<00:00, 32781.83it/s]\r",
      "100%|██████████| 1000/1000 [00:00<00:00, 28801.30it/s]\r",
      "100%|██████████| 1000/1000 [00:00<00:00, 33695.68it/s]\n",
      "\r",
      "100%|██████████| 1000/1000 [00:00<00:00, 26649.79it/s]\n",
      "\r",
      "  0%|          | 0/1 [00:00<?, ?it/s]\r",
      "100%|██████████| 1/1 [00:00<00:00, 15947.92it/s]domRec ignored: No domain atoms found.\n",
      "\n",
      "\r",
      "  0%|          | 0/1000 [00:00<?, ?it/s]domRec ignored: No domain atoms found.\n",
      "domRec ignored: No domain atoms found.\n",
      "\r",
      "100%|██████████| 1000/1000 [00:00<00:00, 26398.36it/s]\n",
      "\n",
      "\r",
      "  0%|          | 0/1 [00:00<?, ?it/s]\r",
      "  0%|          | 0/1 [00:00<?, ?it/s]\r",
      "100%|██████████| 1/1 [00:00<00:00, 17772.47it/s]\r",
      "100%|██████████| 1/1 [00:00<00:00, 17848.10it/s]\n",
      "\n",
      "\r",
      "  0%|          | 0/1000 [00:00<?, ?it/s]\r",
      "  0%|          | 0/1000 [00:00<?, ?it/s]\r",
      "  0%|          | 0/1 [00:00<?, ?it/s]\r",
      "100%|██████████| 1/1 [00:00<00:00, 15420.24it/s]\n",
      "\r",
      "  0%|          | 0/1000 [00:00<?, ?it/s]domRec ignored: No domain atoms found.\n",
      "domRec ignored: No domain atoms found.\n",
      "\n",
      "\r",
      "  0%|          | 0/1 [00:00<?, ?it/s]\r",
      "100%|██████████| 1/1 [00:00<00:00, 17924.38it/s]\n",
      "\r",
      "  0%|          | 0/1000 [00:00<?, ?it/s]\n",
      "\n",
      "\r",
      "  0%|          | 0/1 [00:00<?, ?it/s]\r",
      "  0%|          | 0/1 [00:00<?, ?it/s]\r",
      "100%|██████████| 1/1 [00:00<00:00, 18477.11it/s]\r",
      "100%|██████████| 1/1 [00:00<00:00, 18558.87it/s]\n",
      "\n",
      "\r",
      "  0%|          | 0/1000 [00:00<?, ?it/s]\r",
      "  0%|          | 0/1000 [00:00<?, ?it/s]\r",
      "100%|██████████| 1000/1000 [00:00<00:00, 27279.85it/s]domRec ignored: No domain atoms found.\n",
      "\r",
      "100%|██████████| 1000/1000 [00:00<00:00, 38853.06it/s]\r",
      "100%|██████████| 1000/1000 [00:00<00:00, 35353.80it/s]\r",
      "100%|██████████| 1000/1000 [00:00<00:00, 25956.94it/s]\r",
      "100%|██████████| 1000/1000 [00:00<00:00, 25740.93it/s]domRec ignored: No domain atoms found.\n",
      "domRec ignored: No domain atoms found.\n",
      "\n",
      "\r",
      "  0%|          | 0/1 [00:00<?, ?it/s]\r",
      "100%|██████████| 1/1 [00:00<00:00, 17623.13it/s]\n",
      "\r",
      "  0%|          | 0/1000 [00:00<?, ?it/s]\r",
      "100%|██████████| 1000/1000 [00:00<00:00, 28693.32it/s]\r",
      "100%|██████████| 1000/1000 [00:00<00:00, 28752.14it/s]"
     ]
    },
    {
     "name": "stdout",
     "output_type": "stream",
     "text": [
      "Drug T5 (5/6) in state Case5 - nexponential_depth{}\tnexponential_rates{}\n",
      "Drug T2 (2/6) in state Case9 - nexponential_depth{}\tnexponential_rates{}\n",
      "Drug T3 (3/6) in state Case4 - nexponential_depth{}\tnexponential_rates{}\n",
      "Drug T5 (5/6) in state Case3 - nexponential_depth{}\tnexponential_rates{}\n",
      "Drug T2 (2/6) in state Case6 - nexponential_depth{}\tnexponential_rates{}\n",
      "Drug T2 (2/6) in state Case7 - nexponential_depth{}\tnexponential_rates{}\n",
      "Drug T2 (2/6) in state Case8 - nexponential_depth{}\tnexponential_rates{}\n",
      "Drug T6 (6/6) in state Case5 - nexponential_depth{}\tnexponential_rates{}\n",
      "Drug T4 (4/6) in state Case4 - nexponential_depth{}\tnexponential_rates{}\n",
      "Drug T3 (3/6) in state Case6 - nexponential_depth{}\tnexponential_rates{}\n",
      "Drug T6 (6/6) in state Case3 - nexponential_depth{}\tnexponential_rates{}\n",
      "Drug T3 (3/6) in state Case9 - nexponential_depth{}\tnexponential_rates{}\n",
      "Drug T3 (3/6) in state Case7 - nexponential_depth{}\tnexponential_rates{}\n",
      "Drug T3 (3/6) in state Case8 - nexponential_depth{}\tnexponential_rates{}\n",
      "Drug T4 (4/6) in state Case9 - nexponential_depth{}\tnexponential_rates{}\n",
      "\t<NORD_DS> Initial state Case10\n",
      "Drug T1 (1/6) in state Case10 - nexponential_depth{}\tnexponential_rates{}\n",
      "Drug T4 (4/6) in state Case6 - nexponential_depth{}\tnexponential_rates{}\n",
      "Drug T5 (5/6) in state Case4 - nexponential_depth{}\tnexponential_rates{}\n",
      "Drug T4 (4/6) in state Case7 - nexponential_depth{}\tnexponential_rates{}\n",
      "Drug T4 (4/6) in state Case8 - nexponential_depth{}\tnexponential_rates{}\n",
      "Drug T2 (2/6) in state Case10 - nexponential_depth{}\tnexponential_rates{}\n"
     ]
    },
    {
     "name": "stderr",
     "output_type": "stream",
     "text": [
      "\r",
      "  0%|          | 0/1 [00:00<?, ?it/s]\r",
      "100%|██████████| 1/1 [00:00<00:00, 15650.39it/s]\n",
      "\r",
      "  0%|          | 0/1000 [00:00<?, ?it/s]domRec ignored: No domain atoms found.\n",
      "\n",
      "\n",
      "\r",
      "  0%|          | 0/1 [00:00<?, ?it/s]\r",
      "  0%|          | 0/1 [00:00<?, ?it/s]\r",
      "100%|██████████| 1/1 [00:00<00:00, 18001.30it/s]\r",
      "100%|██████████| 1/1 [00:00<00:00, 17549.39it/s]\n",
      "\n",
      "\r",
      "  0%|          | 0/1000 [00:00<?, ?it/s]\r",
      "  0%|          | 0/1000 [00:00<?, ?it/s]domRec ignored: No domain atoms found.\n",
      "domRec ignored: No domain atoms found.\n",
      "\n",
      "\r",
      "  0%|          | 0/1 [00:00<?, ?it/s]\r",
      "100%|██████████| 1/1 [00:00<00:00, 17331.83it/s]\n",
      "\r",
      "  0%|          | 0/1000 [00:00<?, ?it/s]\n",
      "\r",
      "  0%|          | 0/1 [00:00<?, ?it/s]\r",
      "100%|██████████| 1/1 [00:00<00:00, 18396.07it/s]\n",
      "\r",
      "  0%|          | 0/1000 [00:00<?, ?it/s]\r",
      "100%|██████████| 1000/1000 [00:00<00:00, 21195.24it/s]\r",
      "100%|██████████| 1000/1000 [00:00<00:00, 28545.50it/s]\r",
      "100%|██████████| 1000/1000 [00:00<00:00, 22806.66it/s]\r",
      "100%|██████████| 1000/1000 [00:00<00:00, 25433.13it/s]\n",
      "\r",
      "  0%|          | 0/1 [00:00<?, ?it/s]\r",
      "100%|██████████| 1/1 [00:00<00:00, 16008.79it/s]\n",
      "\r",
      "  0%|          | 0/1000 [00:00<?, ?it/s]\r",
      "100%|██████████| 1000/1000 [00:00<00:00, 25815.39it/s]\n",
      "domRec ignored: No domain atoms found.\n",
      "domRec ignored: No domain atoms found.\n",
      "\n",
      "\r",
      "  0%|          | 0/1 [00:00<?, ?it/s]\n",
      "\r",
      "100%|██████████| 1/1 [00:00<00:00, 18236.10it/s]\r",
      "  0%|          | 0/1 [00:00<?, ?it/s]\r",
      "100%|██████████| 1/1 [00:00<00:00, 18724.57it/s]\n",
      "\r",
      "  0%|          | 0/1000 [00:00<?, ?it/s]\n",
      "\r",
      "  0%|          | 0/1000 [00:00<?, ?it/s]\r",
      "100%|██████████| 1000/1000 [00:00<00:00, 25431.89it/s]\r",
      "  0%|          | 0/1 [00:00<?, ?it/s]\r",
      "100%|██████████| 1/1 [00:00<00:00, 14315.03it/s]\n",
      "domRec ignored: No domain atoms found.\n",
      "\r",
      "  0%|          | 0/1000 [00:00<?, ?it/s]\r",
      "100%|██████████| 1000/1000 [00:00<00:00, 40226.57it/s]domRec ignored: No domain atoms found.\n",
      "\n",
      "\r",
      "  0%|          | 0/1 [00:00<?, ?it/s]\r",
      "100%|██████████| 1/1 [00:00<00:00, 18315.74it/s]\n",
      "\r",
      "  0%|          | 0/1000 [00:00<?, ?it/s]domRec ignored: No domain atoms found.\n",
      "\n",
      "\r",
      "  0%|          | 0/1 [00:00<?, ?it/s]\r",
      "100%|██████████| 1/1 [00:00<00:00, 16980.99it/s]\n",
      "\r",
      "  0%|          | 0/1000 [00:00<?, ?it/s]\n",
      "\r",
      "  0%|          | 0/1 [00:00<?, ?it/s]\r",
      "100%|██████████| 1/1 [00:00<00:00, 18641.35it/s]\n",
      "\r",
      "  0%|          | 0/1000 [00:00<?, ?it/s]\r",
      "100%|██████████| 1000/1000 [00:00<00:00, 42881.72it/s]\r",
      "100%|██████████| 1000/1000 [00:00<00:00, 24834.38it/s]\r",
      "100%|██████████| 1000/1000 [00:00<00:00, 22040.72it/s]\r",
      "100%|██████████| 1000/1000 [00:00<00:00, 43086.11it/s]\n",
      "domRec ignored: No domain atoms found.\n",
      "\n",
      "\r",
      "100%|██████████| 1000/1000 [00:00<00:00, 25059.32it/s]\r",
      "  0%|          | 0/1 [00:00<?, ?it/s]\r",
      "100%|██████████| 1/1 [00:00<00:00, 5210.32it/s]\n",
      "\r",
      "  0%|          | 0/1000 [00:00<?, ?it/s]\r",
      "  0%|          | 0/1 [00:00<?, ?it/s]\r",
      "100%|██████████| 1/1 [00:00<00:00, 15363.75it/s]\n",
      "\r",
      "  0%|          | 0/1000 [00:00<?, ?it/s]\n",
      "\r",
      "100%|██████████| 1000/1000 [00:00<00:00, 25846.57it/s]\r",
      "  0%|          | 0/1 [00:00<?, ?it/s]\r",
      "100%|██████████| 1/1 [00:00<00:00, 15534.46it/s]\n",
      "\n",
      "\r",
      "  0%|          | 0/1000 [00:00<?, ?it/s]\r",
      "100%|██████████| 1000/1000 [00:00<00:00, 38488.68it/s]\r",
      "100%|██████████| 1000/1000 [00:00<00:00, 40659.03it/s]\n",
      "\r",
      "  0%|          | 0/1 [00:00<?, ?it/s]\r",
      "100%|██████████| 1/1 [00:00<00:00, 16844.59it/s]\n",
      "\r",
      "  0%|          | 0/1000 [00:00<?, ?it/s]domRec ignored: No domain atoms found.\n",
      "\n",
      "\r",
      "  0%|          | 0/1 [00:00<?, ?it/s]\r",
      "100%|██████████| 1/1 [00:00<00:00, 18236.10it/s]\r",
      "  0%|          | 0/1 [00:00<?, ?it/s]\r",
      "100%|██████████| 1/1 [00:00<00:00, 14614.30it/s]\n",
      "\r",
      "  0%|          | 0/1000 [00:00<?, ?it/s]\n",
      "\r",
      "  0%|          | 0/1000 [00:00<?, ?it/s]\r",
      "100%|██████████| 1000/1000 [00:00<00:00, 46850.65it/s]\r",
      "100%|██████████| 1000/1000 [00:00<00:00, 26034.92it/s]\r",
      "100%|██████████| 1000/1000 [00:00<00:00, 39944.99it/s]\n",
      "\r",
      "  0%|          | 0/1 [00:00<?, ?it/s]\r",
      "100%|██████████| 1/1 [00:00<00:00, 16644.06it/s]\n",
      "\r",
      "  0%|          | 0/1000 [00:00<?, ?it/s]\r",
      "100%|██████████| 1000/1000 [00:00<00:00, 27005.32it/s]"
     ]
    },
    {
     "name": "stdout",
     "output_type": "stream",
     "text": [
      "Drug T5 (5/6) in state Case9 - nexponential_depth{}\tnexponential_rates{}\n",
      "Drug T5 (5/6) in state Case6 - nexponential_depth{}\tnexponential_rates{}\n",
      "Drug T6 (6/6) in state Case4 - nexponential_depth{}\tnexponential_rates{}\n",
      "Drug T5 (5/6) in state Case7 - nexponential_depth{}\tnexponential_rates{}\n",
      "Drug T3 (3/6) in state Case10 - nexponential_depth{}\tnexponential_rates{}\n",
      "Drug T5 (5/6) in state Case8 - nexponential_depth{}\tnexponential_rates{}\n",
      "Drug T4 (4/6) in state Case10 - nexponential_depth{}\tnexponential_rates{}\n",
      "Drug T6 (6/6) in state Case9 - nexponential_depth{}\tnexponential_rates{}\n",
      "Drug T6 (6/6) in state Case6 - nexponential_depth{}\tnexponential_rates{}\n",
      "Drug T6 (6/6) in state Case8 - nexponential_depth{}\tnexponential_rates{}\n",
      "Drug T5 (5/6) in state Case10 - nexponential_depth{}\tnexponential_rates{}\n",
      "Drug T6 (6/6) in state Case7 - nexponential_depth{}\tnexponential_rates{}\n",
      "Drug T6 (6/6) in state Case10 - nexponential_depth{}\tnexponential_rates{}\n"
     ]
    },
    {
     "name": "stderr",
     "output_type": "stream",
     "text": [
      "\r",
      "100%|██████████| 1000/1000 [00:00<00:00, 47532.91it/s]"
     ]
    }
   ],
   "source": [
    "## \"true\" scores\n",
    "from NORDic.NORDic_DS.functions import simulate\n",
    "\n",
    "scores = simulate(network_name, targets, patients, score,\n",
    "        simu_params=SIMU_params, nbseed=nbseed)"
   ]
  },
  {
   "cell_type": "code",
   "execution_count": 14,
   "id": "e3924169",
   "metadata": {},
   "outputs": [],
   "source": [
    "ground_truth = scores.mean(axis=0).sort_values(ascending=False)"
   ]
  },
  {
   "cell_type": "code",
   "execution_count": 15,
   "id": "30aba8e2",
   "metadata": {},
   "outputs": [
    {
     "data": {
      "text/html": [
       "<div>\n",
       "<style scoped>\n",
       "    .dataframe tbody tr th:only-of-type {\n",
       "        vertical-align: middle;\n",
       "    }\n",
       "\n",
       "    .dataframe tbody tr th {\n",
       "        vertical-align: top;\n",
       "    }\n",
       "\n",
       "    .dataframe thead th {\n",
       "        text-align: right;\n",
       "    }\n",
       "</style>\n",
       "<table border=\"1\" class=\"dataframe\">\n",
       "  <thead>\n",
       "    <tr style=\"text-align: right;\">\n",
       "      <th></th>\n",
       "      <th>Frequency</th>\n",
       "      <th>Truth</th>\n",
       "    </tr>\n",
       "  </thead>\n",
       "  <tbody>\n",
       "    <tr>\n",
       "      <th>T1</th>\n",
       "      <td>1.0</td>\n",
       "      <td>1.0</td>\n",
       "    </tr>\n",
       "    <tr>\n",
       "      <th>T2</th>\n",
       "      <td>1.0</td>\n",
       "      <td>1.0</td>\n",
       "    </tr>\n",
       "    <tr>\n",
       "      <th>T3</th>\n",
       "      <td>1.0</td>\n",
       "      <td>1.0</td>\n",
       "    </tr>\n",
       "    <tr>\n",
       "      <th>T4</th>\n",
       "      <td>0.0</td>\n",
       "      <td>0.0</td>\n",
       "    </tr>\n",
       "    <tr>\n",
       "      <th>T5</th>\n",
       "      <td>1.0</td>\n",
       "      <td>1.0</td>\n",
       "    </tr>\n",
       "    <tr>\n",
       "      <th>T6</th>\n",
       "      <td>0.0</td>\n",
       "      <td>0.0</td>\n",
       "    </tr>\n",
       "  </tbody>\n",
       "</table>\n",
       "</div>"
      ],
      "text/plain": [
       "    Frequency  Truth\n",
       "T1        1.0    1.0\n",
       "T2        1.0    1.0\n",
       "T3        1.0    1.0\n",
       "T4        0.0    0.0\n",
       "T5        1.0    1.0\n",
       "T6        0.0    0.0"
      ]
     },
     "execution_count": 15,
     "metadata": {},
     "output_type": "execute_result"
    }
   ],
   "source": [
    "recommendation.join(pd.DataFrame(ground_truth, columns=[\"Truth\"]))"
   ]
  },
  {
   "cell_type": "markdown",
   "id": "284e6f78",
   "metadata": {},
   "source": [
    "Here, for the sake of simplicity, we have selected as features the target indicators. However, adequate feature selection is crucial (removing collinearity, dimension reduction, e.g., by performing a Principal Component Analysis) in order to fully benefit from the speed-up incurred by the use of bandit algorithms, especially in large drug libraries. "
   ]
  }
 ],
 "metadata": {
  "kernelspec": {
   "display_name": "Python 3 (ipykernel)",
   "language": "python",
   "name": "python3"
  },
  "language_info": {
   "codemirror_mode": {
    "name": "ipython",
    "version": 3
   },
   "file_extension": ".py",
   "mimetype": "text/x-python",
   "name": "python",
   "nbconvert_exporter": "python",
   "pygments_lexer": "ipython3",
   "version": "3.8.5"
  }
 },
 "nbformat": 4,
 "nbformat_minor": 5
}
